{
 "cells": [
  {
   "cell_type": "markdown",
   "id": "d65954b8",
   "metadata": {},
   "source": [
    "# BirdWatch Data Cleaning and Basic EDA\n"
   ]
  },
  {
   "cell_type": "markdown",
   "id": "c9b8a968",
   "metadata": {},
   "source": [
    "## Author: Rosemarie Martienssen\n"
   ]
  },
  {
   "cell_type": "markdown",
   "id": "193973ff",
   "metadata": {},
   "source": [
    "***"
   ]
  },
  {
   "cell_type": "markdown",
   "id": "63b8c22c",
   "metadata": {},
   "source": [
    "This notebook is the first in a series of (so far) three. We use data obtained from [Project Feederwatch](https://feederwatch.org/explore/raw-dataset-requests/) which we want to leverage to predict the occurence of bird species at certain months and locations. "
   ]
  },
  {
   "cell_type": "markdown",
   "id": "4120907b",
   "metadata": {},
   "source": [
    "**On the Data Source**\n",
    "\n",
    "FeederWatch, operated by the Cornell Lab of Ornithology and Birds Canada, is a November-April survey of birds that visit backyards, nature centers, community areas, and other locales in North America. Any interested bird-enthusiast can sign up and submit data to the survey. The Data is used by many researchers to analyze bird species and factors that influence their occurence at certain sites."
   ]
  },
  {
   "cell_type": "markdown",
   "id": "9334fddc",
   "metadata": {},
   "source": [
    "### Table of contents<a class = \"anchor\" id = \"ToC\"></a>\n",
    "- [Part 0: Import required Python packages and import raw data](#Part-0)\n",
    "\n",
    "- [Part 1: Data cleaning](#Part-1)\n",
    "    - [Clean the main dataset from 2021 - 2023](#Part-1.1)\n",
    "    - [Clean the main dataset from 2016 - 2020](#Part-1.2)\n",
    "    - [Clean the main dataset from 2011 - 2015](#Part-1.3)\n",
    "    - [Clean the species dataset](#Part-1.4)\n",
    "    - [Clean the location dataset](#Part-1.5)    \n",
    "    - [Concatenate the main datasets and merge with the species dataset](#Part-1.6)\n",
    "    \n",
    "- [Part 2: Basic EDA](#Part-2)"
   ]
  },
  {
   "cell_type": "markdown",
   "id": "0194d05b",
   "metadata": {},
   "source": [
    "### Part 0: Import required Python packages and import raw data <a class = \"anchor\" id = \"Part-0\"></a>"
   ]
  },
  {
   "cell_type": "code",
   "execution_count": 2,
   "id": "608ea105",
   "metadata": {},
   "outputs": [],
   "source": [
    "#import packages\n",
    "\n",
    "import pandas as pd\n",
    "import numpy as np\n",
    "\n",
    "import matplotlib.pyplot as plt\n",
    "import seaborn as sns\n",
    "#import plotly.express as px\n",
    "\n",
    "#from scipy import stats\n",
    "#from scipy.stats import norm #used for plotting\n",
    "#import statsmodels.api as sm"
   ]
  },
  {
   "cell_type": "markdown",
   "id": "da28d9e1",
   "metadata": {},
   "source": [
    "We will import a total of 5 tables in this notebook. \n",
    "- `df_raw_2021_2023` contains the main survey information from the years 2021-2023\n",
    "- `df_raw_2016_2020` contains the main survey information from the years 2016-2020\n",
    "- `df_raw_2011_2015` contains the main survey information from the years 2011-2015\n",
    "- `df_species` contains the names of the different species, which can be mapped to the main survey tables\n",
    "- `df_location` contains additional survey information about the observation location\n",
    "\n",
    "\n",
    "We will clean these tables seperately, and then combine them into a [single table](#data_table), containing the survey information from 2011-2023\n",
    "\n"
   ]
  },
  {
   "cell_type": "code",
   "execution_count": 3,
   "id": "b84dbf61",
   "metadata": {},
   "outputs": [],
   "source": [
    "#Import 3 tables of bird feeder data into PANDAS Dataframe\n",
    "\n",
    "\n",
    "dtypes = {'alt_full_spp_code': 'str'} #Specify the datatypes for some of the columns used in order to prevent getting any warnings\n",
    "\n",
    "df_raw_2021_2023 = pd.read_csv(\"../data/raw/PFW_all_2021_2023_June2023_Public.csv\" , dtype = dtypes) \n",
    "df_raw_2016_2020 = pd.read_csv(\"../data/raw/PFW_all_2016_2020_June2023_Public.csv\", dtype = dtypes)\n",
    "df_raw_2011_2015 = pd.read_csv(\"../data/raw/PFW_all_2011_2015_June2023_Public.csv\", dtype = dtypes) "
   ]
  },
  {
   "cell_type": "code",
   "execution_count": 4,
   "id": "1fe9a0b0",
   "metadata": {},
   "outputs": [],
   "source": [
    "#Import the table containing species data into a PANDAS Dataframe\n",
    "\n",
    "df_species = pd.read_csv(\"../data/raw/PFW_spp_translation_table_May2023.csv\") "
   ]
  },
  {
   "cell_type": "markdown",
   "id": "c9d8fda9",
   "metadata": {},
   "source": [
    "**Note** *that in this version of this notebook, the code relating to the location table is commented and not executed. The table requires a lot of cleaning and since I am not yet sure how the columns will be used, the focus is on the other tables*"
   ]
  },
  {
   "cell_type": "code",
   "execution_count": 5,
   "id": "51dd64c2",
   "metadata": {},
   "outputs": [],
   "source": [
    "#Import the table containing location data into a PANDAS Dataframe\n",
    "\n",
    "#df_location = pd.read_csv(\"../data/raw/PFW_count_site_data_public_June2023.csv\") "
   ]
  },
  {
   "cell_type": "markdown",
   "id": "aa9da5a1",
   "metadata": {},
   "source": [
    "***\n",
    "***\n",
    "[Back to Table of Contents](#ToC) \n",
    "\n",
    "***\n",
    "***"
   ]
  },
  {
   "cell_type": "markdown",
   "id": "f11d09eb",
   "metadata": {},
   "source": [
    "### Part 1: Data cleaning <a class = \"anchor\" id = \"Part-1\"></a>"
   ]
  },
  {
   "cell_type": "markdown",
   "id": "3bec90e4",
   "metadata": {},
   "source": [
    "#### Main Birdfeeder Datasets `(df_raw_years)` "
   ]
  },
  {
   "cell_type": "code",
   "execution_count": 6,
   "id": "08120cf5",
   "metadata": {},
   "outputs": [
    {
     "name": "stdout",
     "output_type": "stream",
     "text": [
      " Dimensions of the dataset from 2021 - 2023: (8394814, 24)\n",
      " Dimensions of the dataset from 2016 - 2020: (9209114, 24)\n",
      " Dimensions of the dataset from 2011 - 2015: (7460559, 24)\n"
     ]
    }
   ],
   "source": [
    "#Checking the dimensions of the data tables\n",
    "\n",
    "print(f\" Dimensions of the dataset from 2021 - 2023: {df_raw_2021_2023.shape}\")\n",
    "print(f\" Dimensions of the dataset from 2016 - 2020: {df_raw_2016_2020.shape}\")\n",
    "print(f\" Dimensions of the dataset from 2011 - 2015: {df_raw_2011_2015.shape}\")"
   ]
  },
  {
   "cell_type": "markdown",
   "id": "abafb1ba",
   "metadata": {},
   "source": [
    "We have 24 columns in all three tables, but different numbers of rows"
   ]
  },
  {
   "cell_type": "code",
   "execution_count": 7,
   "id": "1d10135b",
   "metadata": {},
   "outputs": [
    {
     "data": {
      "text/html": [
       "<div>\n",
       "<style scoped>\n",
       "    .dataframe tbody tr th:only-of-type {\n",
       "        vertical-align: middle;\n",
       "    }\n",
       "\n",
       "    .dataframe tbody tr th {\n",
       "        vertical-align: top;\n",
       "    }\n",
       "\n",
       "    .dataframe thead th {\n",
       "        text-align: right;\n",
       "    }\n",
       "</style>\n",
       "<table border=\"1\" class=\"dataframe\">\n",
       "  <thead>\n",
       "    <tr style=\"text-align: right;\">\n",
       "      <th></th>\n",
       "      <th>LOC_ID</th>\n",
       "      <th>LATITUDE</th>\n",
       "      <th>LONGITUDE</th>\n",
       "      <th>SUBNATIONAL1_CODE</th>\n",
       "      <th>ENTRY_TECHNIQUE</th>\n",
       "      <th>SUB_ID</th>\n",
       "      <th>OBS_ID</th>\n",
       "      <th>Month</th>\n",
       "      <th>Day</th>\n",
       "      <th>Year</th>\n",
       "      <th>...</th>\n",
       "      <th>PLUS_CODE</th>\n",
       "      <th>VALID</th>\n",
       "      <th>REVIEWED</th>\n",
       "      <th>DAY1_AM</th>\n",
       "      <th>DAY1_PM</th>\n",
       "      <th>DAY2_AM</th>\n",
       "      <th>DAY2_PM</th>\n",
       "      <th>EFFORT_HRS_ATLEAST</th>\n",
       "      <th>SNOW_DEP_ATLEAST</th>\n",
       "      <th>Data_Entry_Method</th>\n",
       "    </tr>\n",
       "  </thead>\n",
       "  <tbody>\n",
       "    <tr>\n",
       "      <th>0</th>\n",
       "      <td>L100032</td>\n",
       "      <td>45.132361</td>\n",
       "      <td>-93.130328</td>\n",
       "      <td>US-MN</td>\n",
       "      <td>PointMaker1.0_2</td>\n",
       "      <td>S100892478</td>\n",
       "      <td>OBS1320317836</td>\n",
       "      <td>1</td>\n",
       "      <td>15</td>\n",
       "      <td>2022</td>\n",
       "      <td>...</td>\n",
       "      <td>NaN</td>\n",
       "      <td>1.0</td>\n",
       "      <td>0.0</td>\n",
       "      <td>1</td>\n",
       "      <td>0</td>\n",
       "      <td>1</td>\n",
       "      <td>1</td>\n",
       "      <td>1.001</td>\n",
       "      <td>5.0</td>\n",
       "      <td>PFW Web 4.1.5</td>\n",
       "    </tr>\n",
       "    <tr>\n",
       "      <th>1</th>\n",
       "      <td>L100032</td>\n",
       "      <td>45.132361</td>\n",
       "      <td>-93.130328</td>\n",
       "      <td>US-MN</td>\n",
       "      <td>PointMaker1.0_2</td>\n",
       "      <td>S100892478</td>\n",
       "      <td>OBS1320317837</td>\n",
       "      <td>1</td>\n",
       "      <td>15</td>\n",
       "      <td>2022</td>\n",
       "      <td>...</td>\n",
       "      <td>NaN</td>\n",
       "      <td>1.0</td>\n",
       "      <td>0.0</td>\n",
       "      <td>1</td>\n",
       "      <td>0</td>\n",
       "      <td>1</td>\n",
       "      <td>1</td>\n",
       "      <td>1.001</td>\n",
       "      <td>5.0</td>\n",
       "      <td>PFW Web 4.1.5</td>\n",
       "    </tr>\n",
       "    <tr>\n",
       "      <th>2</th>\n",
       "      <td>L100032</td>\n",
       "      <td>45.132361</td>\n",
       "      <td>-93.130328</td>\n",
       "      <td>US-MN</td>\n",
       "      <td>PointMaker1.0_2</td>\n",
       "      <td>S100892478</td>\n",
       "      <td>OBS1320317838</td>\n",
       "      <td>1</td>\n",
       "      <td>15</td>\n",
       "      <td>2022</td>\n",
       "      <td>...</td>\n",
       "      <td>NaN</td>\n",
       "      <td>1.0</td>\n",
       "      <td>0.0</td>\n",
       "      <td>1</td>\n",
       "      <td>0</td>\n",
       "      <td>1</td>\n",
       "      <td>1</td>\n",
       "      <td>1.001</td>\n",
       "      <td>5.0</td>\n",
       "      <td>PFW Web 4.1.5</td>\n",
       "    </tr>\n",
       "    <tr>\n",
       "      <th>3</th>\n",
       "      <td>L100032</td>\n",
       "      <td>45.132361</td>\n",
       "      <td>-93.130328</td>\n",
       "      <td>US-MN</td>\n",
       "      <td>PointMaker1.0_2</td>\n",
       "      <td>S100892478</td>\n",
       "      <td>OBS1320317839</td>\n",
       "      <td>1</td>\n",
       "      <td>15</td>\n",
       "      <td>2022</td>\n",
       "      <td>...</td>\n",
       "      <td>NaN</td>\n",
       "      <td>1.0</td>\n",
       "      <td>0.0</td>\n",
       "      <td>1</td>\n",
       "      <td>0</td>\n",
       "      <td>1</td>\n",
       "      <td>1</td>\n",
       "      <td>1.001</td>\n",
       "      <td>5.0</td>\n",
       "      <td>PFW Web 4.1.5</td>\n",
       "    </tr>\n",
       "    <tr>\n",
       "      <th>4</th>\n",
       "      <td>L100032</td>\n",
       "      <td>45.132361</td>\n",
       "      <td>-93.130328</td>\n",
       "      <td>US-MN</td>\n",
       "      <td>PointMaker1.0_2</td>\n",
       "      <td>S100892478</td>\n",
       "      <td>OBS1320317840</td>\n",
       "      <td>1</td>\n",
       "      <td>15</td>\n",
       "      <td>2022</td>\n",
       "      <td>...</td>\n",
       "      <td>NaN</td>\n",
       "      <td>1.0</td>\n",
       "      <td>0.0</td>\n",
       "      <td>1</td>\n",
       "      <td>0</td>\n",
       "      <td>1</td>\n",
       "      <td>1</td>\n",
       "      <td>1.001</td>\n",
       "      <td>5.0</td>\n",
       "      <td>PFW Web 4.1.5</td>\n",
       "    </tr>\n",
       "  </tbody>\n",
       "</table>\n",
       "<p>5 rows × 24 columns</p>\n",
       "</div>"
      ],
      "text/plain": [
       "    LOC_ID   LATITUDE  LONGITUDE SUBNATIONAL1_CODE  ENTRY_TECHNIQUE  \\\n",
       "0  L100032  45.132361 -93.130328             US-MN  PointMaker1.0_2   \n",
       "1  L100032  45.132361 -93.130328             US-MN  PointMaker1.0_2   \n",
       "2  L100032  45.132361 -93.130328             US-MN  PointMaker1.0_2   \n",
       "3  L100032  45.132361 -93.130328             US-MN  PointMaker1.0_2   \n",
       "4  L100032  45.132361 -93.130328             US-MN  PointMaker1.0_2   \n",
       "\n",
       "       SUB_ID         OBS_ID  Month  Day  Year  ... PLUS_CODE VALID REVIEWED  \\\n",
       "0  S100892478  OBS1320317836      1   15  2022  ...       NaN   1.0      0.0   \n",
       "1  S100892478  OBS1320317837      1   15  2022  ...       NaN   1.0      0.0   \n",
       "2  S100892478  OBS1320317838      1   15  2022  ...       NaN   1.0      0.0   \n",
       "3  S100892478  OBS1320317839      1   15  2022  ...       NaN   1.0      0.0   \n",
       "4  S100892478  OBS1320317840      1   15  2022  ...       NaN   1.0      0.0   \n",
       "\n",
       "   DAY1_AM  DAY1_PM  DAY2_AM  DAY2_PM  EFFORT_HRS_ATLEAST  SNOW_DEP_ATLEAST  \\\n",
       "0        1        0        1        1               1.001               5.0   \n",
       "1        1        0        1        1               1.001               5.0   \n",
       "2        1        0        1        1               1.001               5.0   \n",
       "3        1        0        1        1               1.001               5.0   \n",
       "4        1        0        1        1               1.001               5.0   \n",
       "\n",
       "   Data_Entry_Method  \n",
       "0      PFW Web 4.1.5  \n",
       "1      PFW Web 4.1.5  \n",
       "2      PFW Web 4.1.5  \n",
       "3      PFW Web 4.1.5  \n",
       "4      PFW Web 4.1.5  \n",
       "\n",
       "[5 rows x 24 columns]"
      ]
     },
     "execution_count": 7,
     "metadata": {},
     "output_type": "execute_result"
    }
   ],
   "source": [
    "#First look at the data\n",
    "\n",
    "df_raw_2021_2023.head()"
   ]
  },
  {
   "cell_type": "code",
   "execution_count": 8,
   "id": "6c9170bc",
   "metadata": {},
   "outputs": [
    {
     "name": "stdout",
     "output_type": "stream",
     "text": [
      "<class 'pandas.core.frame.DataFrame'>\n",
      "RangeIndex: 8394814 entries, 0 to 8394813\n",
      "Data columns (total 24 columns):\n",
      " #   Column              Dtype  \n",
      "---  ------              -----  \n",
      " 0   LOC_ID              object \n",
      " 1   LATITUDE            float64\n",
      " 2   LONGITUDE           float64\n",
      " 3   SUBNATIONAL1_CODE   object \n",
      " 4   ENTRY_TECHNIQUE     object \n",
      " 5   SUB_ID              object \n",
      " 6   OBS_ID              object \n",
      " 7   Month               int64  \n",
      " 8   Day                 int64  \n",
      " 9   Year                int64  \n",
      " 10  PROJ_PERIOD_ID      object \n",
      " 11  SPECIES_CODE        object \n",
      " 12  alt_full_spp_code   object \n",
      " 13  HOW_MANY            float64\n",
      " 14  PLUS_CODE           float64\n",
      " 15  VALID               float64\n",
      " 16  REVIEWED            float64\n",
      " 17  DAY1_AM             int64  \n",
      " 18  DAY1_PM             int64  \n",
      " 19  DAY2_AM             int64  \n",
      " 20  DAY2_PM             int64  \n",
      " 21  EFFORT_HRS_ATLEAST  float64\n",
      " 22  SNOW_DEP_ATLEAST    float64\n",
      " 23  Data_Entry_Method   object \n",
      "dtypes: float64(8), int64(7), object(9)\n",
      "memory usage: 1.5+ GB\n"
     ]
    }
   ],
   "source": [
    "#Check the data types of the columns in the dataset from 2021-2023\n",
    "\n",
    "df_raw_2021_2023.info()"
   ]
  },
  {
   "cell_type": "markdown",
   "id": "79951ef9",
   "metadata": {},
   "source": [
    "Before we continue, I want to make sure that the three tables all follow the same structure, meaning that they have the same columns and the same datatypes in each column."
   ]
  },
  {
   "cell_type": "code",
   "execution_count": 9,
   "id": "740f1f82",
   "metadata": {},
   "outputs": [
    {
     "name": "stdout",
     "output_type": "stream",
     "text": [
      "All dataframes have the same columns.\n",
      "Dataframes have different column datatypes.\n"
     ]
    }
   ],
   "source": [
    "# Check if columns are the same\n",
    "\n",
    "if df_raw_2021_2023.columns.tolist() == df_raw_2016_2020.columns.tolist() == df_raw_2011_2015.columns.tolist():\n",
    "    print(\"All dataframes have the same columns.\")\n",
    "else:\n",
    "    print(\"Dataframes have different columns.\")\n",
    "\n",
    "# Check if column datatypes are the same\n",
    "\n",
    "if df_raw_2021_2023.dtypes.equals(df_raw_2016_2020.dtypes) and df_raw_2021_2023.dtypes.equals(df_raw_2011_2015.dtypes):\n",
    "    print(\"All dataframes have the same column datatypes.\")\n",
    "else:\n",
    "    print(\"Dataframes have different column datatypes.\")"
   ]
  },
  {
   "cell_type": "markdown",
   "id": "33202abd",
   "metadata": {},
   "source": [
    "This is not the result we were hoping for when comparing datatypes. This means we need to clean the tables seperately, then make sure datatypes align, before we can concatenate them into one big table.\n",
    "\n",
    "#### Clean the `df_raw_2021_2023` table: <a class = \"anchor\" id = \"Part-1.1\"></a>"
   ]
  },
  {
   "cell_type": "code",
   "execution_count": 10,
   "id": "f0da4804",
   "metadata": {},
   "outputs": [
    {
     "data": {
      "text/plain": [
       "LOC_ID                      0\n",
       "LATITUDE                    0\n",
       "LONGITUDE                   0\n",
       "SUBNATIONAL1_CODE           0\n",
       "ENTRY_TECHNIQUE        255951\n",
       "SUB_ID                      0\n",
       "OBS_ID                   7893\n",
       "Month                       0\n",
       "Day                         0\n",
       "Year                        0\n",
       "PROJ_PERIOD_ID              0\n",
       "SPECIES_CODE                0\n",
       "alt_full_spp_code     8346300\n",
       "HOW_MANY                 7893\n",
       "PLUS_CODE             8394814\n",
       "VALID                    7893\n",
       "REVIEWED                 7893\n",
       "DAY1_AM                     0\n",
       "DAY1_PM                     0\n",
       "DAY2_AM                     0\n",
       "DAY2_PM                     0\n",
       "EFFORT_HRS_ATLEAST      14557\n",
       "SNOW_DEP_ATLEAST       782968\n",
       "Data_Entry_Method           0\n",
       "dtype: int64"
      ]
     },
     "execution_count": 10,
     "metadata": {},
     "output_type": "execute_result"
    }
   ],
   "source": [
    "#Check for the number of na values in each column\n",
    "\n",
    "df_raw_2021_2023.isna().sum()"
   ]
  },
  {
   "cell_type": "markdown",
   "id": "daca1e9c",
   "metadata": {},
   "source": [
    "A lot of columns have null values. We will look at each one of them, starting with `ENTRY_TECHNIQUE`"
   ]
  },
  {
   "cell_type": "code",
   "execution_count": 11,
   "id": "056b373d",
   "metadata": {},
   "outputs": [
    {
     "data": {
      "text/plain": [
       "ENTRY_TECHNIQUE\n",
       "/GOOGLE_MAP/ZOOM:15                          3743240\n",
       "/GOOGLE_MAP/ZOOM:18                          1261994\n",
       "POSTCODE LAT/LONG LOOKUP                      634934\n",
       "ESRI_WEBSERVICE_STREET                        565609\n",
       "PointMaker1.0_2                               298989\n",
       "                                              ...   \n",
       "otherMicrosoft Streets and Trips                  91\n",
       "LocCreateAPI                                      91\n",
       "otherPFW Mapping Tool                             63\n",
       "ESRI_WEBSERVICE_STREET/GOOGLE_MAP/ZOOM:-4          9\n",
       "othertowns.USA.org                                 1\n",
       "Name: count, Length: 116, dtype: int64"
      ]
     },
     "execution_count": 11,
     "metadata": {},
     "output_type": "execute_result"
    }
   ],
   "source": [
    "#Check the values in the ENTRY_TECHNIQUE column and how many times they occur\n",
    "\n",
    "df_raw_2021_2023[\"ENTRY_TECHNIQUE\"].value_counts() "
   ]
  },
  {
   "cell_type": "markdown",
   "id": "321e57cb",
   "metadata": {},
   "source": [
    "The information contained in this column is not fundamental to the goal of this project. Let's remove the column entirely. We can save the data in a new dataframe to leave the raw data untouched"
   ]
  },
  {
   "cell_type": "code",
   "execution_count": 12,
   "id": "8191e43c",
   "metadata": {},
   "outputs": [
    {
     "data": {
      "text/plain": [
       "(8394814, 23)"
      ]
     },
     "execution_count": 12,
     "metadata": {},
     "output_type": "execute_result"
    }
   ],
   "source": [
    "#Drop the values in the ENTRY_TECHNIQUE column \n",
    "\n",
    "df_birdfeeder_2021_2023 = df_raw_2021_2023.drop('ENTRY_TECHNIQUE', axis=1, inplace=False)\n",
    "df_birdfeeder_2021_2023.shape "
   ]
  },
  {
   "cell_type": "markdown",
   "id": "82eff038",
   "metadata": {},
   "source": [
    "***"
   ]
  },
  {
   "cell_type": "code",
   "execution_count": 13,
   "id": "be95c891",
   "metadata": {},
   "outputs": [
    {
     "data": {
      "text/plain": [
       "LOC_ID                      0\n",
       "LATITUDE                    0\n",
       "LONGITUDE                   0\n",
       "SUBNATIONAL1_CODE           0\n",
       "SUB_ID                      0\n",
       "OBS_ID                   7893\n",
       "Month                       0\n",
       "Day                         0\n",
       "Year                        0\n",
       "PROJ_PERIOD_ID              0\n",
       "SPECIES_CODE                0\n",
       "alt_full_spp_code     8346300\n",
       "HOW_MANY                 7893\n",
       "PLUS_CODE             8394814\n",
       "VALID                    7893\n",
       "REVIEWED                 7893\n",
       "DAY1_AM                     0\n",
       "DAY1_PM                     0\n",
       "DAY2_AM                     0\n",
       "DAY2_PM                     0\n",
       "EFFORT_HRS_ATLEAST      14557\n",
       "SNOW_DEP_ATLEAST       782968\n",
       "Data_Entry_Method           0\n",
       "dtype: int64"
      ]
     },
     "execution_count": 13,
     "metadata": {},
     "output_type": "execute_result"
    }
   ],
   "source": [
    "#Look at the null values again\n",
    "\n",
    "df_birdfeeder_2021_2023.isna().sum() "
   ]
  },
  {
   "cell_type": "markdown",
   "id": "2a26f190",
   "metadata": {},
   "source": [
    "The `OBS_ID` column is the \"Unique identifier for each observation of a species\", according to the data dictionary. Interestingly the number of NA values here coincides with the number of na values in some other columns"
   ]
  },
  {
   "cell_type": "code",
   "execution_count": 14,
   "id": "0adf2027",
   "metadata": {},
   "outputs": [],
   "source": [
    "#Get a filtered dataframe containing all the rows that have null values in the OBS_ID column\n",
    "\n",
    "temp_df = df_birdfeeder_2021_2023[df_birdfeeder_2021_2023['OBS_ID'].isna()]"
   ]
  },
  {
   "cell_type": "code",
   "execution_count": 15,
   "id": "649d14f8",
   "metadata": {},
   "outputs": [
    {
     "data": {
      "text/plain": [
       "(7893, 23)"
      ]
     },
     "execution_count": 15,
     "metadata": {},
     "output_type": "execute_result"
    }
   ],
   "source": [
    "temp_df.shape #Sanity Check"
   ]
  },
  {
   "cell_type": "code",
   "execution_count": 16,
   "id": "e765998f",
   "metadata": {},
   "outputs": [
    {
     "data": {
      "text/plain": [
       "LOC_ID                   0\n",
       "LATITUDE                 0\n",
       "LONGITUDE                0\n",
       "SUBNATIONAL1_CODE        0\n",
       "SUB_ID                   0\n",
       "OBS_ID                7893\n",
       "Month                    0\n",
       "Day                      0\n",
       "Year                     0\n",
       "PROJ_PERIOD_ID           0\n",
       "SPECIES_CODE             0\n",
       "alt_full_spp_code     7893\n",
       "HOW_MANY              7893\n",
       "PLUS_CODE             7893\n",
       "VALID                 7893\n",
       "REVIEWED              7893\n",
       "DAY1_AM                  0\n",
       "DAY1_PM                  0\n",
       "DAY2_AM                  0\n",
       "DAY2_PM                  0\n",
       "EFFORT_HRS_ATLEAST     388\n",
       "SNOW_DEP_ATLEAST      1510\n",
       "Data_Entry_Method        0\n",
       "dtype: int64"
      ]
     },
     "execution_count": 16,
     "metadata": {},
     "output_type": "execute_result"
    }
   ],
   "source": [
    "#Check the na values in the newly created dataframe\n",
    "\n",
    "temp_df.isna().sum()"
   ]
  },
  {
   "cell_type": "markdown",
   "id": "727aa3d3",
   "metadata": {},
   "source": [
    "As suspected, there is data missing across different columns in the selected rows. Given the size of the dataframe, we can simply remove these."
   ]
  },
  {
   "cell_type": "code",
   "execution_count": 17,
   "id": "f29b62b9",
   "metadata": {},
   "outputs": [],
   "source": [
    "#Replace the dataframe by the version without null values in the OBS_ID column\n",
    "\n",
    "df_birdfeeder_2021_2023 = df_birdfeeder_2021_2023.dropna(subset=['OBS_ID'])"
   ]
  },
  {
   "cell_type": "code",
   "execution_count": 18,
   "id": "8717b48b",
   "metadata": {},
   "outputs": [
    {
     "data": {
      "text/plain": [
       "(8386921, 23)"
      ]
     },
     "execution_count": 18,
     "metadata": {},
     "output_type": "execute_result"
    }
   ],
   "source": [
    "df_birdfeeder_2021_2023.shape #Sanity Check"
   ]
  },
  {
   "cell_type": "markdown",
   "id": "0a178ae4",
   "metadata": {},
   "source": [
    "***"
   ]
  },
  {
   "cell_type": "code",
   "execution_count": 19,
   "id": "1c42afb0",
   "metadata": {},
   "outputs": [
    {
     "data": {
      "text/plain": [
       "LOC_ID                      0\n",
       "LATITUDE                    0\n",
       "LONGITUDE                   0\n",
       "SUBNATIONAL1_CODE           0\n",
       "SUB_ID                      0\n",
       "OBS_ID                      0\n",
       "Month                       0\n",
       "Day                         0\n",
       "Year                        0\n",
       "PROJ_PERIOD_ID              0\n",
       "SPECIES_CODE                0\n",
       "alt_full_spp_code     8338407\n",
       "HOW_MANY                    0\n",
       "PLUS_CODE             8386921\n",
       "VALID                       0\n",
       "REVIEWED                    0\n",
       "DAY1_AM                     0\n",
       "DAY1_PM                     0\n",
       "DAY2_AM                     0\n",
       "DAY2_PM                     0\n",
       "EFFORT_HRS_ATLEAST      14169\n",
       "SNOW_DEP_ATLEAST       781458\n",
       "Data_Entry_Method           0\n",
       "dtype: int64"
      ]
     },
     "execution_count": 19,
     "metadata": {},
     "output_type": "execute_result"
    }
   ],
   "source": [
    "#Check the null values again\n",
    "\n",
    "df_birdfeeder_2021_2023.isna().sum() "
   ]
  },
  {
   "cell_type": "markdown",
   "id": "b6b9fbcc",
   "metadata": {},
   "source": [
    "Focusing on the `alt_full_spp_code` column, this is the description from the data dictionary: \n",
    "\n",
    "This column enables someone to \"roll up\" information on subspecies and recognizable forms into the species code of the full species instead of the code for the recognizable form. The species code values for the subspecies/forms are still the primary information stored in the column `SPECIES_CODE`, but the alternate code for the full species is available in the column immediately to its right."
   ]
  },
  {
   "cell_type": "code",
   "execution_count": 20,
   "id": "ceb15116",
   "metadata": {},
   "outputs": [
    {
     "data": {
      "text/plain": [
       "alt_full_spp_code\n",
       "rocpig     23521\n",
       "daejun     16679\n",
       "norfli      2757\n",
       "yerwar      1400\n",
       "mallar3     1137\n",
       "musduc       597\n",
       "foxspa       497\n",
       "reshaw       402\n",
       "grbher3      382\n",
       "rethaw       184\n",
       "norcar       179\n",
       "greegr       142\n",
       "rewbla        99\n",
       "amekes        68\n",
       "monpar        61\n",
       "houwre        61\n",
       "y00678        55\n",
       "merlin        45\n",
       "eastow        42\n",
       "hergul        40\n",
       "palwar        37\n",
       "sancra        31\n",
       "orcwar        23\n",
       "turvul        11\n",
       "osprey         9\n",
       "y00475         9\n",
       "sonspa         8\n",
       "savspa         8\n",
       "herthr         7\n",
       "cangoo         5\n",
       "easmea         4\n",
       "amerob         3\n",
       "commer         3\n",
       "comcan         2\n",
       "nrwswa         1\n",
       "compea         1\n",
       "purmar         1\n",
       "nopowl         1\n",
       "whcspa         1\n",
       "wlswar         1\n",
       "Name: count, dtype: int64"
      ]
     },
     "execution_count": 20,
     "metadata": {},
     "output_type": "execute_result"
    }
   ],
   "source": [
    "#Check the values of the column \"alt_full_spp_code\" and how many times they occur\n",
    "\n",
    "df_birdfeeder_2021_2023[\"alt_full_spp_code\"].value_counts() "
   ]
  },
  {
   "cell_type": "markdown",
   "id": "a7603ddb",
   "metadata": {},
   "source": [
    "Leaving the  `alt_full_spp_code` column as it is for the moment, as I am not sure yet how (or if) I will use it. At the moment, about 99% of values in the columns are missing, but it seems like it was meant to be populated during analysis (?)\n",
    "\n",
    "\n"
   ]
  },
  {
   "cell_type": "markdown",
   "id": "038300ad",
   "metadata": {},
   "source": [
    "Moving on to the `plus-code` column, the data dictionary says the following: \n",
    "\n",
    "\"Data field used on historic paper data forms (no longer being populated) ....\" \n",
    "It seems safe to simply remove the column."
   ]
  },
  {
   "cell_type": "code",
   "execution_count": 21,
   "id": "fdb9a620",
   "metadata": {},
   "outputs": [],
   "source": [
    "#Drop the \"plus_code\" column from the df\n",
    "\n",
    "df_birdfeeder_2021_2023 = df_birdfeeder_2021_2023.drop('PLUS_CODE', axis=1, inplace=False) "
   ]
  },
  {
   "cell_type": "code",
   "execution_count": 22,
   "id": "8182a6bc",
   "metadata": {},
   "outputs": [
    {
     "data": {
      "text/plain": [
       "(8386921, 22)"
      ]
     },
     "execution_count": 22,
     "metadata": {},
     "output_type": "execute_result"
    }
   ],
   "source": [
    "df_birdfeeder_2021_2023.shape #Sanity Check"
   ]
  },
  {
   "cell_type": "markdown",
   "id": "d01c3178",
   "metadata": {},
   "source": [
    "***"
   ]
  },
  {
   "cell_type": "code",
   "execution_count": 23,
   "id": "d966bcdc",
   "metadata": {},
   "outputs": [
    {
     "data": {
      "text/plain": [
       "LOC_ID                      0\n",
       "LATITUDE                    0\n",
       "LONGITUDE                   0\n",
       "SUBNATIONAL1_CODE           0\n",
       "SUB_ID                      0\n",
       "OBS_ID                      0\n",
       "Month                       0\n",
       "Day                         0\n",
       "Year                        0\n",
       "PROJ_PERIOD_ID              0\n",
       "SPECIES_CODE                0\n",
       "alt_full_spp_code     8338407\n",
       "HOW_MANY                    0\n",
       "VALID                       0\n",
       "REVIEWED                    0\n",
       "DAY1_AM                     0\n",
       "DAY1_PM                     0\n",
       "DAY2_AM                     0\n",
       "DAY2_PM                     0\n",
       "EFFORT_HRS_ATLEAST      14169\n",
       "SNOW_DEP_ATLEAST       781458\n",
       "Data_Entry_Method           0\n",
       "dtype: int64"
      ]
     },
     "execution_count": 23,
     "metadata": {},
     "output_type": "execute_result"
    }
   ],
   "source": [
    "#Check the null values again\n",
    "\n",
    "df_birdfeeder_2021_2023.isna().sum()"
   ]
  },
  {
   "cell_type": "markdown",
   "id": "734fa58d",
   "metadata": {},
   "source": [
    "The `EFFORT_HRS_ATLEAST` column will not be of interest in this project and can also be removed"
   ]
  },
  {
   "cell_type": "code",
   "execution_count": 24,
   "id": "5e6a6d86",
   "metadata": {},
   "outputs": [
    {
     "data": {
      "text/plain": [
       "(8386921, 21)"
      ]
     },
     "execution_count": 24,
     "metadata": {},
     "output_type": "execute_result"
    }
   ],
   "source": [
    "#Drop the 'EFFORT_HRS_ATLEAST' column from the dataset and check the size of the dataset\n",
    "\n",
    "df_birdfeeder_2021_2023 = df_birdfeeder_2021_2023.drop('EFFORT_HRS_ATLEAST', axis=1, inplace=False) \n",
    "df_birdfeeder_2021_2023.shape"
   ]
  },
  {
   "cell_type": "markdown",
   "id": "229ecfe9",
   "metadata": {},
   "source": [
    "Now the last column left to examine is about the snow depth: `SNOW_DEP_ATLEAST`"
   ]
  },
  {
   "cell_type": "code",
   "execution_count": 25,
   "id": "cf18a248",
   "metadata": {},
   "outputs": [
    {
     "data": {
      "text/plain": [
       "SNOW_DEP_ATLEAST\n",
       "0.000     4992865\n",
       "0.001     1038294\n",
       "5.000      879946\n",
       "15.001     694358\n",
       "Name: count, dtype: int64"
      ]
     },
     "execution_count": 25,
     "metadata": {},
     "output_type": "execute_result"
    }
   ],
   "source": [
    "#Check the values of the \"SNOW_DEP_ATLEAST\" column to decide what to do with it\n",
    "\n",
    "df_birdfeeder_2021_2023[\"SNOW_DEP_ATLEAST\"].value_counts()"
   ]
  },
  {
   "cell_type": "code",
   "execution_count": 26,
   "id": "cdf967ad",
   "metadata": {},
   "outputs": [
    {
     "data": {
      "text/plain": [
       "9.317579121110118"
      ]
     },
     "execution_count": 26,
     "metadata": {},
     "output_type": "execute_result"
    }
   ],
   "source": [
    "#Checking the percentage of missing values in the \"SNOW_DEP_ATLEAST\" column\n",
    "\n",
    "781458/df_birdfeeder_2021_2023.shape[0] * 100 "
   ]
  },
  {
   "cell_type": "markdown",
   "id": "52961554",
   "metadata": {},
   "source": [
    "I am not sure at the moment how and if I will be using this column, so leaving it for now.\n",
    "***"
   ]
  },
  {
   "cell_type": "code",
   "execution_count": 27,
   "id": "e047b03b",
   "metadata": {},
   "outputs": [
    {
     "data": {
      "text/plain": [
       "LOC_ID                     0\n",
       "LATITUDE                   0\n",
       "LONGITUDE                  0\n",
       "SUBNATIONAL1_CODE          0\n",
       "SUB_ID                     0\n",
       "OBS_ID                     0\n",
       "Month                      0\n",
       "Day                        0\n",
       "Year                       0\n",
       "PROJ_PERIOD_ID             0\n",
       "SPECIES_CODE               0\n",
       "alt_full_spp_code    8338407\n",
       "HOW_MANY                   0\n",
       "VALID                      0\n",
       "REVIEWED                   0\n",
       "DAY1_AM                    0\n",
       "DAY1_PM                    0\n",
       "DAY2_AM                    0\n",
       "DAY2_PM                    0\n",
       "SNOW_DEP_ATLEAST      781458\n",
       "Data_Entry_Method          0\n",
       "dtype: int64"
      ]
     },
     "execution_count": 27,
     "metadata": {},
     "output_type": "execute_result"
    }
   ],
   "source": [
    "#Check the null values in the dataframe again\n",
    "\n",
    "df_birdfeeder_2021_2023.isna().sum()"
   ]
  },
  {
   "cell_type": "markdown",
   "id": "5fc6c41f",
   "metadata": {},
   "source": [
    "***\n",
    "***"
   ]
  },
  {
   "cell_type": "markdown",
   "id": "03fbc362",
   "metadata": {},
   "source": [
    "Done with the null values (for now!) Moving on to check for any duplicate rows:"
   ]
  },
  {
   "cell_type": "code",
   "execution_count": 28,
   "id": "7c01bac7",
   "metadata": {},
   "outputs": [
    {
     "data": {
      "text/html": [
       "<div>\n",
       "<style scoped>\n",
       "    .dataframe tbody tr th:only-of-type {\n",
       "        vertical-align: middle;\n",
       "    }\n",
       "\n",
       "    .dataframe tbody tr th {\n",
       "        vertical-align: top;\n",
       "    }\n",
       "\n",
       "    .dataframe thead th {\n",
       "        text-align: right;\n",
       "    }\n",
       "</style>\n",
       "<table border=\"1\" class=\"dataframe\">\n",
       "  <thead>\n",
       "    <tr style=\"text-align: right;\">\n",
       "      <th></th>\n",
       "      <th>LOC_ID</th>\n",
       "      <th>LATITUDE</th>\n",
       "      <th>LONGITUDE</th>\n",
       "      <th>SUBNATIONAL1_CODE</th>\n",
       "      <th>SUB_ID</th>\n",
       "      <th>OBS_ID</th>\n",
       "      <th>Month</th>\n",
       "      <th>Day</th>\n",
       "      <th>Year</th>\n",
       "      <th>PROJ_PERIOD_ID</th>\n",
       "      <th>...</th>\n",
       "      <th>alt_full_spp_code</th>\n",
       "      <th>HOW_MANY</th>\n",
       "      <th>VALID</th>\n",
       "      <th>REVIEWED</th>\n",
       "      <th>DAY1_AM</th>\n",
       "      <th>DAY1_PM</th>\n",
       "      <th>DAY2_AM</th>\n",
       "      <th>DAY2_PM</th>\n",
       "      <th>SNOW_DEP_ATLEAST</th>\n",
       "      <th>Data_Entry_Method</th>\n",
       "    </tr>\n",
       "  </thead>\n",
       "  <tbody>\n",
       "  </tbody>\n",
       "</table>\n",
       "<p>0 rows × 21 columns</p>\n",
       "</div>"
      ],
      "text/plain": [
       "Empty DataFrame\n",
       "Columns: [LOC_ID, LATITUDE, LONGITUDE, SUBNATIONAL1_CODE, SUB_ID, OBS_ID, Month, Day, Year, PROJ_PERIOD_ID, SPECIES_CODE, alt_full_spp_code, HOW_MANY, VALID, REVIEWED, DAY1_AM, DAY1_PM, DAY2_AM, DAY2_PM, SNOW_DEP_ATLEAST, Data_Entry_Method]\n",
       "Index: []\n",
       "\n",
       "[0 rows x 21 columns]"
      ]
     },
     "execution_count": 28,
     "metadata": {},
     "output_type": "execute_result"
    }
   ],
   "source": [
    "#Display duplicate rows in the dataframe\n",
    "\n",
    "df_birdfeeder_2021_2023[df_birdfeeder_2021_2023.duplicated()]"
   ]
  },
  {
   "cell_type": "markdown",
   "id": "7b41114c",
   "metadata": {},
   "source": [
    "Seems like we have no duplicate rows!"
   ]
  },
  {
   "cell_type": "markdown",
   "id": "8cf4f56b",
   "metadata": {},
   "source": [
    "***\n",
    "***"
   ]
  },
  {
   "cell_type": "markdown",
   "id": "a7e9a732",
   "metadata": {},
   "source": [
    "Next, we investigate the two columns `VALID` and `REVIEWED`. According to the Data Source Website, these columns are used to flag records that are unexpected / may need validation or additional evidence. "
   ]
  },
  {
   "cell_type": "code",
   "execution_count": 29,
   "id": "328ae8d6",
   "metadata": {},
   "outputs": [
    {
     "data": {
      "text/plain": [
       "VALID\n",
       "1.0    8336959\n",
       "0.0      49962\n",
       "Name: count, dtype: int64"
      ]
     },
     "execution_count": 29,
     "metadata": {},
     "output_type": "execute_result"
    }
   ],
   "source": [
    "df_birdfeeder_2021_2023['VALID'].value_counts()"
   ]
  },
  {
   "cell_type": "code",
   "execution_count": 30,
   "id": "50407218",
   "metadata": {},
   "outputs": [
    {
     "data": {
      "text/plain": [
       "REVIEWED\n",
       "0.0    8351139\n",
       "1.0      35782\n",
       "Name: count, dtype: int64"
      ]
     },
     "execution_count": 30,
     "metadata": {},
     "output_type": "execute_result"
    }
   ],
   "source": [
    "df_birdfeeder_2021_2023['REVIEWED'].value_counts()"
   ]
  },
  {
   "cell_type": "markdown",
   "id": "87fc52bd",
   "metadata": {},
   "source": [
    "We need to see the combination of these two values to really make sense of them"
   ]
  },
  {
   "cell_type": "code",
   "execution_count": 31,
   "id": "f093982d",
   "metadata": {},
   "outputs": [
    {
     "data": {
      "text/plain": [
       "VALID  REVIEWED\n",
       "0.0    0.0           49878\n",
       "       1.0              84\n",
       "1.0    0.0         8301261\n",
       "       1.0           35698\n",
       "Name: count, dtype: int64"
      ]
     },
     "execution_count": 31,
     "metadata": {},
     "output_type": "execute_result"
    }
   ],
   "source": [
    "#Use the groupby function to see the valid and reviewd columns\n",
    "\n",
    "df_birdfeeder_2021_2023.groupby(['VALID'])['REVIEWED'].value_counts()"
   ]
  },
  {
   "cell_type": "markdown",
   "id": "03885514",
   "metadata": {},
   "source": [
    "- `VALID` = 1 and `REVIEWED` = 0 : Data did not trigger the automatic flagging system and was accepted into the database without review\n",
    "- `VALID` = 1 and `REVIEWED` = 1 : Data triggered the flagging system and was approved by an expert reviewer\n",
    "- `VALID` = 0 and `REVIEWED` = 0 : Data triggered a flag by the automated system and awaits the review process \n",
    "- `VALID` = 0 and `REVIEWED` = 1 : Data triggered a flag by the automated system and was reviewed; insufficient evidence was provided to confirm the report\n",
    "\n",
    "We only want to keep the valid data. While there is some data that is awaiting review, given the numbers it seems unlikely that these will have a big effect, so it seems safe to remove all the rows that have `VALID` = 0."
   ]
  },
  {
   "cell_type": "code",
   "execution_count": 32,
   "id": "524cad85",
   "metadata": {},
   "outputs": [],
   "source": [
    "#Remove invalid rows from the dataframe by keeping only the valid ones\n",
    "\n",
    "df_birdfeeder_2021_2023 = df_birdfeeder_2021_2023[df_birdfeeder_2021_2023['VALID'] == 1]"
   ]
  },
  {
   "cell_type": "code",
   "execution_count": 33,
   "id": "1dbecde9",
   "metadata": {},
   "outputs": [
    {
     "data": {
      "text/plain": [
       "VALID  REVIEWED\n",
       "1.0    0.0         8301261\n",
       "       1.0           35698\n",
       "Name: count, dtype: int64"
      ]
     },
     "execution_count": 33,
     "metadata": {},
     "output_type": "execute_result"
    }
   ],
   "source": [
    "#Sanity Check\n",
    "\n",
    "df_birdfeeder_2021_2023.groupby(['VALID'])['REVIEWED'].value_counts()"
   ]
  },
  {
   "cell_type": "markdown",
   "id": "2efb5243",
   "metadata": {},
   "source": [
    "Now there is no more need for the two columns, so they can be removed."
   ]
  },
  {
   "cell_type": "code",
   "execution_count": 34,
   "id": "19e99848",
   "metadata": {},
   "outputs": [],
   "source": [
    "#Drop the valid and reviewed columns\n",
    "\n",
    "df_birdfeeder_2021_2023 = df_birdfeeder_2021_2023.drop(['VALID', 'REVIEWED'], axis=1, inplace=False) "
   ]
  },
  {
   "cell_type": "code",
   "execution_count": 35,
   "id": "b6c9dbf9",
   "metadata": {},
   "outputs": [
    {
     "name": "stdout",
     "output_type": "stream",
     "text": [
      "<class 'pandas.core.frame.DataFrame'>\n",
      "Index: 8336959 entries, 0 to 8394813\n",
      "Data columns (total 19 columns):\n",
      " #   Column             Dtype  \n",
      "---  ------             -----  \n",
      " 0   LOC_ID             object \n",
      " 1   LATITUDE           float64\n",
      " 2   LONGITUDE          float64\n",
      " 3   SUBNATIONAL1_CODE  object \n",
      " 4   SUB_ID             object \n",
      " 5   OBS_ID             object \n",
      " 6   Month              int64  \n",
      " 7   Day                int64  \n",
      " 8   Year               int64  \n",
      " 9   PROJ_PERIOD_ID     object \n",
      " 10  SPECIES_CODE       object \n",
      " 11  alt_full_spp_code  object \n",
      " 12  HOW_MANY           float64\n",
      " 13  DAY1_AM            int64  \n",
      " 14  DAY1_PM            int64  \n",
      " 15  DAY2_AM            int64  \n",
      " 16  DAY2_PM            int64  \n",
      " 17  SNOW_DEP_ATLEAST   float64\n",
      " 18  Data_Entry_Method  object \n",
      "dtypes: float64(4), int64(7), object(8)\n",
      "memory usage: 1.2+ GB\n"
     ]
    }
   ],
   "source": [
    "df_birdfeeder_2021_2023.info()"
   ]
  },
  {
   "cell_type": "markdown",
   "id": "89d4834a",
   "metadata": {},
   "source": [
    "***\n",
    "***\n",
    "***"
   ]
  },
  {
   "cell_type": "markdown",
   "id": "9b86d20a",
   "metadata": {},
   "source": [
    "We can now move on to the next table, which contains the data from the years 2016 - 2020.\n",
    "\n",
    "#### Clean the `df_raw_2016_2020` table: <a class = \"anchor\" id = \"Part-1.2\"></a>"
   ]
  },
  {
   "cell_type": "code",
   "execution_count": 36,
   "id": "b62b9658",
   "metadata": {},
   "outputs": [
    {
     "data": {
      "text/plain": [
       "(9209114, 24)"
      ]
     },
     "execution_count": 36,
     "metadata": {},
     "output_type": "execute_result"
    }
   ],
   "source": [
    "#Check the dimensions of the table\n",
    "\n",
    "df_raw_2016_2020.shape"
   ]
  },
  {
   "cell_type": "code",
   "execution_count": 37,
   "id": "5c2cee45",
   "metadata": {},
   "outputs": [
    {
     "name": "stdout",
     "output_type": "stream",
     "text": [
      "<class 'pandas.core.frame.DataFrame'>\n",
      "RangeIndex: 9209114 entries, 0 to 9209113\n",
      "Data columns (total 24 columns):\n",
      " #   Column              Dtype  \n",
      "---  ------              -----  \n",
      " 0   LOC_ID              object \n",
      " 1   LATITUDE            float64\n",
      " 2   LONGITUDE           float64\n",
      " 3   SUBNATIONAL1_CODE   object \n",
      " 4   ENTRY_TECHNIQUE     object \n",
      " 5   SUB_ID              object \n",
      " 6   OBS_ID              object \n",
      " 7   Month               int64  \n",
      " 8   Day                 int64  \n",
      " 9   Year                int64  \n",
      " 10  PROJ_PERIOD_ID      object \n",
      " 11  SPECIES_CODE        object \n",
      " 12  alt_full_spp_code   object \n",
      " 13  HOW_MANY            float64\n",
      " 14  PLUS_CODE           float64\n",
      " 15  VALID               float64\n",
      " 16  REVIEWED            float64\n",
      " 17  DAY1_AM             float64\n",
      " 18  DAY1_PM             float64\n",
      " 19  DAY2_AM             float64\n",
      " 20  DAY2_PM             float64\n",
      " 21  EFFORT_HRS_ATLEAST  float64\n",
      " 22  SNOW_DEP_ATLEAST    float64\n",
      " 23  Data_Entry_Method   object \n",
      "dtypes: float64(12), int64(3), object(9)\n",
      "memory usage: 1.6+ GB\n"
     ]
    }
   ],
   "source": [
    "#Display column types\n",
    "\n",
    "df_raw_2016_2020.info()"
   ]
  },
  {
   "cell_type": "code",
   "execution_count": 38,
   "id": "861423d8",
   "metadata": {},
   "outputs": [
    {
     "data": {
      "text/plain": [
       "LOC_ID                      0\n",
       "LATITUDE                    0\n",
       "LONGITUDE                   0\n",
       "SUBNATIONAL1_CODE           0\n",
       "ENTRY_TECHNIQUE        486988\n",
       "SUB_ID                      0\n",
       "OBS_ID                   8909\n",
       "Month                       0\n",
       "Day                         0\n",
       "Year                        0\n",
       "PROJ_PERIOD_ID              0\n",
       "SPECIES_CODE                0\n",
       "alt_full_spp_code     9156823\n",
       "HOW_MANY                 8909\n",
       "PLUS_CODE             9209106\n",
       "VALID                    8909\n",
       "REVIEWED                 8909\n",
       "DAY1_AM                    21\n",
       "DAY1_PM                    21\n",
       "DAY2_AM                    21\n",
       "DAY2_PM                    21\n",
       "EFFORT_HRS_ATLEAST      22095\n",
       "SNOW_DEP_ATLEAST       903512\n",
       "Data_Entry_Method       75890\n",
       "dtype: int64"
      ]
     },
     "execution_count": 38,
     "metadata": {},
     "output_type": "execute_result"
    }
   ],
   "source": [
    "#Check for the number of na values in each column\n",
    "\n",
    "df_raw_2016_2020.isna().sum()"
   ]
  },
  {
   "cell_type": "markdown",
   "id": "6b9a55d3",
   "metadata": {},
   "source": [
    "It looks like we will be able to go through (almost) the same steps as with the table before.\n",
    "\n",
    "We start by dropping the `ENTRY_TECHNIQUE` column"
   ]
  },
  {
   "cell_type": "code",
   "execution_count": 39,
   "id": "f3f7497e",
   "metadata": {},
   "outputs": [
    {
     "data": {
      "text/plain": [
       "(9209114, 23)"
      ]
     },
     "execution_count": 39,
     "metadata": {},
     "output_type": "execute_result"
    }
   ],
   "source": [
    "#Drop the values in the ENTRY_TECHNIQUE column and save the data in a new dataframe\n",
    "\n",
    "df_birdfeeder_2016_2020 = df_raw_2016_2020.drop('ENTRY_TECHNIQUE', axis=1, inplace=False)\n",
    "df_birdfeeder_2016_2020.shape "
   ]
  },
  {
   "cell_type": "markdown",
   "id": "b85efbcb",
   "metadata": {},
   "source": [
    "***"
   ]
  },
  {
   "cell_type": "markdown",
   "id": "576d8fd6",
   "metadata": {},
   "source": [
    "The next step is to investigate the rows with missing values in the `OBS_ID` column"
   ]
  },
  {
   "cell_type": "code",
   "execution_count": 40,
   "id": "814810c8",
   "metadata": {},
   "outputs": [],
   "source": [
    "#Get a filtered dataframe containing all the rows that have null values in the OBS_ID column\n",
    "\n",
    "temp_df = df_birdfeeder_2016_2020[df_birdfeeder_2016_2020['OBS_ID'].isna()]"
   ]
  },
  {
   "cell_type": "code",
   "execution_count": 41,
   "id": "85894bce",
   "metadata": {},
   "outputs": [
    {
     "data": {
      "text/plain": [
       "(8909, 23)"
      ]
     },
     "execution_count": 41,
     "metadata": {},
     "output_type": "execute_result"
    }
   ],
   "source": [
    "temp_df.shape #Sanity Check"
   ]
  },
  {
   "cell_type": "code",
   "execution_count": 42,
   "id": "29c8c71b",
   "metadata": {},
   "outputs": [
    {
     "data": {
      "text/plain": [
       "LOC_ID                   0\n",
       "LATITUDE                 0\n",
       "LONGITUDE                0\n",
       "SUBNATIONAL1_CODE        0\n",
       "SUB_ID                   0\n",
       "OBS_ID                8909\n",
       "Month                    0\n",
       "Day                      0\n",
       "Year                     0\n",
       "PROJ_PERIOD_ID           0\n",
       "SPECIES_CODE             0\n",
       "alt_full_spp_code     8909\n",
       "HOW_MANY              8909\n",
       "PLUS_CODE             8909\n",
       "VALID                 8909\n",
       "REVIEWED              8909\n",
       "DAY1_AM                 21\n",
       "DAY1_PM                 21\n",
       "DAY2_AM                 21\n",
       "DAY2_PM                 21\n",
       "EFFORT_HRS_ATLEAST     161\n",
       "SNOW_DEP_ATLEAST      1916\n",
       "Data_Entry_Method       46\n",
       "dtype: int64"
      ]
     },
     "execution_count": 42,
     "metadata": {},
     "output_type": "execute_result"
    }
   ],
   "source": [
    "#Check the na values in the newly created dataframe\n",
    "\n",
    "temp_df.isna().sum()"
   ]
  },
  {
   "cell_type": "markdown",
   "id": "627eef47",
   "metadata": {},
   "source": [
    "As before, we have NA values across the columns in these rows and will just remove them."
   ]
  },
  {
   "cell_type": "code",
   "execution_count": 43,
   "id": "25b26a62",
   "metadata": {},
   "outputs": [],
   "source": [
    "#Replace the dataframe by the version without null values in the OBS_ID column\n",
    "\n",
    "df_birdfeeder_2016_2020 = df_birdfeeder_2016_2020.dropna(subset=['OBS_ID'])"
   ]
  },
  {
   "cell_type": "markdown",
   "id": "e6c10d5a",
   "metadata": {},
   "source": [
    "***"
   ]
  },
  {
   "cell_type": "markdown",
   "id": "d9b74893",
   "metadata": {},
   "source": [
    "Following the approach from the previous table, we now drop `EFFORT_HRS_ATLEAST` and `Plus_code` columns"
   ]
  },
  {
   "cell_type": "code",
   "execution_count": 44,
   "id": "de01c126",
   "metadata": {},
   "outputs": [
    {
     "data": {
      "text/plain": [
       "(9200205, 22)"
      ]
     },
     "execution_count": 44,
     "metadata": {},
     "output_type": "execute_result"
    }
   ],
   "source": [
    "#Drop the 'EFFORT_HRS_ATLEAST' column from the dataset and check the size of the dataset\n",
    "\n",
    "df_birdfeeder_2016_2020 = df_birdfeeder_2016_2020.drop('EFFORT_HRS_ATLEAST', axis=1, inplace=False) \n",
    "df_birdfeeder_2016_2020.shape"
   ]
  },
  {
   "cell_type": "code",
   "execution_count": 45,
   "id": "41be8404",
   "metadata": {},
   "outputs": [
    {
     "data": {
      "text/plain": [
       "(9200205, 21)"
      ]
     },
     "execution_count": 45,
     "metadata": {},
     "output_type": "execute_result"
    }
   ],
   "source": [
    "#Drop the \"plus_code\" column from the df\n",
    "\n",
    "df_birdfeeder_2016_2020 = df_birdfeeder_2016_2020.drop('PLUS_CODE', axis=1, inplace=False) \n",
    "df_birdfeeder_2016_2020.shape"
   ]
  },
  {
   "cell_type": "markdown",
   "id": "aaedd677",
   "metadata": {},
   "source": [
    "***"
   ]
  },
  {
   "cell_type": "code",
   "execution_count": 46,
   "id": "8d051e75",
   "metadata": {},
   "outputs": [
    {
     "data": {
      "text/plain": [
       "LOC_ID                     0\n",
       "LATITUDE                   0\n",
       "LONGITUDE                  0\n",
       "SUBNATIONAL1_CODE          0\n",
       "SUB_ID                     0\n",
       "OBS_ID                     0\n",
       "Month                      0\n",
       "Day                        0\n",
       "Year                       0\n",
       "PROJ_PERIOD_ID             0\n",
       "SPECIES_CODE               0\n",
       "alt_full_spp_code    9147914\n",
       "HOW_MANY                   0\n",
       "VALID                      0\n",
       "REVIEWED                   0\n",
       "DAY1_AM                    0\n",
       "DAY1_PM                    0\n",
       "DAY2_AM                    0\n",
       "DAY2_PM                    0\n",
       "SNOW_DEP_ATLEAST      901596\n",
       "Data_Entry_Method      75844\n",
       "dtype: int64"
      ]
     },
     "execution_count": 46,
     "metadata": {},
     "output_type": "execute_result"
    }
   ],
   "source": [
    "#Check the null values again\n",
    "\n",
    "df_birdfeeder_2016_2020.isna().sum()"
   ]
  },
  {
   "cell_type": "markdown",
   "id": "adea8564",
   "metadata": {},
   "source": [
    "In this table, the `Data_Entry_Method` column has a lot of null values. We start by looking at all the value counts in this column."
   ]
  },
  {
   "cell_type": "code",
   "execution_count": 47,
   "id": "b068fc53",
   "metadata": {},
   "outputs": [
    {
     "data": {
      "text/plain": [
       "Data_Entry_Method\n",
       "PFW Web 2.x                             5060983\n",
       "PFW Web 4.0.1                           1841310\n",
       "PFW Web 3.0.3-SNAPSHOT                  1230478\n",
       "PFW Web 3.0.0                            614569\n",
       "PFW Web 4.0.2                            157921\n",
       "PFW Mobile App v1.1.14                    95813\n",
       "PFW Web 4.0.0                             44624\n",
       "PFW Mobile App v1.1.0                     26082\n",
       "PFW Mobile App vGLOBAL_APP_VER_SHORT      16152\n",
       "PFW Web 4.2.7                             10276\n",
       "PFW Web 4.1.4                             10273\n",
       "PFW Mobile App 0.8 preview                 3363\n",
       "PFW Web 4.0.4                              3037\n",
       "PFW Web 4.1.5                              2823\n",
       "PFW Mobile App v1.0.1                      2639\n",
       "PFW Web 4.0.3                              1760\n",
       "PFW Mobile App v1.1.17                     1026\n",
       "PFW Mobile App v1.1.01.1.0                  647\n",
       "PFW Mobile App v                            195\n",
       "PFW Mobile App v1.31.00                     152\n",
       "PFW Mobile App v1.0.11.0.11.0.1              86\n",
       "PFW Mobile App 0.9x                          59\n",
       "PFW Web 4.2.6                                45\n",
       "PFW Mobile App v1.1.07                       15\n",
       "PFW Mobile App v1.30.06                      13\n",
       "PFW Mobile App v1.22.01                      12\n",
       "PFW Mobile App v1.1.13                        8\n",
       "Name: count, dtype: int64"
      ]
     },
     "execution_count": 47,
     "metadata": {},
     "output_type": "execute_result"
    }
   ],
   "source": [
    "df_birdfeeder_2016_2020['Data_Entry_Method'].value_counts()"
   ]
  },
  {
   "cell_type": "markdown",
   "id": "9d3cc68a",
   "metadata": {},
   "source": [
    "It will make more sense to come back to this column once we have removed all invalid data."
   ]
  },
  {
   "cell_type": "code",
   "execution_count": 48,
   "id": "10606a36",
   "metadata": {
    "scrolled": true
   },
   "outputs": [
    {
     "data": {
      "text/plain": [
       "VALID  REVIEWED\n",
       "0.0    0.0           15064\n",
       "       1.0            3098\n",
       "1.0    0.0         9108621\n",
       "       1.0           73422\n",
       "Name: count, dtype: int64"
      ]
     },
     "execution_count": 48,
     "metadata": {},
     "output_type": "execute_result"
    }
   ],
   "source": [
    "#Use the groupby function to see the valid and reviewed columns\n",
    "\n",
    "df_birdfeeder_2016_2020.groupby(['VALID'])['REVIEWED'].value_counts()"
   ]
  },
  {
   "cell_type": "code",
   "execution_count": 49,
   "id": "dc27f414",
   "metadata": {},
   "outputs": [
    {
     "data": {
      "text/plain": [
       "VALID  REVIEWED\n",
       "1.0    0.0         9108621\n",
       "       1.0           73422\n",
       "Name: count, dtype: int64"
      ]
     },
     "execution_count": 49,
     "metadata": {},
     "output_type": "execute_result"
    }
   ],
   "source": [
    "#Remove invalid rows from the dataframe by keeping only the valid ones\n",
    "\n",
    "df_birdfeeder_2016_2020 = df_birdfeeder_2016_2020[df_birdfeeder_2016_2020['VALID'] == 1]\n",
    "df_birdfeeder_2016_2020.groupby(['VALID'])['REVIEWED'].value_counts() #Sanity Check"
   ]
  },
  {
   "cell_type": "code",
   "execution_count": 50,
   "id": "e22994bb",
   "metadata": {},
   "outputs": [],
   "source": [
    "#Drop the valid and reviewed columns\n",
    "\n",
    "df_birdfeeder_2016_2020 = df_birdfeeder_2016_2020.drop(['VALID', 'REVIEWED'], axis=1, inplace=False) "
   ]
  },
  {
   "cell_type": "markdown",
   "id": "6c1be95c",
   "metadata": {},
   "source": [
    "***"
   ]
  },
  {
   "cell_type": "markdown",
   "id": "20123d7d",
   "metadata": {},
   "source": [
    "Now that the data is valid, back to the `Data_Entry_Method`"
   ]
  },
  {
   "cell_type": "code",
   "execution_count": 51,
   "id": "4ce2b877",
   "metadata": {},
   "outputs": [],
   "source": [
    "#Create a dataframe containing the NA values in the data entry method column\n",
    "\n",
    "df_temp = df_birdfeeder_2016_2020[df_birdfeeder_2016_2020['Data_Entry_Method'].isna()]"
   ]
  },
  {
   "cell_type": "code",
   "execution_count": 52,
   "id": "434713f3",
   "metadata": {},
   "outputs": [
    {
     "data": {
      "text/plain": [
       "0.8237927006005091"
      ]
     },
     "execution_count": 52,
     "metadata": {},
     "output_type": "execute_result"
    }
   ],
   "source": [
    "#Calculate the percentage of missing values in the Data ENtry column\n",
    "\n",
    "df_temp.shape[0] / df_birdfeeder_2016_2020.shape[0] * 100"
   ]
  },
  {
   "cell_type": "markdown",
   "id": "fb7f5a3d",
   "metadata": {},
   "source": [
    "Given the tiny percentage of missing values, we can just remove them."
   ]
  },
  {
   "cell_type": "code",
   "execution_count": 53,
   "id": "87e6d67c",
   "metadata": {},
   "outputs": [],
   "source": [
    "#Get rid of all na values in the column\n",
    "\n",
    "df_birdfeeder_2016_2020 = df_birdfeeder_2016_2020[df_birdfeeder_2016_2020['Data_Entry_Method'].notna()]"
   ]
  },
  {
   "cell_type": "markdown",
   "id": "89c7e401",
   "metadata": {},
   "source": [
    "***"
   ]
  },
  {
   "cell_type": "code",
   "execution_count": 54,
   "id": "35f5c4c5",
   "metadata": {},
   "outputs": [
    {
     "data": {
      "text/plain": [
       "LOC_ID                     0\n",
       "LATITUDE                   0\n",
       "LONGITUDE                  0\n",
       "SUBNATIONAL1_CODE          0\n",
       "SUB_ID                     0\n",
       "OBS_ID                     0\n",
       "Month                      0\n",
       "Day                        0\n",
       "Year                       0\n",
       "PROJ_PERIOD_ID             0\n",
       "SPECIES_CODE               0\n",
       "alt_full_spp_code    9055291\n",
       "HOW_MANY                   0\n",
       "DAY1_AM                    0\n",
       "DAY1_PM                    0\n",
       "DAY2_AM                    0\n",
       "DAY2_PM                    0\n",
       "SNOW_DEP_ATLEAST      896983\n",
       "Data_Entry_Method          0\n",
       "dtype: int64"
      ]
     },
     "execution_count": 54,
     "metadata": {},
     "output_type": "execute_result"
    }
   ],
   "source": [
    "#Check the null values again\n",
    "\n",
    "df_birdfeeder_2016_2020.isna().sum()"
   ]
  },
  {
   "cell_type": "markdown",
   "id": "af20166f",
   "metadata": {},
   "source": [
    "***\n",
    "***"
   ]
  },
  {
   "cell_type": "code",
   "execution_count": 55,
   "id": "cfdd33de",
   "metadata": {},
   "outputs": [
    {
     "data": {
      "text/html": [
       "<div>\n",
       "<style scoped>\n",
       "    .dataframe tbody tr th:only-of-type {\n",
       "        vertical-align: middle;\n",
       "    }\n",
       "\n",
       "    .dataframe tbody tr th {\n",
       "        vertical-align: top;\n",
       "    }\n",
       "\n",
       "    .dataframe thead th {\n",
       "        text-align: right;\n",
       "    }\n",
       "</style>\n",
       "<table border=\"1\" class=\"dataframe\">\n",
       "  <thead>\n",
       "    <tr style=\"text-align: right;\">\n",
       "      <th></th>\n",
       "      <th>LOC_ID</th>\n",
       "      <th>LATITUDE</th>\n",
       "      <th>LONGITUDE</th>\n",
       "      <th>SUBNATIONAL1_CODE</th>\n",
       "      <th>SUB_ID</th>\n",
       "      <th>OBS_ID</th>\n",
       "      <th>Month</th>\n",
       "      <th>Day</th>\n",
       "      <th>Year</th>\n",
       "      <th>PROJ_PERIOD_ID</th>\n",
       "      <th>SPECIES_CODE</th>\n",
       "      <th>alt_full_spp_code</th>\n",
       "      <th>HOW_MANY</th>\n",
       "      <th>DAY1_AM</th>\n",
       "      <th>DAY1_PM</th>\n",
       "      <th>DAY2_AM</th>\n",
       "      <th>DAY2_PM</th>\n",
       "      <th>SNOW_DEP_ATLEAST</th>\n",
       "      <th>Data_Entry_Method</th>\n",
       "    </tr>\n",
       "  </thead>\n",
       "  <tbody>\n",
       "  </tbody>\n",
       "</table>\n",
       "</div>"
      ],
      "text/plain": [
       "Empty DataFrame\n",
       "Columns: [LOC_ID, LATITUDE, LONGITUDE, SUBNATIONAL1_CODE, SUB_ID, OBS_ID, Month, Day, Year, PROJ_PERIOD_ID, SPECIES_CODE, alt_full_spp_code, HOW_MANY, DAY1_AM, DAY1_PM, DAY2_AM, DAY2_PM, SNOW_DEP_ATLEAST, Data_Entry_Method]\n",
       "Index: []"
      ]
     },
     "execution_count": 55,
     "metadata": {},
     "output_type": "execute_result"
    }
   ],
   "source": [
    "#Display duplicate rows in the dataframe\n",
    "\n",
    "df_birdfeeder_2016_2020[df_birdfeeder_2016_2020.duplicated()]"
   ]
  },
  {
   "cell_type": "markdown",
   "id": "cfa00e1a",
   "metadata": {},
   "source": [
    "No duplicate rows in this table!"
   ]
  },
  {
   "cell_type": "markdown",
   "id": "9b9267a3",
   "metadata": {},
   "source": [
    "***\n",
    "***\n",
    "***"
   ]
  },
  {
   "cell_type": "markdown",
   "id": "d1d6f4e7",
   "metadata": {},
   "source": [
    "We can now move on to the next table, which also contains the data from the years 2011 - 2015.\n",
    "\n",
    "#### Clean the `df_raw_2011_2015` table: <a class = \"anchor\" id = \"Part-1.3\"></a>"
   ]
  },
  {
   "cell_type": "code",
   "execution_count": 56,
   "id": "b3a9090d",
   "metadata": {},
   "outputs": [
    {
     "data": {
      "text/plain": [
       "(7460559, 24)"
      ]
     },
     "execution_count": 56,
     "metadata": {},
     "output_type": "execute_result"
    }
   ],
   "source": [
    "#Check the dimensions of the table\n",
    "\n",
    "df_raw_2011_2015.shape"
   ]
  },
  {
   "cell_type": "code",
   "execution_count": 57,
   "id": "256c1d00",
   "metadata": {},
   "outputs": [
    {
     "name": "stdout",
     "output_type": "stream",
     "text": [
      "<class 'pandas.core.frame.DataFrame'>\n",
      "RangeIndex: 7460559 entries, 0 to 7460558\n",
      "Data columns (total 24 columns):\n",
      " #   Column              Dtype  \n",
      "---  ------              -----  \n",
      " 0   LOC_ID              object \n",
      " 1   LATITUDE            float64\n",
      " 2   LONGITUDE           float64\n",
      " 3   SUBNATIONAL1_CODE   object \n",
      " 4   ENTRY_TECHNIQUE     object \n",
      " 5   SUB_ID              object \n",
      " 6   OBS_ID              object \n",
      " 7   Month               int64  \n",
      " 8   Day                 int64  \n",
      " 9   Year                int64  \n",
      " 10  PROJ_PERIOD_ID      object \n",
      " 11  SPECIES_CODE        object \n",
      " 12  alt_full_spp_code   object \n",
      " 13  HOW_MANY            float64\n",
      " 14  PLUS_CODE           float64\n",
      " 15  VALID               float64\n",
      " 16  REVIEWED            float64\n",
      " 17  DAY1_AM             float64\n",
      " 18  DAY1_PM             float64\n",
      " 19  DAY2_AM             float64\n",
      " 20  DAY2_PM             float64\n",
      " 21  EFFORT_HRS_ATLEAST  float64\n",
      " 22  SNOW_DEP_ATLEAST    float64\n",
      " 23  Data_Entry_Method   object \n",
      "dtypes: float64(12), int64(3), object(9)\n",
      "memory usage: 1.3+ GB\n"
     ]
    }
   ],
   "source": [
    "#Display column types\n",
    "\n",
    "df_raw_2011_2015.info()"
   ]
  },
  {
   "cell_type": "markdown",
   "id": "bdd2c9c1",
   "metadata": {},
   "source": [
    "Following the approaches for the two previous tables, we can drop the columns `ENTRY_TECHNIQUE`, `PLUS_CODE` and `EFFORT_HRS_ATLEAST`"
   ]
  },
  {
   "cell_type": "code",
   "execution_count": 58,
   "id": "08a2a198",
   "metadata": {},
   "outputs": [
    {
     "data": {
      "text/plain": [
       "(7460559, 21)"
      ]
     },
     "execution_count": 58,
     "metadata": {},
     "output_type": "execute_result"
    }
   ],
   "source": [
    "#Drop the columns which were removed in the previous tables and save the data in a new dataframe\n",
    "\n",
    "df_birdfeeder_2011_2015 = df_raw_2011_2015.drop(['ENTRY_TECHNIQUE', 'PLUS_CODE', 'EFFORT_HRS_ATLEAST'], axis=1, inplace=False)\n",
    "df_birdfeeder_2011_2015.shape "
   ]
  },
  {
   "cell_type": "markdown",
   "id": "4867f4dc",
   "metadata": {},
   "source": [
    "***"
   ]
  },
  {
   "cell_type": "markdown",
   "id": "ae2f8e44",
   "metadata": {},
   "source": [
    "Now we have to see what null values remain in this dataframe"
   ]
  },
  {
   "cell_type": "code",
   "execution_count": 59,
   "id": "d7d87733",
   "metadata": {},
   "outputs": [
    {
     "data": {
      "text/plain": [
       "LOC_ID                     0\n",
       "LATITUDE                   0\n",
       "LONGITUDE                  0\n",
       "SUBNATIONAL1_CODE          0\n",
       "SUB_ID                     0\n",
       "OBS_ID                  8480\n",
       "Month                      0\n",
       "Day                        0\n",
       "Year                       0\n",
       "PROJ_PERIOD_ID             0\n",
       "SPECIES_CODE               0\n",
       "alt_full_spp_code    7415457\n",
       "HOW_MANY                8480\n",
       "VALID                   8480\n",
       "REVIEWED                8480\n",
       "DAY1_AM               324666\n",
       "DAY1_PM               885349\n",
       "DAY2_AM               482644\n",
       "DAY2_PM               955617\n",
       "SNOW_DEP_ATLEAST     1155337\n",
       "Data_Entry_Method     105676\n",
       "dtype: int64"
      ]
     },
     "execution_count": 59,
     "metadata": {},
     "output_type": "execute_result"
    }
   ],
   "source": [
    "#Check for na values\n",
    "\n",
    "df_birdfeeder_2011_2015.isna().sum()"
   ]
  },
  {
   "cell_type": "markdown",
   "id": "2e61b64e",
   "metadata": {},
   "source": [
    "Removing the null values from the `OBS_ID` column should also clear up other columns"
   ]
  },
  {
   "cell_type": "code",
   "execution_count": 60,
   "id": "742c8b85",
   "metadata": {},
   "outputs": [],
   "source": [
    "#Replace the dataframe by the version without null values in the OBS_ID column\n",
    "\n",
    "df_birdfeeder_2011_2015 = df_birdfeeder_2011_2015.dropna(subset=['OBS_ID'])"
   ]
  },
  {
   "cell_type": "code",
   "execution_count": 61,
   "id": "480e5606",
   "metadata": {},
   "outputs": [
    {
     "data": {
      "text/plain": [
       "LOC_ID                     0\n",
       "LATITUDE                   0\n",
       "LONGITUDE                  0\n",
       "SUBNATIONAL1_CODE          0\n",
       "SUB_ID                     0\n",
       "OBS_ID                     0\n",
       "Month                      0\n",
       "Day                        0\n",
       "Year                       0\n",
       "PROJ_PERIOD_ID             0\n",
       "SPECIES_CODE               0\n",
       "alt_full_spp_code    7406977\n",
       "HOW_MANY                   0\n",
       "VALID                      0\n",
       "REVIEWED                   0\n",
       "DAY1_AM               324315\n",
       "DAY1_PM               884697\n",
       "DAY2_AM               482220\n",
       "DAY2_PM               954997\n",
       "SNOW_DEP_ATLEAST     1153330\n",
       "Data_Entry_Method     105574\n",
       "dtype: int64"
      ]
     },
     "execution_count": 61,
     "metadata": {},
     "output_type": "execute_result"
    }
   ],
   "source": [
    "#Check for na values\n",
    "\n",
    "df_birdfeeder_2011_2015.isna().sum()"
   ]
  },
  {
   "cell_type": "markdown",
   "id": "7f2acfdf",
   "metadata": {},
   "source": [
    "***"
   ]
  },
  {
   "cell_type": "markdown",
   "id": "ea923780",
   "metadata": {},
   "source": [
    "We can now filter for the `VALID` data"
   ]
  },
  {
   "cell_type": "code",
   "execution_count": 62,
   "id": "c6175b94",
   "metadata": {},
   "outputs": [
    {
     "data": {
      "text/plain": [
       "VALID  REVIEWED\n",
       "0.0    1.0            6683\n",
       "       0.0            3807\n",
       "1.0    0.0         7367654\n",
       "       1.0           73935\n",
       "Name: count, dtype: int64"
      ]
     },
     "execution_count": 62,
     "metadata": {},
     "output_type": "execute_result"
    }
   ],
   "source": [
    "#Use the groupby function to see the valid and reviewed columns\n",
    "\n",
    "df_birdfeeder_2011_2015.groupby(['VALID'])['REVIEWED'].value_counts()"
   ]
  },
  {
   "cell_type": "code",
   "execution_count": 63,
   "id": "b8262c86",
   "metadata": {},
   "outputs": [
    {
     "data": {
      "text/plain": [
       "VALID  REVIEWED\n",
       "1.0    0.0         7367654\n",
       "       1.0           73935\n",
       "Name: count, dtype: int64"
      ]
     },
     "execution_count": 63,
     "metadata": {},
     "output_type": "execute_result"
    }
   ],
   "source": [
    "#Remove invalid rows from the dataframe by keeping only the valid ones\n",
    "\n",
    "df_birdfeeder_2011_2015 = df_birdfeeder_2011_2015[df_birdfeeder_2011_2015['VALID'] == 1]\n",
    "df_birdfeeder_2011_2015.groupby(['VALID'])['REVIEWED'].value_counts() #Sanity Check"
   ]
  },
  {
   "cell_type": "code",
   "execution_count": 64,
   "id": "32770e2d",
   "metadata": {},
   "outputs": [],
   "source": [
    "#Drop the valid and reviewed columns\n",
    "\n",
    "df_birdfeeder_2011_2015 = df_birdfeeder_2011_2015.drop(['VALID', 'REVIEWED'], axis=1, inplace=False) "
   ]
  },
  {
   "cell_type": "markdown",
   "id": "0093b3b2",
   "metadata": {},
   "source": [
    "***"
   ]
  },
  {
   "cell_type": "code",
   "execution_count": 65,
   "id": "876b71b2",
   "metadata": {},
   "outputs": [
    {
     "data": {
      "text/plain": [
       "LOC_ID                     0\n",
       "LATITUDE                   0\n",
       "LONGITUDE                  0\n",
       "SUBNATIONAL1_CODE          0\n",
       "SUB_ID                     0\n",
       "OBS_ID                     0\n",
       "Month                      0\n",
       "Day                        0\n",
       "Year                       0\n",
       "PROJ_PERIOD_ID             0\n",
       "SPECIES_CODE               0\n",
       "alt_full_spp_code    7396664\n",
       "HOW_MANY                   0\n",
       "DAY1_AM               324139\n",
       "DAY1_PM               884185\n",
       "DAY2_AM               481958\n",
       "DAY2_PM               954515\n",
       "SNOW_DEP_ATLEAST     1151717\n",
       "Data_Entry_Method     105376\n",
       "dtype: int64"
      ]
     },
     "execution_count": 65,
     "metadata": {},
     "output_type": "execute_result"
    }
   ],
   "source": [
    "#Check for na values\n",
    "\n",
    "df_birdfeeder_2011_2015.isna().sum()"
   ]
  },
  {
   "cell_type": "code",
   "execution_count": 66,
   "id": "5ed71f6a",
   "metadata": {},
   "outputs": [
    {
     "data": {
      "text/html": [
       "<div>\n",
       "<style scoped>\n",
       "    .dataframe tbody tr th:only-of-type {\n",
       "        vertical-align: middle;\n",
       "    }\n",
       "\n",
       "    .dataframe tbody tr th {\n",
       "        vertical-align: top;\n",
       "    }\n",
       "\n",
       "    .dataframe thead th {\n",
       "        text-align: right;\n",
       "    }\n",
       "</style>\n",
       "<table border=\"1\" class=\"dataframe\">\n",
       "  <thead>\n",
       "    <tr style=\"text-align: right;\">\n",
       "      <th></th>\n",
       "      <th>LOC_ID</th>\n",
       "      <th>LATITUDE</th>\n",
       "      <th>LONGITUDE</th>\n",
       "      <th>SUBNATIONAL1_CODE</th>\n",
       "      <th>SUB_ID</th>\n",
       "      <th>OBS_ID</th>\n",
       "      <th>Month</th>\n",
       "      <th>Day</th>\n",
       "      <th>Year</th>\n",
       "      <th>PROJ_PERIOD_ID</th>\n",
       "      <th>SPECIES_CODE</th>\n",
       "      <th>alt_full_spp_code</th>\n",
       "      <th>HOW_MANY</th>\n",
       "      <th>DAY1_AM</th>\n",
       "      <th>DAY1_PM</th>\n",
       "      <th>DAY2_AM</th>\n",
       "      <th>DAY2_PM</th>\n",
       "      <th>SNOW_DEP_ATLEAST</th>\n",
       "      <th>Data_Entry_Method</th>\n",
       "    </tr>\n",
       "  </thead>\n",
       "  <tbody>\n",
       "    <tr>\n",
       "      <th>1</th>\n",
       "      <td>L100032</td>\n",
       "      <td>45.132361</td>\n",
       "      <td>-93.130328</td>\n",
       "      <td>US-MN</td>\n",
       "      <td>S10018923</td>\n",
       "      <td>OBS142409399</td>\n",
       "      <td>2</td>\n",
       "      <td>25</td>\n",
       "      <td>2012</td>\n",
       "      <td>PFW_2012</td>\n",
       "      <td>whbnut</td>\n",
       "      <td>NaN</td>\n",
       "      <td>1.0</td>\n",
       "      <td>NaN</td>\n",
       "      <td>1.0</td>\n",
       "      <td>1.0</td>\n",
       "      <td>1.0</td>\n",
       "      <td>0.001</td>\n",
       "      <td>PFW Web 1.x</td>\n",
       "    </tr>\n",
       "    <tr>\n",
       "      <th>2</th>\n",
       "      <td>L100032</td>\n",
       "      <td>45.132361</td>\n",
       "      <td>-93.130328</td>\n",
       "      <td>US-MN</td>\n",
       "      <td>S10018923</td>\n",
       "      <td>OBS142409400</td>\n",
       "      <td>2</td>\n",
       "      <td>25</td>\n",
       "      <td>2012</td>\n",
       "      <td>PFW_2012</td>\n",
       "      <td>daejun</td>\n",
       "      <td>NaN</td>\n",
       "      <td>11.0</td>\n",
       "      <td>NaN</td>\n",
       "      <td>1.0</td>\n",
       "      <td>1.0</td>\n",
       "      <td>1.0</td>\n",
       "      <td>0.001</td>\n",
       "      <td>PFW Web 1.x</td>\n",
       "    </tr>\n",
       "    <tr>\n",
       "      <th>3</th>\n",
       "      <td>L100032</td>\n",
       "      <td>45.132361</td>\n",
       "      <td>-93.130328</td>\n",
       "      <td>US-MN</td>\n",
       "      <td>S10018923</td>\n",
       "      <td>OBS142409401</td>\n",
       "      <td>2</td>\n",
       "      <td>25</td>\n",
       "      <td>2012</td>\n",
       "      <td>PFW_2012</td>\n",
       "      <td>blujay</td>\n",
       "      <td>NaN</td>\n",
       "      <td>1.0</td>\n",
       "      <td>NaN</td>\n",
       "      <td>1.0</td>\n",
       "      <td>1.0</td>\n",
       "      <td>1.0</td>\n",
       "      <td>0.001</td>\n",
       "      <td>PFW Web 1.x</td>\n",
       "    </tr>\n",
       "    <tr>\n",
       "      <th>4</th>\n",
       "      <td>L100032</td>\n",
       "      <td>45.132361</td>\n",
       "      <td>-93.130328</td>\n",
       "      <td>US-MN</td>\n",
       "      <td>S10018923</td>\n",
       "      <td>OBS142409402</td>\n",
       "      <td>2</td>\n",
       "      <td>25</td>\n",
       "      <td>2012</td>\n",
       "      <td>PFW_2012</td>\n",
       "      <td>norcar</td>\n",
       "      <td>NaN</td>\n",
       "      <td>6.0</td>\n",
       "      <td>NaN</td>\n",
       "      <td>1.0</td>\n",
       "      <td>1.0</td>\n",
       "      <td>1.0</td>\n",
       "      <td>0.001</td>\n",
       "      <td>PFW Web 1.x</td>\n",
       "    </tr>\n",
       "    <tr>\n",
       "      <th>5</th>\n",
       "      <td>L100032</td>\n",
       "      <td>45.132361</td>\n",
       "      <td>-93.130328</td>\n",
       "      <td>US-MN</td>\n",
       "      <td>S10018923</td>\n",
       "      <td>OBS142409403</td>\n",
       "      <td>2</td>\n",
       "      <td>25</td>\n",
       "      <td>2012</td>\n",
       "      <td>PFW_2012</td>\n",
       "      <td>amecro</td>\n",
       "      <td>NaN</td>\n",
       "      <td>2.0</td>\n",
       "      <td>NaN</td>\n",
       "      <td>1.0</td>\n",
       "      <td>1.0</td>\n",
       "      <td>1.0</td>\n",
       "      <td>0.001</td>\n",
       "      <td>PFW Web 1.x</td>\n",
       "    </tr>\n",
       "    <tr>\n",
       "      <th>6</th>\n",
       "      <td>L100032</td>\n",
       "      <td>45.132361</td>\n",
       "      <td>-93.130328</td>\n",
       "      <td>US-MN</td>\n",
       "      <td>S10018923</td>\n",
       "      <td>OBS142409404</td>\n",
       "      <td>2</td>\n",
       "      <td>25</td>\n",
       "      <td>2012</td>\n",
       "      <td>PFW_2012</td>\n",
       "      <td>bkcchi</td>\n",
       "      <td>NaN</td>\n",
       "      <td>3.0</td>\n",
       "      <td>NaN</td>\n",
       "      <td>1.0</td>\n",
       "      <td>1.0</td>\n",
       "      <td>1.0</td>\n",
       "      <td>0.001</td>\n",
       "      <td>PFW Web 1.x</td>\n",
       "    </tr>\n",
       "    <tr>\n",
       "      <th>7</th>\n",
       "      <td>L100032</td>\n",
       "      <td>45.132361</td>\n",
       "      <td>-93.130328</td>\n",
       "      <td>US-MN</td>\n",
       "      <td>S10018923</td>\n",
       "      <td>OBS142409405</td>\n",
       "      <td>2</td>\n",
       "      <td>25</td>\n",
       "      <td>2012</td>\n",
       "      <td>PFW_2012</td>\n",
       "      <td>dowwoo</td>\n",
       "      <td>NaN</td>\n",
       "      <td>2.0</td>\n",
       "      <td>NaN</td>\n",
       "      <td>1.0</td>\n",
       "      <td>1.0</td>\n",
       "      <td>1.0</td>\n",
       "      <td>0.001</td>\n",
       "      <td>PFW Web 1.x</td>\n",
       "    </tr>\n",
       "    <tr>\n",
       "      <th>68</th>\n",
       "      <td>L100032</td>\n",
       "      <td>45.132361</td>\n",
       "      <td>-93.130328</td>\n",
       "      <td>US-MN</td>\n",
       "      <td>S12164175</td>\n",
       "      <td>OBS170966962</td>\n",
       "      <td>11</td>\n",
       "      <td>24</td>\n",
       "      <td>2012</td>\n",
       "      <td>PFW_2013</td>\n",
       "      <td>whbnut</td>\n",
       "      <td>NaN</td>\n",
       "      <td>2.0</td>\n",
       "      <td>1.0</td>\n",
       "      <td>NaN</td>\n",
       "      <td>NaN</td>\n",
       "      <td>1.0</td>\n",
       "      <td>0.001</td>\n",
       "      <td>PFW Web 1.x</td>\n",
       "    </tr>\n",
       "    <tr>\n",
       "      <th>69</th>\n",
       "      <td>L100032</td>\n",
       "      <td>45.132361</td>\n",
       "      <td>-93.130328</td>\n",
       "      <td>US-MN</td>\n",
       "      <td>S12164175</td>\n",
       "      <td>OBS170966963</td>\n",
       "      <td>11</td>\n",
       "      <td>24</td>\n",
       "      <td>2012</td>\n",
       "      <td>PFW_2013</td>\n",
       "      <td>rebwoo</td>\n",
       "      <td>NaN</td>\n",
       "      <td>1.0</td>\n",
       "      <td>1.0</td>\n",
       "      <td>NaN</td>\n",
       "      <td>NaN</td>\n",
       "      <td>1.0</td>\n",
       "      <td>0.001</td>\n",
       "      <td>PFW Web 1.x</td>\n",
       "    </tr>\n",
       "    <tr>\n",
       "      <th>70</th>\n",
       "      <td>L100032</td>\n",
       "      <td>45.132361</td>\n",
       "      <td>-93.130328</td>\n",
       "      <td>US-MN</td>\n",
       "      <td>S12164175</td>\n",
       "      <td>OBS170966964</td>\n",
       "      <td>11</td>\n",
       "      <td>24</td>\n",
       "      <td>2012</td>\n",
       "      <td>PFW_2013</td>\n",
       "      <td>norcar</td>\n",
       "      <td>NaN</td>\n",
       "      <td>14.0</td>\n",
       "      <td>1.0</td>\n",
       "      <td>NaN</td>\n",
       "      <td>NaN</td>\n",
       "      <td>1.0</td>\n",
       "      <td>0.001</td>\n",
       "      <td>PFW Web 1.x</td>\n",
       "    </tr>\n",
       "    <tr>\n",
       "      <th>71</th>\n",
       "      <td>L100032</td>\n",
       "      <td>45.132361</td>\n",
       "      <td>-93.130328</td>\n",
       "      <td>US-MN</td>\n",
       "      <td>S12164175</td>\n",
       "      <td>OBS170966965</td>\n",
       "      <td>11</td>\n",
       "      <td>24</td>\n",
       "      <td>2012</td>\n",
       "      <td>PFW_2013</td>\n",
       "      <td>blujay</td>\n",
       "      <td>NaN</td>\n",
       "      <td>1.0</td>\n",
       "      <td>1.0</td>\n",
       "      <td>NaN</td>\n",
       "      <td>NaN</td>\n",
       "      <td>1.0</td>\n",
       "      <td>0.001</td>\n",
       "      <td>PFW Web 1.x</td>\n",
       "    </tr>\n",
       "    <tr>\n",
       "      <th>72</th>\n",
       "      <td>L100032</td>\n",
       "      <td>45.132361</td>\n",
       "      <td>-93.130328</td>\n",
       "      <td>US-MN</td>\n",
       "      <td>S12164175</td>\n",
       "      <td>OBS170966966</td>\n",
       "      <td>11</td>\n",
       "      <td>24</td>\n",
       "      <td>2012</td>\n",
       "      <td>PFW_2013</td>\n",
       "      <td>moudov</td>\n",
       "      <td>NaN</td>\n",
       "      <td>2.0</td>\n",
       "      <td>1.0</td>\n",
       "      <td>NaN</td>\n",
       "      <td>NaN</td>\n",
       "      <td>1.0</td>\n",
       "      <td>0.001</td>\n",
       "      <td>PFW Web 1.x</td>\n",
       "    </tr>\n",
       "    <tr>\n",
       "      <th>73</th>\n",
       "      <td>L100032</td>\n",
       "      <td>45.132361</td>\n",
       "      <td>-93.130328</td>\n",
       "      <td>US-MN</td>\n",
       "      <td>S12164175</td>\n",
       "      <td>OBS170966967</td>\n",
       "      <td>11</td>\n",
       "      <td>24</td>\n",
       "      <td>2012</td>\n",
       "      <td>PFW_2013</td>\n",
       "      <td>amegfi</td>\n",
       "      <td>NaN</td>\n",
       "      <td>1.0</td>\n",
       "      <td>1.0</td>\n",
       "      <td>NaN</td>\n",
       "      <td>NaN</td>\n",
       "      <td>1.0</td>\n",
       "      <td>0.001</td>\n",
       "      <td>PFW Web 1.x</td>\n",
       "    </tr>\n",
       "    <tr>\n",
       "      <th>74</th>\n",
       "      <td>L100032</td>\n",
       "      <td>45.132361</td>\n",
       "      <td>-93.130328</td>\n",
       "      <td>US-MN</td>\n",
       "      <td>S12164175</td>\n",
       "      <td>OBS170966968</td>\n",
       "      <td>11</td>\n",
       "      <td>24</td>\n",
       "      <td>2012</td>\n",
       "      <td>PFW_2013</td>\n",
       "      <td>dowwoo</td>\n",
       "      <td>NaN</td>\n",
       "      <td>1.0</td>\n",
       "      <td>1.0</td>\n",
       "      <td>NaN</td>\n",
       "      <td>NaN</td>\n",
       "      <td>1.0</td>\n",
       "      <td>0.001</td>\n",
       "      <td>PFW Web 1.x</td>\n",
       "    </tr>\n",
       "    <tr>\n",
       "      <th>75</th>\n",
       "      <td>L100032</td>\n",
       "      <td>45.132361</td>\n",
       "      <td>-93.130328</td>\n",
       "      <td>US-MN</td>\n",
       "      <td>S12164175</td>\n",
       "      <td>OBS170966969</td>\n",
       "      <td>11</td>\n",
       "      <td>24</td>\n",
       "      <td>2012</td>\n",
       "      <td>PFW_2013</td>\n",
       "      <td>daejun</td>\n",
       "      <td>NaN</td>\n",
       "      <td>6.0</td>\n",
       "      <td>1.0</td>\n",
       "      <td>NaN</td>\n",
       "      <td>NaN</td>\n",
       "      <td>1.0</td>\n",
       "      <td>0.001</td>\n",
       "      <td>PFW Web 1.x</td>\n",
       "    </tr>\n",
       "  </tbody>\n",
       "</table>\n",
       "</div>"
      ],
      "text/plain": [
       "     LOC_ID   LATITUDE  LONGITUDE SUBNATIONAL1_CODE     SUB_ID        OBS_ID  \\\n",
       "1   L100032  45.132361 -93.130328             US-MN  S10018923  OBS142409399   \n",
       "2   L100032  45.132361 -93.130328             US-MN  S10018923  OBS142409400   \n",
       "3   L100032  45.132361 -93.130328             US-MN  S10018923  OBS142409401   \n",
       "4   L100032  45.132361 -93.130328             US-MN  S10018923  OBS142409402   \n",
       "5   L100032  45.132361 -93.130328             US-MN  S10018923  OBS142409403   \n",
       "6   L100032  45.132361 -93.130328             US-MN  S10018923  OBS142409404   \n",
       "7   L100032  45.132361 -93.130328             US-MN  S10018923  OBS142409405   \n",
       "68  L100032  45.132361 -93.130328             US-MN  S12164175  OBS170966962   \n",
       "69  L100032  45.132361 -93.130328             US-MN  S12164175  OBS170966963   \n",
       "70  L100032  45.132361 -93.130328             US-MN  S12164175  OBS170966964   \n",
       "71  L100032  45.132361 -93.130328             US-MN  S12164175  OBS170966965   \n",
       "72  L100032  45.132361 -93.130328             US-MN  S12164175  OBS170966966   \n",
       "73  L100032  45.132361 -93.130328             US-MN  S12164175  OBS170966967   \n",
       "74  L100032  45.132361 -93.130328             US-MN  S12164175  OBS170966968   \n",
       "75  L100032  45.132361 -93.130328             US-MN  S12164175  OBS170966969   \n",
       "\n",
       "    Month  Day  Year PROJ_PERIOD_ID SPECIES_CODE alt_full_spp_code  HOW_MANY  \\\n",
       "1       2   25  2012       PFW_2012       whbnut               NaN       1.0   \n",
       "2       2   25  2012       PFW_2012       daejun               NaN      11.0   \n",
       "3       2   25  2012       PFW_2012       blujay               NaN       1.0   \n",
       "4       2   25  2012       PFW_2012       norcar               NaN       6.0   \n",
       "5       2   25  2012       PFW_2012       amecro               NaN       2.0   \n",
       "6       2   25  2012       PFW_2012       bkcchi               NaN       3.0   \n",
       "7       2   25  2012       PFW_2012       dowwoo               NaN       2.0   \n",
       "68     11   24  2012       PFW_2013       whbnut               NaN       2.0   \n",
       "69     11   24  2012       PFW_2013       rebwoo               NaN       1.0   \n",
       "70     11   24  2012       PFW_2013       norcar               NaN      14.0   \n",
       "71     11   24  2012       PFW_2013       blujay               NaN       1.0   \n",
       "72     11   24  2012       PFW_2013       moudov               NaN       2.0   \n",
       "73     11   24  2012       PFW_2013       amegfi               NaN       1.0   \n",
       "74     11   24  2012       PFW_2013       dowwoo               NaN       1.0   \n",
       "75     11   24  2012       PFW_2013       daejun               NaN       6.0   \n",
       "\n",
       "    DAY1_AM  DAY1_PM  DAY2_AM  DAY2_PM  SNOW_DEP_ATLEAST Data_Entry_Method  \n",
       "1       NaN      1.0      1.0      1.0             0.001       PFW Web 1.x  \n",
       "2       NaN      1.0      1.0      1.0             0.001       PFW Web 1.x  \n",
       "3       NaN      1.0      1.0      1.0             0.001       PFW Web 1.x  \n",
       "4       NaN      1.0      1.0      1.0             0.001       PFW Web 1.x  \n",
       "5       NaN      1.0      1.0      1.0             0.001       PFW Web 1.x  \n",
       "6       NaN      1.0      1.0      1.0             0.001       PFW Web 1.x  \n",
       "7       NaN      1.0      1.0      1.0             0.001       PFW Web 1.x  \n",
       "68      1.0      NaN      NaN      1.0             0.001       PFW Web 1.x  \n",
       "69      1.0      NaN      NaN      1.0             0.001       PFW Web 1.x  \n",
       "70      1.0      NaN      NaN      1.0             0.001       PFW Web 1.x  \n",
       "71      1.0      NaN      NaN      1.0             0.001       PFW Web 1.x  \n",
       "72      1.0      NaN      NaN      1.0             0.001       PFW Web 1.x  \n",
       "73      1.0      NaN      NaN      1.0             0.001       PFW Web 1.x  \n",
       "74      1.0      NaN      NaN      1.0             0.001       PFW Web 1.x  \n",
       "75      1.0      NaN      NaN      1.0             0.001       PFW Web 1.x  "
      ]
     },
     "execution_count": 66,
     "metadata": {},
     "output_type": "execute_result"
    }
   ],
   "source": [
    "#Select all the rows that have null values in one of the \"Day\" columns and save those into a dataframe\n",
    "\n",
    "condition = (\n",
    "    df_birdfeeder_2011_2015['DAY1_AM'].isna() |\n",
    "    df_birdfeeder_2011_2015['DAY1_PM'].isna() |\n",
    "    df_birdfeeder_2011_2015['DAY2_AM'].isna() |\n",
    "    df_birdfeeder_2011_2015['DAY2_PM'].isna()\n",
    ")\n",
    "\n",
    "df_temp = df_birdfeeder_2011_2015[condition]\n",
    "\n",
    "df_temp.head(15)"
   ]
  },
  {
   "cell_type": "markdown",
   "id": "d7c7c51e",
   "metadata": {},
   "source": [
    "Seeing a lot of NaN and true values in the Day columns. The columns indicate that the observers watched at the specified times (morning/evening of Day 1 or 2). However, I am not seeing any 0's in the rows so far."
   ]
  },
  {
   "cell_type": "code",
   "execution_count": 67,
   "id": "534d8a21",
   "metadata": {},
   "outputs": [
    {
     "name": "stdout",
     "output_type": "stream",
     "text": [
      "DAY1_AM\n",
      "1.0    1294009\n",
      "Name: count, dtype: int64\n",
      "DAY1_PM\n",
      "1.0    733963\n",
      "Name: count, dtype: int64\n",
      "DAY2_AM\n",
      "1.0    1136190\n",
      "Name: count, dtype: int64\n",
      "DAY2_PM\n",
      "1.0    663633\n",
      "Name: count, dtype: int64\n"
     ]
    }
   ],
   "source": [
    "#Print the different value counts for the 4 Day columns\n",
    "\n",
    "print(df_temp['DAY1_AM'].value_counts())\n",
    "print(df_temp['DAY1_PM'].value_counts())\n",
    "print(df_temp['DAY2_AM'].value_counts())\n",
    "print(df_temp['DAY2_PM'].value_counts())"
   ]
  },
  {
   "cell_type": "markdown",
   "id": "1f10b5f7",
   "metadata": {},
   "source": [
    "As suspected! Maybe the survey was not advanced enough at this time and instead of saving zeros NaN values were logged into the system. We will simply replace the null vallues by actual zeros, but let's do one more check to be a bit more confident in this decision."
   ]
  },
  {
   "cell_type": "code",
   "execution_count": 68,
   "id": "f9873d46",
   "metadata": {},
   "outputs": [
    {
     "data": {
      "text/plain": [
       "Year\n",
       "2012    549101\n",
       "2011    501283\n",
       "2013    396549\n",
       "2010    171215\n",
       "Name: count, dtype: int64"
      ]
     },
     "execution_count": 68,
     "metadata": {},
     "output_type": "execute_result"
    }
   ],
   "source": [
    "#Display the years in the dataframe to see if the null values occured in a certain timeframe\n",
    "\n",
    "df_temp['Year'].value_counts()"
   ]
  },
  {
   "cell_type": "markdown",
   "id": "ccd906b5",
   "metadata": {},
   "source": [
    "This looks good, because it means there were no null values in the `DAY[X]_AM / DAY[X]_PM` columns after 2013, even though our data includes the years 2014 and 2015. I suspect they updated the survey.\n",
    "We can now replace the Nan values by zeros."
   ]
  },
  {
   "cell_type": "code",
   "execution_count": 69,
   "id": "1505b9d3",
   "metadata": {},
   "outputs": [],
   "source": [
    "#Replace the NaN values in the four columns\n",
    "\n",
    "df_birdfeeder_2011_2015['DAY1_AM'].fillna(0, inplace=True)\n",
    "df_birdfeeder_2011_2015['DAY1_PM'].fillna(0, inplace=True)\n",
    "df_birdfeeder_2011_2015['DAY2_AM'].fillna(0, inplace=True)\n",
    "df_birdfeeder_2011_2015['DAY2_PM'].fillna(0, inplace=True)"
   ]
  },
  {
   "cell_type": "code",
   "execution_count": 70,
   "id": "53425ec9",
   "metadata": {},
   "outputs": [
    {
     "data": {
      "text/plain": [
       "LOC_ID                     0\n",
       "LATITUDE                   0\n",
       "LONGITUDE                  0\n",
       "SUBNATIONAL1_CODE          0\n",
       "SUB_ID                     0\n",
       "OBS_ID                     0\n",
       "Month                      0\n",
       "Day                        0\n",
       "Year                       0\n",
       "PROJ_PERIOD_ID             0\n",
       "SPECIES_CODE               0\n",
       "alt_full_spp_code    7396664\n",
       "HOW_MANY                   0\n",
       "DAY1_AM                    0\n",
       "DAY1_PM                    0\n",
       "DAY2_AM                    0\n",
       "DAY2_PM                    0\n",
       "SNOW_DEP_ATLEAST     1151717\n",
       "Data_Entry_Method     105376\n",
       "dtype: int64"
      ]
     },
     "execution_count": 70,
     "metadata": {},
     "output_type": "execute_result"
    }
   ],
   "source": [
    "#Check the null values again\n",
    "\n",
    "df_birdfeeder_2011_2015.isna().sum()"
   ]
  },
  {
   "cell_type": "markdown",
   "id": "d4070339",
   "metadata": {},
   "source": [
    "***"
   ]
  },
  {
   "cell_type": "markdown",
   "id": "9f5cf6aa",
   "metadata": {},
   "source": [
    "As with the two dataframes before, we are ignoring the `SNOW_DEP_ATLEAST` column and are moving on to `Data_Entry_Method`"
   ]
  },
  {
   "cell_type": "code",
   "execution_count": 71,
   "id": "e750015e",
   "metadata": {},
   "outputs": [],
   "source": [
    "#Create a dataframe containing the NA values in the data entry method column\n",
    "\n",
    "df_temp = df_birdfeeder_2011_2015[df_birdfeeder_2011_2015['Data_Entry_Method'].isna()]"
   ]
  },
  {
   "cell_type": "code",
   "execution_count": 72,
   "id": "b2d721c3",
   "metadata": {},
   "outputs": [
    {
     "data": {
      "text/plain": [
       "1.4160416545444798"
      ]
     },
     "execution_count": 72,
     "metadata": {},
     "output_type": "execute_result"
    }
   ],
   "source": [
    "#Calculate the percentage of missing values in the Data ENtry column\n",
    "\n",
    "df_temp.shape[0] / df_birdfeeder_2011_2015.shape[0] * 100"
   ]
  },
  {
   "cell_type": "markdown",
   "id": "7a8e1c74",
   "metadata": {},
   "source": [
    "About 1.4% of missing values - let's just remove the rows."
   ]
  },
  {
   "cell_type": "code",
   "execution_count": 73,
   "id": "db25efeb",
   "metadata": {},
   "outputs": [],
   "source": [
    "#Get rid of all na values in the column\n",
    "\n",
    "df_birdfeeder_2011_2015 = df_birdfeeder_2011_2015[df_birdfeeder_2011_2015['Data_Entry_Method'].notna()]"
   ]
  },
  {
   "cell_type": "code",
   "execution_count": 74,
   "id": "d736ed8d",
   "metadata": {},
   "outputs": [
    {
     "data": {
      "text/plain": [
       "LOC_ID                     0\n",
       "LATITUDE                   0\n",
       "LONGITUDE                  0\n",
       "SUBNATIONAL1_CODE          0\n",
       "SUB_ID                     0\n",
       "OBS_ID                     0\n",
       "Month                      0\n",
       "Day                        0\n",
       "Year                       0\n",
       "PROJ_PERIOD_ID             0\n",
       "SPECIES_CODE               0\n",
       "alt_full_spp_code    7291785\n",
       "HOW_MANY                   0\n",
       "DAY1_AM                    0\n",
       "DAY1_PM                    0\n",
       "DAY2_AM                    0\n",
       "DAY2_PM                    0\n",
       "SNOW_DEP_ATLEAST     1148690\n",
       "Data_Entry_Method          0\n",
       "dtype: int64"
      ]
     },
     "execution_count": 74,
     "metadata": {},
     "output_type": "execute_result"
    }
   ],
   "source": [
    "#Check the null values again\n",
    "\n",
    "df_birdfeeder_2011_2015.isna().sum()"
   ]
  },
  {
   "cell_type": "markdown",
   "id": "9ce7b352",
   "metadata": {},
   "source": [
    "***"
   ]
  },
  {
   "cell_type": "markdown",
   "id": "3f2b5039",
   "metadata": {},
   "source": [
    "Last but not least, let's check for duplicates"
   ]
  },
  {
   "cell_type": "code",
   "execution_count": 75,
   "id": "289fe2dd",
   "metadata": {},
   "outputs": [
    {
     "data": {
      "text/html": [
       "<div>\n",
       "<style scoped>\n",
       "    .dataframe tbody tr th:only-of-type {\n",
       "        vertical-align: middle;\n",
       "    }\n",
       "\n",
       "    .dataframe tbody tr th {\n",
       "        vertical-align: top;\n",
       "    }\n",
       "\n",
       "    .dataframe thead th {\n",
       "        text-align: right;\n",
       "    }\n",
       "</style>\n",
       "<table border=\"1\" class=\"dataframe\">\n",
       "  <thead>\n",
       "    <tr style=\"text-align: right;\">\n",
       "      <th></th>\n",
       "      <th>LOC_ID</th>\n",
       "      <th>LATITUDE</th>\n",
       "      <th>LONGITUDE</th>\n",
       "      <th>SUBNATIONAL1_CODE</th>\n",
       "      <th>SUB_ID</th>\n",
       "      <th>OBS_ID</th>\n",
       "      <th>Month</th>\n",
       "      <th>Day</th>\n",
       "      <th>Year</th>\n",
       "      <th>PROJ_PERIOD_ID</th>\n",
       "      <th>SPECIES_CODE</th>\n",
       "      <th>alt_full_spp_code</th>\n",
       "      <th>HOW_MANY</th>\n",
       "      <th>DAY1_AM</th>\n",
       "      <th>DAY1_PM</th>\n",
       "      <th>DAY2_AM</th>\n",
       "      <th>DAY2_PM</th>\n",
       "      <th>SNOW_DEP_ATLEAST</th>\n",
       "      <th>Data_Entry_Method</th>\n",
       "    </tr>\n",
       "  </thead>\n",
       "  <tbody>\n",
       "  </tbody>\n",
       "</table>\n",
       "</div>"
      ],
      "text/plain": [
       "Empty DataFrame\n",
       "Columns: [LOC_ID, LATITUDE, LONGITUDE, SUBNATIONAL1_CODE, SUB_ID, OBS_ID, Month, Day, Year, PROJ_PERIOD_ID, SPECIES_CODE, alt_full_spp_code, HOW_MANY, DAY1_AM, DAY1_PM, DAY2_AM, DAY2_PM, SNOW_DEP_ATLEAST, Data_Entry_Method]\n",
       "Index: []"
      ]
     },
     "execution_count": 75,
     "metadata": {},
     "output_type": "execute_result"
    }
   ],
   "source": [
    "df_birdfeeder_2011_2015[df_birdfeeder_2011_2015.duplicated()]"
   ]
  },
  {
   "cell_type": "markdown",
   "id": "ce7f7d64",
   "metadata": {},
   "source": [
    "***\n",
    "***\n",
    "***"
   ]
  },
  {
   "cell_type": "markdown",
   "id": "10958a55",
   "metadata": {},
   "source": [
    "#### Species Dataset (df_species) <a class = \"anchor\" id = \"Part-1.4\"></a>"
   ]
  },
  {
   "cell_type": "code",
   "execution_count": 76,
   "id": "02445fa3",
   "metadata": {},
   "outputs": [
    {
     "data": {
      "text/plain": [
       "(1090, 7)"
      ]
     },
     "execution_count": 76,
     "metadata": {},
     "output_type": "execute_result"
    }
   ],
   "source": [
    "#Check the dimentions of the df_species dataset\n",
    "\n",
    "df_species.shape"
   ]
  },
  {
   "cell_type": "code",
   "execution_count": 77,
   "id": "afc70d99",
   "metadata": {},
   "outputs": [
    {
     "data": {
      "text/html": [
       "<div>\n",
       "<style scoped>\n",
       "    .dataframe tbody tr th:only-of-type {\n",
       "        vertical-align: middle;\n",
       "    }\n",
       "\n",
       "    .dataframe tbody tr th {\n",
       "        vertical-align: top;\n",
       "    }\n",
       "\n",
       "    .dataframe thead th {\n",
       "        text-align: right;\n",
       "    }\n",
       "</style>\n",
       "<table border=\"1\" class=\"dataframe\">\n",
       "  <thead>\n",
       "    <tr style=\"text-align: right;\">\n",
       "      <th></th>\n",
       "      <th>species_code</th>\n",
       "      <th>alt_full_spp_code</th>\n",
       "      <th>n_locations</th>\n",
       "      <th>scientific_name</th>\n",
       "      <th>american_english_name</th>\n",
       "      <th>taxonomy_version</th>\n",
       "      <th>taxonomic_sort_order</th>\n",
       "    </tr>\n",
       "  </thead>\n",
       "  <tbody>\n",
       "    <tr>\n",
       "      <th>0</th>\n",
       "      <td>grerhe1</td>\n",
       "      <td>NaN</td>\n",
       "      <td>1</td>\n",
       "      <td>Rhea americana</td>\n",
       "      <td>Greater Rhea</td>\n",
       "      <td>2022</td>\n",
       "      <td>10</td>\n",
       "    </tr>\n",
       "    <tr>\n",
       "      <th>1</th>\n",
       "      <td>gretin1</td>\n",
       "      <td>NaN</td>\n",
       "      <td>3</td>\n",
       "      <td>Tinamus major</td>\n",
       "      <td>Great Tinamou</td>\n",
       "      <td>2022</td>\n",
       "      <td>42</td>\n",
       "    </tr>\n",
       "    <tr>\n",
       "      <th>2</th>\n",
       "      <td>wfwduc1</td>\n",
       "      <td>NaN</td>\n",
       "      <td>1</td>\n",
       "      <td>Dendrocygna viduata</td>\n",
       "      <td>White-faced Whistling-Duck</td>\n",
       "      <td>2022</td>\n",
       "      <td>228</td>\n",
       "    </tr>\n",
       "    <tr>\n",
       "      <th>3</th>\n",
       "      <td>bbwduc</td>\n",
       "      <td>NaN</td>\n",
       "      <td>105</td>\n",
       "      <td>Dendrocygna autumnalis</td>\n",
       "      <td>Black-bellied Whistling-Duck</td>\n",
       "      <td>2022</td>\n",
       "      <td>230</td>\n",
       "    </tr>\n",
       "    <tr>\n",
       "      <th>4</th>\n",
       "      <td>fuwduc</td>\n",
       "      <td>NaN</td>\n",
       "      <td>2</td>\n",
       "      <td>Dendrocygna bicolor</td>\n",
       "      <td>Fulvous Whistling-Duck</td>\n",
       "      <td>2022</td>\n",
       "      <td>235</td>\n",
       "    </tr>\n",
       "  </tbody>\n",
       "</table>\n",
       "</div>"
      ],
      "text/plain": [
       "  species_code alt_full_spp_code  n_locations         scientific_name  \\\n",
       "0      grerhe1               NaN            1          Rhea americana   \n",
       "1      gretin1               NaN            3           Tinamus major   \n",
       "2      wfwduc1               NaN            1     Dendrocygna viduata   \n",
       "3       bbwduc               NaN          105  Dendrocygna autumnalis   \n",
       "4       fuwduc               NaN            2     Dendrocygna bicolor   \n",
       "\n",
       "          american_english_name  taxonomy_version  taxonomic_sort_order  \n",
       "0                  Greater Rhea              2022                    10  \n",
       "1                 Great Tinamou              2022                    42  \n",
       "2    White-faced Whistling-Duck              2022                   228  \n",
       "3  Black-bellied Whistling-Duck              2022                   230  \n",
       "4        Fulvous Whistling-Duck              2022                   235  "
      ]
     },
     "execution_count": 77,
     "metadata": {},
     "output_type": "execute_result"
    }
   ],
   "source": [
    "#Display the first few lines of data\n",
    "\n",
    "df_species.head()"
   ]
  },
  {
   "cell_type": "code",
   "execution_count": 78,
   "id": "5e04eced",
   "metadata": {},
   "outputs": [
    {
     "name": "stdout",
     "output_type": "stream",
     "text": [
      "<class 'pandas.core.frame.DataFrame'>\n",
      "RangeIndex: 1090 entries, 0 to 1089\n",
      "Data columns (total 7 columns):\n",
      " #   Column                 Non-Null Count  Dtype \n",
      "---  ------                 --------------  ----- \n",
      " 0   species_code           1090 non-null   object\n",
      " 1   alt_full_spp_code      171 non-null    object\n",
      " 2   n_locations            1090 non-null   int64 \n",
      " 3   scientific_name        1090 non-null   object\n",
      " 4   american_english_name  1090 non-null   object\n",
      " 5   taxonomy_version       1090 non-null   int64 \n",
      " 6   taxonomic_sort_order   1090 non-null   int64 \n",
      "dtypes: int64(3), object(4)\n",
      "memory usage: 59.7+ KB\n"
     ]
    }
   ],
   "source": [
    "#Check the datatypes of the columns\n",
    "\n",
    "df_species.info()"
   ]
  },
  {
   "cell_type": "markdown",
   "id": "f094e941",
   "metadata": {},
   "source": [
    "From this table, I will only really be using the names so we can get rid of most of the columns."
   ]
  },
  {
   "cell_type": "code",
   "execution_count": 79,
   "id": "05e8aee3",
   "metadata": {},
   "outputs": [
    {
     "data": {
      "text/plain": [
       "(1090, 3)"
      ]
     },
     "execution_count": 79,
     "metadata": {},
     "output_type": "execute_result"
    }
   ],
   "source": [
    "#Overwrite the dataframe by just extracting the three columns we will use and then check the dimensions of the new df\n",
    "\n",
    "df_species = df_species[[\"species_code\", 'scientific_name', 'american_english_name']]\n",
    "df_species.shape #Sanity Check"
   ]
  },
  {
   "cell_type": "code",
   "execution_count": 80,
   "id": "a052fc08",
   "metadata": {},
   "outputs": [
    {
     "data": {
      "text/html": [
       "<div>\n",
       "<style scoped>\n",
       "    .dataframe tbody tr th:only-of-type {\n",
       "        vertical-align: middle;\n",
       "    }\n",
       "\n",
       "    .dataframe tbody tr th {\n",
       "        vertical-align: top;\n",
       "    }\n",
       "\n",
       "    .dataframe thead th {\n",
       "        text-align: right;\n",
       "    }\n",
       "</style>\n",
       "<table border=\"1\" class=\"dataframe\">\n",
       "  <thead>\n",
       "    <tr style=\"text-align: right;\">\n",
       "      <th></th>\n",
       "      <th>species_code</th>\n",
       "      <th>scientific_name</th>\n",
       "      <th>american_english_name</th>\n",
       "    </tr>\n",
       "  </thead>\n",
       "  <tbody>\n",
       "    <tr>\n",
       "      <th>0</th>\n",
       "      <td>grerhe1</td>\n",
       "      <td>Rhea americana</td>\n",
       "      <td>Greater Rhea</td>\n",
       "    </tr>\n",
       "    <tr>\n",
       "      <th>1</th>\n",
       "      <td>gretin1</td>\n",
       "      <td>Tinamus major</td>\n",
       "      <td>Great Tinamou</td>\n",
       "    </tr>\n",
       "    <tr>\n",
       "      <th>2</th>\n",
       "      <td>wfwduc1</td>\n",
       "      <td>Dendrocygna viduata</td>\n",
       "      <td>White-faced Whistling-Duck</td>\n",
       "    </tr>\n",
       "    <tr>\n",
       "      <th>3</th>\n",
       "      <td>bbwduc</td>\n",
       "      <td>Dendrocygna autumnalis</td>\n",
       "      <td>Black-bellied Whistling-Duck</td>\n",
       "    </tr>\n",
       "    <tr>\n",
       "      <th>4</th>\n",
       "      <td>fuwduc</td>\n",
       "      <td>Dendrocygna bicolor</td>\n",
       "      <td>Fulvous Whistling-Duck</td>\n",
       "    </tr>\n",
       "  </tbody>\n",
       "</table>\n",
       "</div>"
      ],
      "text/plain": [
       "  species_code         scientific_name         american_english_name\n",
       "0      grerhe1          Rhea americana                  Greater Rhea\n",
       "1      gretin1           Tinamus major                 Great Tinamou\n",
       "2      wfwduc1     Dendrocygna viduata    White-faced Whistling-Duck\n",
       "3       bbwduc  Dendrocygna autumnalis  Black-bellied Whistling-Duck\n",
       "4       fuwduc     Dendrocygna bicolor        Fulvous Whistling-Duck"
      ]
     },
     "execution_count": 80,
     "metadata": {},
     "output_type": "execute_result"
    }
   ],
   "source": [
    "#Display the first few rows of the (modified) dataframe\n",
    "\n",
    "df_species.head()"
   ]
  },
  {
   "cell_type": "code",
   "execution_count": 81,
   "id": "9d348342",
   "metadata": {},
   "outputs": [
    {
     "data": {
      "text/plain": [
       "species_code             0\n",
       "scientific_name          0\n",
       "american_english_name    0\n",
       "dtype: int64"
      ]
     },
     "execution_count": 81,
     "metadata": {},
     "output_type": "execute_result"
    }
   ],
   "source": [
    "#Check for null values in the species dataset\n",
    "\n",
    "df_species.isna().sum() "
   ]
  },
  {
   "cell_type": "code",
   "execution_count": 82,
   "id": "b641ac65",
   "metadata": {},
   "outputs": [
    {
     "data": {
      "text/html": [
       "<div>\n",
       "<style scoped>\n",
       "    .dataframe tbody tr th:only-of-type {\n",
       "        vertical-align: middle;\n",
       "    }\n",
       "\n",
       "    .dataframe tbody tr th {\n",
       "        vertical-align: top;\n",
       "    }\n",
       "\n",
       "    .dataframe thead th {\n",
       "        text-align: right;\n",
       "    }\n",
       "</style>\n",
       "<table border=\"1\" class=\"dataframe\">\n",
       "  <thead>\n",
       "    <tr style=\"text-align: right;\">\n",
       "      <th></th>\n",
       "      <th>species_code</th>\n",
       "      <th>scientific_name</th>\n",
       "      <th>american_english_name</th>\n",
       "    </tr>\n",
       "  </thead>\n",
       "  <tbody>\n",
       "  </tbody>\n",
       "</table>\n",
       "</div>"
      ],
      "text/plain": [
       "Empty DataFrame\n",
       "Columns: [species_code, scientific_name, american_english_name]\n",
       "Index: []"
      ]
     },
     "execution_count": 82,
     "metadata": {},
     "output_type": "execute_result"
    }
   ],
   "source": [
    "#Check for duplicates in the species dataset\n",
    "\n",
    "df_species[df_species.duplicated()] "
   ]
  },
  {
   "cell_type": "markdown",
   "id": "6731fc69",
   "metadata": {},
   "source": [
    "There are no null values and no duplicates in the species table, so we can move on to the next table"
   ]
  },
  {
   "cell_type": "markdown",
   "id": "3ae0f10f",
   "metadata": {},
   "source": [
    "***\n",
    "***\n",
    "***"
   ]
  },
  {
   "cell_type": "markdown",
   "id": "8d356810",
   "metadata": {},
   "source": [
    "#### Location Dataset (df_location) <a class = \"anchor\" id = \"Part-1.5\"></a>"
   ]
  },
  {
   "cell_type": "code",
   "execution_count": 83,
   "id": "4d1c610f",
   "metadata": {},
   "outputs": [],
   "source": [
    "#Check the dimentsions of the location dataset\n",
    "\n",
    "#df_location.shape"
   ]
  },
  {
   "cell_type": "code",
   "execution_count": 84,
   "id": "713c7bd2",
   "metadata": {},
   "outputs": [],
   "source": [
    "#Check the datatypes of the columns in the location table\n",
    "\n",
    "#df_location.info()"
   ]
  },
  {
   "cell_type": "code",
   "execution_count": 85,
   "id": "ae36098a",
   "metadata": {},
   "outputs": [],
   "source": [
    "#Look at the first few rows in the location table\n",
    "\n",
    "#df_location.head()"
   ]
  },
  {
   "cell_type": "code",
   "execution_count": 86,
   "id": "498d66fc",
   "metadata": {},
   "outputs": [],
   "source": [
    "#Calculate the number of null values in each column of the location table\n",
    "\n",
    "#df_location.isna().sum()"
   ]
  },
  {
   "cell_type": "markdown",
   "id": "a2f6d772",
   "metadata": {},
   "source": [
    "There are a lot of null values in this table. Will leave it as it is at the moment as I am not yet sure which columns will be used and how."
   ]
  },
  {
   "cell_type": "markdown",
   "id": "45beabe1",
   "metadata": {},
   "source": [
    "***\n",
    "***\n",
    "***\n",
    "****"
   ]
  },
  {
   "cell_type": "markdown",
   "id": "19d4989d",
   "metadata": {},
   "source": [
    "#### Combine the `df_birdfeeder_years` tables <a class = \"anchor\" id = \"Part-1.6\"></a>"
   ]
  },
  {
   "cell_type": "markdown",
   "id": "38a4f19a",
   "metadata": {},
   "source": [
    "Now that the individual birdfeeder tables are (hopefully) clean, we can go back to the initial idea of trying to \"merge\" them into one single table"
   ]
  },
  {
   "cell_type": "code",
   "execution_count": 87,
   "id": "0d792fa1",
   "metadata": {},
   "outputs": [
    {
     "name": "stdout",
     "output_type": "stream",
     "text": [
      " Dimensions of the dataset from 2021 - 2023: (8336959, 19)\n",
      " Dimensions of the dataset from 2016 - 2020: (9106402, 19)\n",
      " Dimensions of the dataset from 2011 - 2015: (7336213, 19)\n"
     ]
    }
   ],
   "source": [
    "#Checking the dimensions of the data tables\n",
    "\n",
    "print(f\" Dimensions of the dataset from 2021 - 2023: {df_birdfeeder_2021_2023.shape}\")\n",
    "print(f\" Dimensions of the dataset from 2016 - 2020: {df_birdfeeder_2016_2020.shape}\")\n",
    "print(f\" Dimensions of the dataset from 2011 - 2015: {df_birdfeeder_2011_2015.shape}\")"
   ]
  },
  {
   "cell_type": "code",
   "execution_count": 88,
   "id": "28c1919b",
   "metadata": {},
   "outputs": [
    {
     "name": "stdout",
     "output_type": "stream",
     "text": [
      "<class 'pandas.core.frame.DataFrame'>\n",
      "Index: 8336959 entries, 0 to 8394813\n",
      "Data columns (total 19 columns):\n",
      " #   Column             Dtype  \n",
      "---  ------             -----  \n",
      " 0   LOC_ID             object \n",
      " 1   LATITUDE           float64\n",
      " 2   LONGITUDE          float64\n",
      " 3   SUBNATIONAL1_CODE  object \n",
      " 4   SUB_ID             object \n",
      " 5   OBS_ID             object \n",
      " 6   Month              int64  \n",
      " 7   Day                int64  \n",
      " 8   Year               int64  \n",
      " 9   PROJ_PERIOD_ID     object \n",
      " 10  SPECIES_CODE       object \n",
      " 11  alt_full_spp_code  object \n",
      " 12  HOW_MANY           float64\n",
      " 13  DAY1_AM            int64  \n",
      " 14  DAY1_PM            int64  \n",
      " 15  DAY2_AM            int64  \n",
      " 16  DAY2_PM            int64  \n",
      " 17  SNOW_DEP_ATLEAST   float64\n",
      " 18  Data_Entry_Method  object \n",
      "dtypes: float64(4), int64(7), object(8)\n",
      "memory usage: 1.2+ GB\n",
      "None\n",
      "<class 'pandas.core.frame.DataFrame'>\n",
      "Index: 9106402 entries, 0 to 9209113\n",
      "Data columns (total 19 columns):\n",
      " #   Column             Dtype  \n",
      "---  ------             -----  \n",
      " 0   LOC_ID             object \n",
      " 1   LATITUDE           float64\n",
      " 2   LONGITUDE          float64\n",
      " 3   SUBNATIONAL1_CODE  object \n",
      " 4   SUB_ID             object \n",
      " 5   OBS_ID             object \n",
      " 6   Month              int64  \n",
      " 7   Day                int64  \n",
      " 8   Year               int64  \n",
      " 9   PROJ_PERIOD_ID     object \n",
      " 10  SPECIES_CODE       object \n",
      " 11  alt_full_spp_code  object \n",
      " 12  HOW_MANY           float64\n",
      " 13  DAY1_AM            float64\n",
      " 14  DAY1_PM            float64\n",
      " 15  DAY2_AM            float64\n",
      " 16  DAY2_PM            float64\n",
      " 17  SNOW_DEP_ATLEAST   float64\n",
      " 18  Data_Entry_Method  object \n",
      "dtypes: float64(8), int64(3), object(8)\n",
      "memory usage: 1.4+ GB\n",
      "None\n",
      "<class 'pandas.core.frame.DataFrame'>\n",
      "Index: 7336213 entries, 1 to 7460558\n",
      "Data columns (total 19 columns):\n",
      " #   Column             Dtype  \n",
      "---  ------             -----  \n",
      " 0   LOC_ID             object \n",
      " 1   LATITUDE           float64\n",
      " 2   LONGITUDE          float64\n",
      " 3   SUBNATIONAL1_CODE  object \n",
      " 4   SUB_ID             object \n",
      " 5   OBS_ID             object \n",
      " 6   Month              int64  \n",
      " 7   Day                int64  \n",
      " 8   Year               int64  \n",
      " 9   PROJ_PERIOD_ID     object \n",
      " 10  SPECIES_CODE       object \n",
      " 11  alt_full_spp_code  object \n",
      " 12  HOW_MANY           float64\n",
      " 13  DAY1_AM            float64\n",
      " 14  DAY1_PM            float64\n",
      " 15  DAY2_AM            float64\n",
      " 16  DAY2_PM            float64\n",
      " 17  SNOW_DEP_ATLEAST   float64\n",
      " 18  Data_Entry_Method  object \n",
      "dtypes: float64(8), int64(3), object(8)\n",
      "memory usage: 1.1+ GB\n",
      "None\n"
     ]
    }
   ],
   "source": [
    "#Check the datatypes\n",
    "\n",
    "print(df_birdfeeder_2021_2023.info())\n",
    "print(df_birdfeeder_2016_2020.info())\n",
    "print(df_birdfeeder_2011_2015.info())"
   ]
  },
  {
   "cell_type": "markdown",
   "id": "00c0dfc8",
   "metadata": {},
   "source": [
    "Lets adjust the datatypes of the `DAY[X]_AM/DAY[X]_PM` columns to integers "
   ]
  },
  {
   "cell_type": "code",
   "execution_count": 89,
   "id": "8c3dde43",
   "metadata": {},
   "outputs": [],
   "source": [
    "#Change column datatypes to int32\n",
    "\n",
    "df_birdfeeder_2021_2023['DAY1_AM'] = df_birdfeeder_2021_2023['DAY1_AM'].astype(int)\n",
    "df_birdfeeder_2021_2023['DAY1_PM'] = df_birdfeeder_2021_2023['DAY1_PM'].astype(int)\n",
    "df_birdfeeder_2021_2023['DAY2_AM'] = df_birdfeeder_2021_2023['DAY2_AM'].astype(int)\n",
    "df_birdfeeder_2021_2023['DAY2_PM'] = df_birdfeeder_2021_2023['DAY2_PM'].astype(int)\n",
    "\n",
    "df_birdfeeder_2016_2020['DAY1_AM'] = df_birdfeeder_2016_2020['DAY1_AM'].astype(int)\n",
    "df_birdfeeder_2016_2020['DAY1_PM'] = df_birdfeeder_2016_2020['DAY1_PM'].astype(int)\n",
    "df_birdfeeder_2016_2020['DAY2_AM'] = df_birdfeeder_2016_2020['DAY2_AM'].astype(int)\n",
    "df_birdfeeder_2016_2020['DAY2_PM'] = df_birdfeeder_2016_2020['DAY2_PM'].astype(int)\n",
    "\n",
    "df_birdfeeder_2011_2015['DAY1_AM'] = df_birdfeeder_2011_2015['DAY1_AM'].astype(int)\n",
    "df_birdfeeder_2011_2015['DAY1_PM'] = df_birdfeeder_2011_2015['DAY1_PM'].astype(int)\n",
    "df_birdfeeder_2011_2015['DAY2_AM'] = df_birdfeeder_2011_2015['DAY2_AM'].astype(int)\n",
    "df_birdfeeder_2011_2015['DAY2_PM'] = df_birdfeeder_2011_2015['DAY2_PM'].astype(int)"
   ]
  },
  {
   "cell_type": "code",
   "execution_count": 90,
   "id": "dae36994",
   "metadata": {},
   "outputs": [
    {
     "name": "stdout",
     "output_type": "stream",
     "text": [
      "All dataframes have the same columns.\n",
      "All dataframes have the same column datatypes.\n"
     ]
    }
   ],
   "source": [
    "# Check if columns are the same\n",
    "\n",
    "if df_birdfeeder_2021_2023.columns.tolist() == df_birdfeeder_2016_2020.columns.tolist() == df_birdfeeder_2011_2015.columns.tolist():\n",
    "    print(\"All dataframes have the same columns.\")\n",
    "else:\n",
    "    print(\"Dataframes have different columns.\")\n",
    "\n",
    "# Check if column datatypes are the same\n",
    "\n",
    "if df_birdfeeder_2021_2023.dtypes.equals(df_birdfeeder_2016_2020.dtypes) and df_birdfeeder_2021_2023.dtypes.equals(df_birdfeeder_2011_2015.dtypes):\n",
    "    print(\"All dataframes have the same column datatypes.\")\n",
    "else:\n",
    "    print(\"Dataframes have different column datatypes.\")"
   ]
  },
  {
   "cell_type": "markdown",
   "id": "6d14374a",
   "metadata": {},
   "source": [
    "***"
   ]
  },
  {
   "cell_type": "markdown",
   "id": "e1c2d1ae",
   "metadata": {},
   "source": [
    "We are ready to concatenate the three tables into one!"
   ]
  },
  {
   "cell_type": "code",
   "execution_count": 91,
   "id": "690e7414",
   "metadata": {},
   "outputs": [
    {
     "data": {
      "text/plain": [
       "(24779574, 19)"
      ]
     },
     "execution_count": 91,
     "metadata": {},
     "output_type": "execute_result"
    }
   ],
   "source": [
    "# Concatenate along the rows and save into a new dataframe\n",
    "\n",
    "df_birdfeeder_2011_2023 = pd.concat([df_birdfeeder_2011_2015, df_birdfeeder_2016_2020, df_birdfeeder_2021_2023], ignore_index=True)\n",
    "\n",
    "df_birdfeeder_2011_2023.shape"
   ]
  },
  {
   "cell_type": "code",
   "execution_count": 92,
   "id": "f4ee43ae",
   "metadata": {},
   "outputs": [
    {
     "data": {
      "text/html": [
       "<div>\n",
       "<style scoped>\n",
       "    .dataframe tbody tr th:only-of-type {\n",
       "        vertical-align: middle;\n",
       "    }\n",
       "\n",
       "    .dataframe tbody tr th {\n",
       "        vertical-align: top;\n",
       "    }\n",
       "\n",
       "    .dataframe thead th {\n",
       "        text-align: right;\n",
       "    }\n",
       "</style>\n",
       "<table border=\"1\" class=\"dataframe\">\n",
       "  <thead>\n",
       "    <tr style=\"text-align: right;\">\n",
       "      <th></th>\n",
       "      <th>LOC_ID</th>\n",
       "      <th>LATITUDE</th>\n",
       "      <th>LONGITUDE</th>\n",
       "      <th>SUBNATIONAL1_CODE</th>\n",
       "      <th>SUB_ID</th>\n",
       "      <th>OBS_ID</th>\n",
       "      <th>Month</th>\n",
       "      <th>Day</th>\n",
       "      <th>Year</th>\n",
       "      <th>PROJ_PERIOD_ID</th>\n",
       "      <th>SPECIES_CODE</th>\n",
       "      <th>alt_full_spp_code</th>\n",
       "      <th>HOW_MANY</th>\n",
       "      <th>DAY1_AM</th>\n",
       "      <th>DAY1_PM</th>\n",
       "      <th>DAY2_AM</th>\n",
       "      <th>DAY2_PM</th>\n",
       "      <th>SNOW_DEP_ATLEAST</th>\n",
       "      <th>Data_Entry_Method</th>\n",
       "    </tr>\n",
       "  </thead>\n",
       "  <tbody>\n",
       "    <tr>\n",
       "      <th>0</th>\n",
       "      <td>L100032</td>\n",
       "      <td>45.132361</td>\n",
       "      <td>-93.130328</td>\n",
       "      <td>US-MN</td>\n",
       "      <td>S10018923</td>\n",
       "      <td>OBS142409399</td>\n",
       "      <td>2</td>\n",
       "      <td>25</td>\n",
       "      <td>2012</td>\n",
       "      <td>PFW_2012</td>\n",
       "      <td>whbnut</td>\n",
       "      <td>NaN</td>\n",
       "      <td>1.0</td>\n",
       "      <td>0</td>\n",
       "      <td>1</td>\n",
       "      <td>1</td>\n",
       "      <td>1</td>\n",
       "      <td>0.001</td>\n",
       "      <td>PFW Web 1.x</td>\n",
       "    </tr>\n",
       "    <tr>\n",
       "      <th>1</th>\n",
       "      <td>L100032</td>\n",
       "      <td>45.132361</td>\n",
       "      <td>-93.130328</td>\n",
       "      <td>US-MN</td>\n",
       "      <td>S10018923</td>\n",
       "      <td>OBS142409400</td>\n",
       "      <td>2</td>\n",
       "      <td>25</td>\n",
       "      <td>2012</td>\n",
       "      <td>PFW_2012</td>\n",
       "      <td>daejun</td>\n",
       "      <td>NaN</td>\n",
       "      <td>11.0</td>\n",
       "      <td>0</td>\n",
       "      <td>1</td>\n",
       "      <td>1</td>\n",
       "      <td>1</td>\n",
       "      <td>0.001</td>\n",
       "      <td>PFW Web 1.x</td>\n",
       "    </tr>\n",
       "    <tr>\n",
       "      <th>2</th>\n",
       "      <td>L100032</td>\n",
       "      <td>45.132361</td>\n",
       "      <td>-93.130328</td>\n",
       "      <td>US-MN</td>\n",
       "      <td>S10018923</td>\n",
       "      <td>OBS142409401</td>\n",
       "      <td>2</td>\n",
       "      <td>25</td>\n",
       "      <td>2012</td>\n",
       "      <td>PFW_2012</td>\n",
       "      <td>blujay</td>\n",
       "      <td>NaN</td>\n",
       "      <td>1.0</td>\n",
       "      <td>0</td>\n",
       "      <td>1</td>\n",
       "      <td>1</td>\n",
       "      <td>1</td>\n",
       "      <td>0.001</td>\n",
       "      <td>PFW Web 1.x</td>\n",
       "    </tr>\n",
       "    <tr>\n",
       "      <th>3</th>\n",
       "      <td>L100032</td>\n",
       "      <td>45.132361</td>\n",
       "      <td>-93.130328</td>\n",
       "      <td>US-MN</td>\n",
       "      <td>S10018923</td>\n",
       "      <td>OBS142409402</td>\n",
       "      <td>2</td>\n",
       "      <td>25</td>\n",
       "      <td>2012</td>\n",
       "      <td>PFW_2012</td>\n",
       "      <td>norcar</td>\n",
       "      <td>NaN</td>\n",
       "      <td>6.0</td>\n",
       "      <td>0</td>\n",
       "      <td>1</td>\n",
       "      <td>1</td>\n",
       "      <td>1</td>\n",
       "      <td>0.001</td>\n",
       "      <td>PFW Web 1.x</td>\n",
       "    </tr>\n",
       "    <tr>\n",
       "      <th>4</th>\n",
       "      <td>L100032</td>\n",
       "      <td>45.132361</td>\n",
       "      <td>-93.130328</td>\n",
       "      <td>US-MN</td>\n",
       "      <td>S10018923</td>\n",
       "      <td>OBS142409403</td>\n",
       "      <td>2</td>\n",
       "      <td>25</td>\n",
       "      <td>2012</td>\n",
       "      <td>PFW_2012</td>\n",
       "      <td>amecro</td>\n",
       "      <td>NaN</td>\n",
       "      <td>2.0</td>\n",
       "      <td>0</td>\n",
       "      <td>1</td>\n",
       "      <td>1</td>\n",
       "      <td>1</td>\n",
       "      <td>0.001</td>\n",
       "      <td>PFW Web 1.x</td>\n",
       "    </tr>\n",
       "  </tbody>\n",
       "</table>\n",
       "</div>"
      ],
      "text/plain": [
       "    LOC_ID   LATITUDE  LONGITUDE SUBNATIONAL1_CODE     SUB_ID        OBS_ID  \\\n",
       "0  L100032  45.132361 -93.130328             US-MN  S10018923  OBS142409399   \n",
       "1  L100032  45.132361 -93.130328             US-MN  S10018923  OBS142409400   \n",
       "2  L100032  45.132361 -93.130328             US-MN  S10018923  OBS142409401   \n",
       "3  L100032  45.132361 -93.130328             US-MN  S10018923  OBS142409402   \n",
       "4  L100032  45.132361 -93.130328             US-MN  S10018923  OBS142409403   \n",
       "\n",
       "   Month  Day  Year PROJ_PERIOD_ID SPECIES_CODE alt_full_spp_code  HOW_MANY  \\\n",
       "0      2   25  2012       PFW_2012       whbnut               NaN       1.0   \n",
       "1      2   25  2012       PFW_2012       daejun               NaN      11.0   \n",
       "2      2   25  2012       PFW_2012       blujay               NaN       1.0   \n",
       "3      2   25  2012       PFW_2012       norcar               NaN       6.0   \n",
       "4      2   25  2012       PFW_2012       amecro               NaN       2.0   \n",
       "\n",
       "   DAY1_AM  DAY1_PM  DAY2_AM  DAY2_PM  SNOW_DEP_ATLEAST Data_Entry_Method  \n",
       "0        0        1        1        1             0.001       PFW Web 1.x  \n",
       "1        0        1        1        1             0.001       PFW Web 1.x  \n",
       "2        0        1        1        1             0.001       PFW Web 1.x  \n",
       "3        0        1        1        1             0.001       PFW Web 1.x  \n",
       "4        0        1        1        1             0.001       PFW Web 1.x  "
      ]
     },
     "execution_count": 92,
     "metadata": {},
     "output_type": "execute_result"
    }
   ],
   "source": [
    "df_birdfeeder_2011_2023.head()"
   ]
  },
  {
   "cell_type": "code",
   "execution_count": 93,
   "id": "2bfc32d4",
   "metadata": {},
   "outputs": [
    {
     "name": "stdout",
     "output_type": "stream",
     "text": [
      "The new dataset has the correct dimensions\n"
     ]
    }
   ],
   "source": [
    "#Sanity check\n",
    "\n",
    "if df_birdfeeder_2011_2015.shape[0] + df_birdfeeder_2016_2020.shape[0] + df_birdfeeder_2021_2023.shape[0] == df_birdfeeder_2011_2023.shape[0]:\n",
    "    print('The new dataset has the correct dimensions')"
   ]
  },
  {
   "cell_type": "markdown",
   "id": "ab93feee",
   "metadata": {},
   "source": [
    "***\n",
    "***\n",
    "***\n",
    "***"
   ]
  },
  {
   "cell_type": "markdown",
   "id": "8f0ae2a6",
   "metadata": {},
   "source": [
    "We will mainly be working with the `df_birdfeeder_2011_2023` and the `df_species` table. Depending on the analysis, it may be interesting to also add the location table later on.\n",
    "Both the birdfeeder and the species table contain a column for the species code. We can use this column to merge the two tables into a single one"
   ]
  },
  {
   "cell_type": "code",
   "execution_count": 94,
   "id": "e3c5c417",
   "metadata": {},
   "outputs": [],
   "source": [
    "#Join the df_birdfeeder and the df_species tables into a new dataframe\n",
    "\n",
    "df_birdfeeder_2011_2023 = pd.merge(df_birdfeeder_2011_2023, df_species, left_on='SPECIES_CODE', right_on = \"species_code\")"
   ]
  },
  {
   "cell_type": "code",
   "execution_count": 95,
   "id": "dda2773f",
   "metadata": {},
   "outputs": [
    {
     "data": {
      "text/plain": [
       "(24779574, 22)"
      ]
     },
     "execution_count": 95,
     "metadata": {},
     "output_type": "execute_result"
    }
   ],
   "source": [
    "#Check the dimensions of the newly created dataframe\n",
    "\n",
    "df_birdfeeder_2011_2023.shape"
   ]
  },
  {
   "cell_type": "code",
   "execution_count": 96,
   "id": "b184cc4d",
   "metadata": {},
   "outputs": [
    {
     "name": "stdout",
     "output_type": "stream",
     "text": [
      "<class 'pandas.core.frame.DataFrame'>\n",
      "RangeIndex: 24779574 entries, 0 to 24779573\n",
      "Data columns (total 22 columns):\n",
      " #   Column                 Dtype  \n",
      "---  ------                 -----  \n",
      " 0   LOC_ID                 object \n",
      " 1   LATITUDE               float64\n",
      " 2   LONGITUDE              float64\n",
      " 3   SUBNATIONAL1_CODE      object \n",
      " 4   SUB_ID                 object \n",
      " 5   OBS_ID                 object \n",
      " 6   Month                  int64  \n",
      " 7   Day                    int64  \n",
      " 8   Year                   int64  \n",
      " 9   PROJ_PERIOD_ID         object \n",
      " 10  SPECIES_CODE           object \n",
      " 11  alt_full_spp_code      object \n",
      " 12  HOW_MANY               float64\n",
      " 13  DAY1_AM                int32  \n",
      " 14  DAY1_PM                int32  \n",
      " 15  DAY2_AM                int32  \n",
      " 16  DAY2_PM                int32  \n",
      " 17  SNOW_DEP_ATLEAST       float64\n",
      " 18  Data_Entry_Method      object \n",
      " 19  species_code           object \n",
      " 20  scientific_name        object \n",
      " 21  american_english_name  object \n",
      "dtypes: float64(4), int32(4), int64(3), object(11)\n",
      "memory usage: 3.7+ GB\n"
     ]
    }
   ],
   "source": [
    "df_birdfeeder_2011_2023.info()"
   ]
  },
  {
   "cell_type": "code",
   "execution_count": 97,
   "id": "0e21dd7d",
   "metadata": {},
   "outputs": [
    {
     "data": {
      "text/html": [
       "<div>\n",
       "<style scoped>\n",
       "    .dataframe tbody tr th:only-of-type {\n",
       "        vertical-align: middle;\n",
       "    }\n",
       "\n",
       "    .dataframe tbody tr th {\n",
       "        vertical-align: top;\n",
       "    }\n",
       "\n",
       "    .dataframe thead th {\n",
       "        text-align: right;\n",
       "    }\n",
       "</style>\n",
       "<table border=\"1\" class=\"dataframe\">\n",
       "  <thead>\n",
       "    <tr style=\"text-align: right;\">\n",
       "      <th></th>\n",
       "      <th>LOC_ID</th>\n",
       "      <th>LATITUDE</th>\n",
       "      <th>LONGITUDE</th>\n",
       "      <th>SUBNATIONAL1_CODE</th>\n",
       "      <th>SUB_ID</th>\n",
       "      <th>OBS_ID</th>\n",
       "      <th>Month</th>\n",
       "      <th>Day</th>\n",
       "      <th>Year</th>\n",
       "      <th>PROJ_PERIOD_ID</th>\n",
       "      <th>...</th>\n",
       "      <th>HOW_MANY</th>\n",
       "      <th>DAY1_AM</th>\n",
       "      <th>DAY1_PM</th>\n",
       "      <th>DAY2_AM</th>\n",
       "      <th>DAY2_PM</th>\n",
       "      <th>SNOW_DEP_ATLEAST</th>\n",
       "      <th>Data_Entry_Method</th>\n",
       "      <th>species_code</th>\n",
       "      <th>scientific_name</th>\n",
       "      <th>american_english_name</th>\n",
       "    </tr>\n",
       "  </thead>\n",
       "  <tbody>\n",
       "    <tr>\n",
       "      <th>0</th>\n",
       "      <td>L100032</td>\n",
       "      <td>45.132361</td>\n",
       "      <td>-93.130328</td>\n",
       "      <td>US-MN</td>\n",
       "      <td>S10018923</td>\n",
       "      <td>OBS142409399</td>\n",
       "      <td>2</td>\n",
       "      <td>25</td>\n",
       "      <td>2012</td>\n",
       "      <td>PFW_2012</td>\n",
       "      <td>...</td>\n",
       "      <td>1.0</td>\n",
       "      <td>0</td>\n",
       "      <td>1</td>\n",
       "      <td>1</td>\n",
       "      <td>1</td>\n",
       "      <td>0.001</td>\n",
       "      <td>PFW Web 1.x</td>\n",
       "      <td>whbnut</td>\n",
       "      <td>Sitta carolinensis</td>\n",
       "      <td>White-breasted Nuthatch</td>\n",
       "    </tr>\n",
       "    <tr>\n",
       "      <th>1</th>\n",
       "      <td>L100032</td>\n",
       "      <td>45.132361</td>\n",
       "      <td>-93.130328</td>\n",
       "      <td>US-MN</td>\n",
       "      <td>S10086698</td>\n",
       "      <td>OBS143319034</td>\n",
       "      <td>3</td>\n",
       "      <td>3</td>\n",
       "      <td>2012</td>\n",
       "      <td>PFW_2012</td>\n",
       "      <td>...</td>\n",
       "      <td>1.0</td>\n",
       "      <td>1</td>\n",
       "      <td>1</td>\n",
       "      <td>1</td>\n",
       "      <td>1</td>\n",
       "      <td>5.000</td>\n",
       "      <td>PFW Web 1.x</td>\n",
       "      <td>whbnut</td>\n",
       "      <td>Sitta carolinensis</td>\n",
       "      <td>White-breasted Nuthatch</td>\n",
       "    </tr>\n",
       "    <tr>\n",
       "      <th>2</th>\n",
       "      <td>L100032</td>\n",
       "      <td>45.132361</td>\n",
       "      <td>-93.130328</td>\n",
       "      <td>US-MN</td>\n",
       "      <td>S10211123</td>\n",
       "      <td>OBS145000127</td>\n",
       "      <td>3</td>\n",
       "      <td>17</td>\n",
       "      <td>2012</td>\n",
       "      <td>PFW_2012</td>\n",
       "      <td>...</td>\n",
       "      <td>1.0</td>\n",
       "      <td>1</td>\n",
       "      <td>1</td>\n",
       "      <td>0</td>\n",
       "      <td>1</td>\n",
       "      <td>0.000</td>\n",
       "      <td>PFW Web 1.x</td>\n",
       "      <td>whbnut</td>\n",
       "      <td>Sitta carolinensis</td>\n",
       "      <td>White-breasted Nuthatch</td>\n",
       "    </tr>\n",
       "    <tr>\n",
       "      <th>3</th>\n",
       "      <td>L100032</td>\n",
       "      <td>45.132361</td>\n",
       "      <td>-93.130328</td>\n",
       "      <td>US-MN</td>\n",
       "      <td>S12044746</td>\n",
       "      <td>OBS169701359</td>\n",
       "      <td>11</td>\n",
       "      <td>10</td>\n",
       "      <td>2012</td>\n",
       "      <td>PFW_2013</td>\n",
       "      <td>...</td>\n",
       "      <td>2.0</td>\n",
       "      <td>1</td>\n",
       "      <td>1</td>\n",
       "      <td>1</td>\n",
       "      <td>1</td>\n",
       "      <td>NaN</td>\n",
       "      <td>PFW Web 1.x</td>\n",
       "      <td>whbnut</td>\n",
       "      <td>Sitta carolinensis</td>\n",
       "      <td>White-breasted Nuthatch</td>\n",
       "    </tr>\n",
       "    <tr>\n",
       "      <th>4</th>\n",
       "      <td>L100032</td>\n",
       "      <td>45.132361</td>\n",
       "      <td>-93.130328</td>\n",
       "      <td>US-MN</td>\n",
       "      <td>S12072753</td>\n",
       "      <td>OBS170093727</td>\n",
       "      <td>11</td>\n",
       "      <td>17</td>\n",
       "      <td>2012</td>\n",
       "      <td>PFW_2013</td>\n",
       "      <td>...</td>\n",
       "      <td>2.0</td>\n",
       "      <td>1</td>\n",
       "      <td>1</td>\n",
       "      <td>1</td>\n",
       "      <td>1</td>\n",
       "      <td>0.000</td>\n",
       "      <td>PFW Web 1.x</td>\n",
       "      <td>whbnut</td>\n",
       "      <td>Sitta carolinensis</td>\n",
       "      <td>White-breasted Nuthatch</td>\n",
       "    </tr>\n",
       "  </tbody>\n",
       "</table>\n",
       "<p>5 rows × 22 columns</p>\n",
       "</div>"
      ],
      "text/plain": [
       "    LOC_ID   LATITUDE  LONGITUDE SUBNATIONAL1_CODE     SUB_ID        OBS_ID  \\\n",
       "0  L100032  45.132361 -93.130328             US-MN  S10018923  OBS142409399   \n",
       "1  L100032  45.132361 -93.130328             US-MN  S10086698  OBS143319034   \n",
       "2  L100032  45.132361 -93.130328             US-MN  S10211123  OBS145000127   \n",
       "3  L100032  45.132361 -93.130328             US-MN  S12044746  OBS169701359   \n",
       "4  L100032  45.132361 -93.130328             US-MN  S12072753  OBS170093727   \n",
       "\n",
       "   Month  Day  Year PROJ_PERIOD_ID  ... HOW_MANY DAY1_AM  DAY1_PM  DAY2_AM  \\\n",
       "0      2   25  2012       PFW_2012  ...      1.0       0        1        1   \n",
       "1      3    3  2012       PFW_2012  ...      1.0       1        1        1   \n",
       "2      3   17  2012       PFW_2012  ...      1.0       1        1        0   \n",
       "3     11   10  2012       PFW_2013  ...      2.0       1        1        1   \n",
       "4     11   17  2012       PFW_2013  ...      2.0       1        1        1   \n",
       "\n",
       "   DAY2_PM  SNOW_DEP_ATLEAST  Data_Entry_Method  species_code  \\\n",
       "0        1             0.001        PFW Web 1.x        whbnut   \n",
       "1        1             5.000        PFW Web 1.x        whbnut   \n",
       "2        1             0.000        PFW Web 1.x        whbnut   \n",
       "3        1               NaN        PFW Web 1.x        whbnut   \n",
       "4        1             0.000        PFW Web 1.x        whbnut   \n",
       "\n",
       "      scientific_name    american_english_name  \n",
       "0  Sitta carolinensis  White-breasted Nuthatch  \n",
       "1  Sitta carolinensis  White-breasted Nuthatch  \n",
       "2  Sitta carolinensis  White-breasted Nuthatch  \n",
       "3  Sitta carolinensis  White-breasted Nuthatch  \n",
       "4  Sitta carolinensis  White-breasted Nuthatch  \n",
       "\n",
       "[5 rows x 22 columns]"
      ]
     },
     "execution_count": 97,
     "metadata": {},
     "output_type": "execute_result"
    }
   ],
   "source": [
    "#Display the first rows of datas of the new dataframe\n",
    "\n",
    "df_birdfeeder_2011_2023.head()"
   ]
  },
  {
   "cell_type": "code",
   "execution_count": null,
   "id": "2dce4406",
   "metadata": {},
   "outputs": [],
   "source": []
  },
  {
   "cell_type": "markdown",
   "id": "b8309718",
   "metadata": {},
   "source": [
    "Assuming the join worked as intended, we do not need the `species_code` or the `SPECIES_CODE` column anymore"
   ]
  },
  {
   "cell_type": "code",
   "execution_count": 98,
   "id": "753ab96e",
   "metadata": {},
   "outputs": [],
   "source": [
    "#drop the Species Code column\n",
    "\n",
    "df_birdfeeder_2011_2023 = df_birdfeeder_2011_2023.drop('species_code', axis=1, inplace=False) "
   ]
  },
  {
   "cell_type": "code",
   "execution_count": 102,
   "id": "2c277196",
   "metadata": {},
   "outputs": [],
   "source": [
    "#drop the other Species Code column\n",
    "\n",
    "df_birdfeeder_2011_2023 = df_birdfeeder_2011_2023.drop('SPECIES_CODE', axis=1, inplace=False) "
   ]
  },
  {
   "cell_type": "code",
   "execution_count": 103,
   "id": "9befadae",
   "metadata": {},
   "outputs": [
    {
     "data": {
      "text/plain": [
       "(24779574, 20)"
      ]
     },
     "execution_count": 103,
     "metadata": {},
     "output_type": "execute_result"
    }
   ],
   "source": [
    "#Sanity Check \n",
    "\n",
    "df_birdfeeder_2011_2023.shape"
   ]
  },
  {
   "cell_type": "markdown",
   "id": "2022ea61",
   "metadata": {},
   "source": [
    "Let's export this table as a csv file for other notebooks. <a class = \"anchor\" id = \"data_table\"></a>"
   ]
  },
  {
   "cell_type": "code",
   "execution_count": 104,
   "id": "1186bdee",
   "metadata": {},
   "outputs": [],
   "source": [
    "#Export the data to a csv file, commented code to not export everytime the kernel is restarted\n",
    "\n",
    "#df_birdfeeder_2011_2023.to_csv('feederwatch_2011_2023.csv', index=False)"
   ]
  },
  {
   "cell_type": "markdown",
   "id": "a797274e",
   "metadata": {},
   "source": [
    "***\n",
    "***\n",
    "[Back to Table of Contents](#ToC) \n",
    "\n",
    "***\n",
    "***"
   ]
  },
  {
   "cell_type": "markdown",
   "id": "0f189dca",
   "metadata": {},
   "source": [
    "### Part 2: Basic EDA <a class = \"anchor\" id = \"Part-2\"></a>"
   ]
  },
  {
   "cell_type": "markdown",
   "id": "92b8d124",
   "metadata": {},
   "source": [
    "Because the Data set is pretty large at the moment, it might make sense to shrink it down or divide into parts to make the analysis a little easier. One candidate for partitioning is the `Subnational1_code` column"
   ]
  },
  {
   "cell_type": "code",
   "execution_count": 105,
   "id": "3e464b34",
   "metadata": {},
   "outputs": [
    {
     "data": {
      "text/plain": [
       "SUBNATIONAL1_CODE\n",
       "US-NY     2178850\n",
       "CA-ON     1863274\n",
       "US-PA     1620655\n",
       "US-VA     1376403\n",
       "US-CA     1037404\n",
       "           ...   \n",
       "US-HI        1925\n",
       "MX-NAY       1841\n",
       "MX-JAL        771\n",
       "MN-061         43\n",
       "CA-NU          25\n",
       "Name: count, Length: 69, dtype: int64"
      ]
     },
     "execution_count": 105,
     "metadata": {},
     "output_type": "execute_result"
    }
   ],
   "source": [
    "#Investigate the values of the \"Subnational1_code column\"\n",
    "\n",
    "df_birdfeeder_2011_2023[\"SUBNATIONAL1_CODE\"].value_counts()"
   ]
  },
  {
   "cell_type": "markdown",
   "id": "1a573f24",
   "metadata": {},
   "source": [
    "It looks like each row in this column starts with 2 letters, which represent the country where the data was collected. Let's see how many countries we have"
   ]
  },
  {
   "cell_type": "code",
   "execution_count": 106,
   "id": "421185f9",
   "metadata": {},
   "outputs": [
    {
     "data": {
      "text/plain": [
       "SUBNATIONAL1_CODE\n",
       "US    21435100\n",
       "CA     3335655\n",
       "XX        4027\n",
       "MX        2612\n",
       "PM        2137\n",
       "MN          43\n",
       "Name: count, dtype: int64"
      ]
     },
     "execution_count": 106,
     "metadata": {},
     "output_type": "execute_result"
    }
   ],
   "source": [
    "#Display the first two letters of values in the \"Subnational1_code\" column and count how many times they appear in the data\n",
    "\n",
    "df_birdfeeder_2011_2023[\"SUBNATIONAL1_CODE\"].str[:2].value_counts()"
   ]
  },
  {
   "cell_type": "markdown",
   "id": "9d955869",
   "metadata": {},
   "source": [
    "We can see that the USA and Canada make up most of the data. According to the data dictionary, the \"XX\" values represent incorrect user inputs. I am not completely sure what \"MX\", \"PM\" and \"MN\" stand for here, but since their numbers are so small, we can just continue by focusing on the USA and Canada."
   ]
  },
  {
   "cell_type": "code",
   "execution_count": 108,
   "id": "903c8d17",
   "metadata": {},
   "outputs": [],
   "source": [
    "#Define a dataframe each for the US and for the Canadian data\n",
    "\n",
    "df_main_US = df_birdfeeder_2011_2023[df_birdfeeder_2011_2023[\"SUBNATIONAL1_CODE\"].str[:2] == \"US\"]\n",
    "df_main_CA = df_birdfeeder_2011_2023[df_birdfeeder_2011_2023[\"SUBNATIONAL1_CODE\"].str[:2] == \"CA\"]"
   ]
  },
  {
   "cell_type": "markdown",
   "id": "2b004f4b",
   "metadata": {},
   "source": [
    "Now we can start plotting the data!"
   ]
  },
  {
   "cell_type": "code",
   "execution_count": 109,
   "id": "df34a456",
   "metadata": {},
   "outputs": [
    {
     "data": {
      "image/png": "[encoded data removed]",
      "text/plain": [
       "<Figure size 1200x800 with 2 Axes>"
      ]
     },
     "metadata": {},
     "output_type": "display_data"
    }
   ],
   "source": [
    "#Plot the two distributions in one diagram\n",
    "\n",
    "plt.figure\n",
    "\n",
    "plt.subplots(2,1, figsize = (12,8))\n",
    "\n",
    "#Create the first subplot\n",
    "plt.subplot(2,1,1)\n",
    "plt.title(\"Distribution of bird sightings in the USA\")\n",
    "sns.histplot(df_main_US[\"SUBNATIONAL1_CODE\"])\n",
    "plt.xticks(rotation=90)\n",
    "plt.xlabel(\"State\")\n",
    "\n",
    "\n",
    "#Create the second subplot\n",
    "plt.subplot(2,1,2)\n",
    "plt.title(\"Distribution of bird sightings in Canada\")\n",
    "sns.histplot(df_main_CA[\"SUBNATIONAL1_CODE\"])\n",
    "plt.xticks(rotation=90)\n",
    "plt.xlabel(\"Province\")\n",
    "\n",
    "#Minimize overlap\n",
    "plt.tight_layout()\n",
    "\n",
    "plt.show()"
   ]
  },
  {
   "cell_type": "markdown",
   "id": "3038bf2a",
   "metadata": {},
   "source": [
    "In the USA, most of the values seem to have been recorded from the state of New York. In Canada, Ontario has by far the most value counts, followed by British Columbia."
   ]
  },
  {
   "cell_type": "markdown",
   "id": "dec0dd28",
   "metadata": {},
   "source": [
    "For Canada, let's see what kind of birds were most often encountered in the different states"
   ]
  },
  {
   "cell_type": "code",
   "execution_count": 110,
   "id": "d0f5985f",
   "metadata": {
    "scrolled": false
   },
   "outputs": [
    {
     "data": {
      "text/plain": [
       "<Figure size 640x480 with 0 Axes>"
      ]
     },
     "metadata": {},
     "output_type": "display_data"
    },
    {
     "data": {
      "image/png": "[encoded data removed]",
      "text/plain": [
       "<Figure size 1000x2500 with 15 Axes>"
      ]
     },
     "metadata": {},
     "output_type": "display_data"
    }
   ],
   "source": [
    "plt.figure()\n",
    "\n",
    "plt.subplots(5, 3, figsize=(10, 25))\n",
    "\n",
    "\n",
    "counter = 1\n",
    "\n",
    "for province in df_main_CA[\"SUBNATIONAL1_CODE\"].unique():\n",
    "    plt.subplot(5, 3, counter)  # Use the counter variable to specify the subplot position\n",
    "    df_state = df_main_CA[df_main_CA[\"SUBNATIONAL1_CODE\"] == province][\"american_english_name\"].value_counts().head(3).sort_values(ascending=False)\n",
    "    plt.bar(df_state.index, df_state.values)\n",
    "    plt.title(f\" {province}\")  # Add a title to each subplot\n",
    "    plt.xticks(rotation=70) \n",
    "    plt.ylabel(\"Count\")\n",
    "    plt.xlabel(\"Bird Species\")\n",
    "    counter += 1\n",
    "    \n",
    "plt.suptitle(\"Most frequently observed bird species in Canadian provinces\")\n",
    "plt.tight_layout(rect=[0, 0, 1, 0.96])  # Adjust the top parameter to leave space for the suptitle\n",
    "plt.show()"
   ]
  },
  {
   "cell_type": "markdown",
   "id": "088b4ab3",
   "metadata": {},
   "source": [
    "The top row of the plots show three states that had the highest number of birds. Interestingly, even though there are differences, similar species come up in the top 3 (Black capped Chickadee, Downy Woodpecker).\n",
    "\n",
    "Going forward, lets keep focusing on the Canadian data."
   ]
  },
  {
   "cell_type": "code",
   "execution_count": 111,
   "id": "d6b775bb",
   "metadata": {},
   "outputs": [
    {
     "data": {
      "text/plain": [
       "american_english_name\n",
       "Black-capped Chickadee    321576\n",
       "Downy Woodpecker          234347\n",
       "Dark-eyed Junco           233864\n",
       "Name: count, dtype: int64"
      ]
     },
     "execution_count": 111,
     "metadata": {},
     "output_type": "execute_result"
    }
   ],
   "source": [
    "#Check the most often encountered birds in Canada\n",
    "\n",
    "df_main_CA[\"american_english_name\"].value_counts().head(3)"
   ]
  },
  {
   "cell_type": "markdown",
   "id": "aa21a88d",
   "metadata": {},
   "source": [
    "This result is not surprising after having seen the data in each province. Lets use at the time data provided in the table."
   ]
  },
  {
   "cell_type": "code",
   "execution_count": 112,
   "id": "c872592f",
   "metadata": {},
   "outputs": [
    {
     "data": {
      "text/plain": [
       "Year\n",
       "2022    410641\n",
       "2021    388852\n",
       "2020    313800\n",
       "2023    245112\n",
       "2018    241850\n",
       "2016    234802\n",
       "2019    233770\n",
       "2017    231548\n",
       "2013    201745\n",
       "2014    197120\n",
       "2012    194471\n",
       "2015    192784\n",
       "2011    185598\n",
       "2010     63562\n",
       "Name: count, dtype: int64"
      ]
     },
     "execution_count": 112,
     "metadata": {},
     "output_type": "execute_result"
    }
   ],
   "source": [
    "#Print the value counts per year in the data\n",
    "\n",
    "df_main_CA[\"Year\"].value_counts()"
   ]
  },
  {
   "cell_type": "markdown",
   "id": "312a8f4f",
   "metadata": {},
   "source": [
    "The number of observations seems to have gone up over the years. It will be easier to see this in a plot."
   ]
  },
  {
   "cell_type": "code",
   "execution_count": 118,
   "id": "5c96c80f",
   "metadata": {},
   "outputs": [
    {
     "data": {
      "image/png": "[encoded data removed]",
      "text/plain": [
       "<Figure size 640x480 with 1 Axes>"
      ]
     },
     "metadata": {},
     "output_type": "display_data"
    }
   ],
   "source": [
    "value_counts = df_main_CA['Year'].value_counts().sort_index()\n",
    "\n",
    "# Create a line plot\n",
    "value_counts.plot(kind='line', marker='o')\n",
    "\n",
    "# Add labels and a title\n",
    "plt.xlabel('Year')\n",
    "plt.ylabel('Count')\n",
    "plt.title('Number of Bird Observations from 2010 to 2023')\n",
    "\n",
    "# Show the plot\n",
    "plt.show()"
   ]
  },
  {
   "cell_type": "markdown",
   "id": "0b980851",
   "metadata": {},
   "source": [
    "Both 2010 and 2023 have lower numbers of observations, but this may be due to the fact that the dataset is \"cut off\" during these years"
   ]
  },
  {
   "cell_type": "code",
   "execution_count": 119,
   "id": "27b867ea",
   "metadata": {},
   "outputs": [
    {
     "data": {
      "text/plain": [
       "Month\n",
       "3     676221\n",
       "1     663426\n",
       "12    640326\n",
       "2     591215\n",
       "11    459745\n",
       "4     304714\n",
       "10         8\n",
       "Name: count, dtype: int64"
      ]
     },
     "execution_count": 119,
     "metadata": {},
     "output_type": "execute_result"
    }
   ],
   "source": [
    "#Print the value counts per month in the data\n",
    "\n",
    "df_main_CA[\"Month\"].value_counts()"
   ]
  },
  {
   "cell_type": "markdown",
   "id": "433f40a7",
   "metadata": {},
   "source": [
    "There are no bird observations during the summer months. This is because the survey is only active during the winter."
   ]
  },
  {
   "cell_type": "code",
   "execution_count": 120,
   "id": "799a53e5",
   "metadata": {},
   "outputs": [
    {
     "data": {
      "text/html": [
       "<div>\n",
       "<style scoped>\n",
       "    .dataframe tbody tr th:only-of-type {\n",
       "        vertical-align: middle;\n",
       "    }\n",
       "\n",
       "    .dataframe tbody tr th {\n",
       "        vertical-align: top;\n",
       "    }\n",
       "\n",
       "    .dataframe thead th {\n",
       "        text-align: right;\n",
       "    }\n",
       "</style>\n",
       "<table border=\"1\" class=\"dataframe\">\n",
       "  <thead>\n",
       "    <tr style=\"text-align: right;\">\n",
       "      <th></th>\n",
       "      <th>Year</th>\n",
       "      <th>Month</th>\n",
       "      <th>count</th>\n",
       "    </tr>\n",
       "  </thead>\n",
       "  <tbody>\n",
       "    <tr>\n",
       "      <th>0</th>\n",
       "      <td>2010</td>\n",
       "      <td>12</td>\n",
       "      <td>38322</td>\n",
       "    </tr>\n",
       "    <tr>\n",
       "      <th>1</th>\n",
       "      <td>2010</td>\n",
       "      <td>11</td>\n",
       "      <td>25240</td>\n",
       "    </tr>\n",
       "    <tr>\n",
       "      <th>2</th>\n",
       "      <td>2011</td>\n",
       "      <td>1</td>\n",
       "      <td>43073</td>\n",
       "    </tr>\n",
       "    <tr>\n",
       "      <th>3</th>\n",
       "      <td>2011</td>\n",
       "      <td>3</td>\n",
       "      <td>40152</td>\n",
       "    </tr>\n",
       "    <tr>\n",
       "      <th>4</th>\n",
       "      <td>2011</td>\n",
       "      <td>2</td>\n",
       "      <td>36035</td>\n",
       "    </tr>\n",
       "    <tr>\n",
       "      <th>5</th>\n",
       "      <td>2011</td>\n",
       "      <td>12</td>\n",
       "      <td>35258</td>\n",
       "    </tr>\n",
       "    <tr>\n",
       "      <th>6</th>\n",
       "      <td>2011</td>\n",
       "      <td>11</td>\n",
       "      <td>21499</td>\n",
       "    </tr>\n",
       "    <tr>\n",
       "      <th>7</th>\n",
       "      <td>2011</td>\n",
       "      <td>4</td>\n",
       "      <td>9581</td>\n",
       "    </tr>\n",
       "    <tr>\n",
       "      <th>8</th>\n",
       "      <td>2012</td>\n",
       "      <td>12</td>\n",
       "      <td>46677</td>\n",
       "    </tr>\n",
       "    <tr>\n",
       "      <th>9</th>\n",
       "      <td>2012</td>\n",
       "      <td>3</td>\n",
       "      <td>42048</td>\n",
       "    </tr>\n",
       "  </tbody>\n",
       "</table>\n",
       "</div>"
      ],
      "text/plain": [
       "   Year  Month  count\n",
       "0  2010     12  38322\n",
       "1  2010     11  25240\n",
       "2  2011      1  43073\n",
       "3  2011      3  40152\n",
       "4  2011      2  36035\n",
       "5  2011     12  35258\n",
       "6  2011     11  21499\n",
       "7  2011      4   9581\n",
       "8  2012     12  46677\n",
       "9  2012      3  42048"
      ]
     },
     "execution_count": 120,
     "metadata": {},
     "output_type": "execute_result"
    }
   ],
   "source": [
    "#Create a dataframe that groups first by year and then by month and then counts the species per month and year\n",
    "\n",
    "df_temp = df_main_CA.groupby(['Year'])[\"Month\"].value_counts().reset_index()\n",
    "df_temp.head(10)"
   ]
  },
  {
   "cell_type": "markdown",
   "id": "836effcc",
   "metadata": {},
   "source": [
    "Let's plot this data to see which months are most \"active\". We can exclude the years 2010 and 2023 because they have lower numbers of bird observations"
   ]
  },
  {
   "cell_type": "code",
   "execution_count": 126,
   "id": "61b4b5af",
   "metadata": {},
   "outputs": [
    {
     "data": {
      "text/plain": [
       "<Figure size 640x480 with 0 Axes>"
      ]
     },
     "metadata": {},
     "output_type": "display_data"
    },
    {
     "data": {
      "image/png": "[encoded data removed]",
      "text/plain": [
       "<Figure size 2000x6000 with 12 Axes>"
      ]
     },
     "metadata": {},
     "output_type": "display_data"
    },
    {
     "data": {
      "text/plain": [
       "<Figure size 640x480 with 0 Axes>"
      ]
     },
     "metadata": {},
     "output_type": "display_data"
    }
   ],
   "source": [
    "plt.figure()\n",
    "\n",
    "plt.subplots(12,1, figsize = (20,60))\n",
    "\n",
    "plt.subplot(12,1,1)\n",
    "plt.title(\"Data from 2011\")\n",
    "sns.barplot(x = \"Month\", y = \"count\", data = df_temp[df_temp[\"Year\"] == 2011])\n",
    "\n",
    "plt.subplot(12,1,2)\n",
    "plt.title(\"Data from 2012\")\n",
    "sns.barplot(x = \"Month\", y = \"count\", data = df_temp[df_temp[\"Year\"] == 2012])\n",
    "\n",
    "plt.subplot(12,1,3)\n",
    "plt.title(\"Data from 2013\")\n",
    "sns.barplot(x = \"Month\", y = \"count\", data = df_temp[df_temp[\"Year\"] == 2013])\n",
    "\n",
    "plt.subplot(12,1,4)\n",
    "plt.title(\"Data from 2014\")\n",
    "sns.barplot(x = \"Month\", y = \"count\", data = df_temp[df_temp[\"Year\"] == 2014])\n",
    "\n",
    "plt.subplot(12,1,5)\n",
    "plt.title(\"Data from 2015\")\n",
    "sns.barplot(x = \"Month\", y = \"count\", data = df_temp[df_temp[\"Year\"] == 2015])\n",
    "\n",
    "plt.subplot(12,1,6)\n",
    "plt.title(\"Data from 2016\")\n",
    "sns.barplot(x = \"Month\", y = \"count\", data = df_temp[df_temp[\"Year\"] == 2016])\n",
    "\n",
    "plt.subplot(12,1,7)\n",
    "plt.title(\"Data from 2017\")\n",
    "sns.barplot(x = \"Month\", y = \"count\", data = df_temp[df_temp[\"Year\"] == 2017])\n",
    "\n",
    "plt.subplot(12,1,8)\n",
    "plt.title(\"Data from 2018\")\n",
    "sns.barplot(x = \"Month\", y = \"count\", data = df_temp[df_temp[\"Year\"] == 2018])\n",
    "\n",
    "plt.subplot(12,1,9)\n",
    "plt.title(\"Data from 2019\")\n",
    "sns.barplot(x = \"Month\", y = \"count\", data = df_temp[df_temp[\"Year\"] == 2019])\n",
    "\n",
    "plt.subplot(12,1,10)\n",
    "plt.title(\"Data from 2020\")\n",
    "sns.barplot(x = \"Month\", y = \"count\", data = df_temp[df_temp[\"Year\"] == 2020])\n",
    "\n",
    "\n",
    "plt.subplot(12,1,11)\n",
    "plt.title(\"Data from 2021\")\n",
    "sns.barplot(x = \"Month\", y = \"count\", data = df_temp[df_temp[\"Year\"] == 2021])\n",
    "\n",
    "\n",
    "plt.subplot(12,1,12)\n",
    "plt.title(\"Data from 2022\")\n",
    "sns.barplot(x = \"Month\", y = \"count\", data = df_temp[df_temp[\"Year\"] == 2022])\n",
    "\n",
    "\n",
    "plt.show()\n",
    "\n",
    "plt.tight_layout()"
   ]
  },
  {
   "cell_type": "markdown",
   "id": "885fe3ac",
   "metadata": {},
   "source": []
  },
  {
   "cell_type": "markdown",
   "id": "5c259e9d",
   "metadata": {},
   "source": [
    "***\n",
    "***\n",
    "***"
   ]
  },
  {
   "cell_type": "markdown",
   "id": "a23bedac",
   "metadata": {},
   "source": [
    "### Part 3: Next steps <a class = \"anchor\" id = \"Part-3\"></a>"
   ]
  },
  {
   "cell_type": "markdown",
   "id": "c60c695b",
   "metadata": {},
   "source": [
    "*Some Brainstorming ideas on how to proceed:*\n",
    "- Focus on just one state, such as BC in Canada\n",
    "- Explore the trends there and how they relate to the North-American trends\n"
   ]
  }
 ],
 "metadata": {
  "kernelspec": {
   "display_name": "Python 3 (ipykernel)",
   "language": "python",
   "name": "python3"
  },
  "language_info": {
   "codemirror_mode": {
    "name": "ipython",
    "version": 3
   },
   "file_extension": ".py",
   "mimetype": "text/x-python",
   "name": "python",
   "nbconvert_exporter": "python",
   "pygments_lexer": "ipython3",
   "version": "3.11.5"
  }
 },
 "nbformat": 4,
 "nbformat_minor": 5
}

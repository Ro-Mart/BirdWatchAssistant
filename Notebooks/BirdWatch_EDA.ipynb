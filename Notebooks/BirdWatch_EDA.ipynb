{
 "cells": [
  {
   "cell_type": "markdown",
   "id": "d65954b8",
   "metadata": {},
   "source": [
    "# BirdWatch EDA and Data Preparation\n"
   ]
  },
  {
   "cell_type": "markdown",
   "id": "c9b8a968",
   "metadata": {},
   "source": [
    "## Author: Rosemarie Martienssen\n"
   ]
  },
  {
   "cell_type": "markdown",
   "id": "193973ff",
   "metadata": {},
   "source": [
    "***"
   ]
  },
  {
   "cell_type": "code",
   "execution_count": null,
   "id": "8dd5adea",
   "metadata": {},
   "outputs": [],
   "source": []
  },
  {
   "cell_type": "markdown",
   "id": "9334fddc",
   "metadata": {},
   "source": [
    "### Table of contents\n",
    "- [Part 0: Import required Python packages and import raw data](#Part-0)\n",
    "\n",
    "- [Part 1: Data cleaning](#Part-1)\n",
    "\n",
    "- [Part 2: Basic EDA](#Part-2)"
   ]
  },
  {
   "cell_type": "code",
   "execution_count": null,
   "id": "14661cc0",
   "metadata": {},
   "outputs": [],
   "source": []
  },
  {
   "cell_type": "markdown",
   "id": "0194d05b",
   "metadata": {},
   "source": [
    "### Part 0: Import required Python packages and import raw data <a class = \"anchor\" id = \"Part-0\"></a>"
   ]
  },
  {
   "cell_type": "code",
   "execution_count": 1,
   "id": "6a0e45e3",
   "metadata": {},
   "outputs": [
    {
     "data": {
      "text/html": [
       "<style>.container { width:100% !important; }</style>"
      ],
      "text/plain": [
       "<IPython.core.display.HTML object>"
      ]
     },
     "metadata": {},
     "output_type": "display_data"
    }
   ],
   "source": [
    "# Displaying full width Notebook\n",
    "\n",
    "from IPython.display import display, HTML\n",
    "display(HTML(\"<style>.container { width:100% !important; }</style>\"))"
   ]
  },
  {
   "cell_type": "code",
   "execution_count": 77,
   "id": "608ea105",
   "metadata": {},
   "outputs": [],
   "source": [
    "#import packages\n",
    "\n",
    "import pandas as pd\n",
    "import numpy as np\n",
    "\n",
    "import matplotlib.pyplot as plt\n",
    "import seaborn as sns\n",
    "#import plotly.express as px\n",
    "\n",
    "#from scipy import stats\n",
    "#from scipy.stats import norm #used for plotting\n",
    "#import statsmodels.api as sm"
   ]
  },
  {
   "cell_type": "code",
   "execution_count": 3,
   "id": "b84dbf61",
   "metadata": {},
   "outputs": [],
   "source": [
    "#Import bird feeder data into PANDAS Dataframe\n",
    "\n",
    "df_raw = pd.read_csv(\"../data/raw/PFW_all_2021_2023_June2023_Public.csv\") "
   ]
  },
  {
   "cell_type": "code",
   "execution_count": 4,
   "id": "1fe9a0b0",
   "metadata": {},
   "outputs": [],
   "source": [
    "#Import the table containing species data into a PANDAS Dataframe\n",
    "\n",
    "df_species = pd.read_csv(\"../data/raw/PFW_spp_translation_table_May2023.csv\") "
   ]
  },
  {
   "cell_type": "code",
   "execution_count": 5,
   "id": "51dd64c2",
   "metadata": {},
   "outputs": [
    {
     "name": "stderr",
     "output_type": "stream",
     "text": [
      "C:\\Users\\rmart\\AppData\\Local\\Temp\\ipykernel_33764\\2875746371.py:3: DtypeWarning: Columns (9,10,11,12,13,14,15,16,17,18,19,20,21,22) have mixed types. Specify dtype option on import or set low_memory=False.\n",
      "  df_location = pd.read_csv(\"../data/raw/PFW_count_site_data_public_June2023.csv\")\n"
     ]
    }
   ],
   "source": [
    "#Import the table containing location data into a PANDAS Dataframe\n",
    "\n",
    "df_location = pd.read_csv(\"../data/raw/PFW_count_site_data_public_June2023.csv\") "
   ]
  },
  {
   "cell_type": "code",
   "execution_count": null,
   "id": "94cd3b3e",
   "metadata": {},
   "outputs": [],
   "source": []
  },
  {
   "cell_type": "markdown",
   "id": "f11d09eb",
   "metadata": {},
   "source": [
    "### Part 1: Data cleaning <a class = \"anchor\" id = \"Part-1\"></a>"
   ]
  },
  {
   "cell_type": "markdown",
   "id": "3bec90e4",
   "metadata": {},
   "source": [
    "#### Main Birdfeeder Dataset (df_raw)"
   ]
  },
  {
   "cell_type": "code",
   "execution_count": 6,
   "id": "08120cf5",
   "metadata": {},
   "outputs": [
    {
     "data": {
      "text/plain": [
       "(8394814, 24)"
      ]
     },
     "execution_count": 6,
     "metadata": {},
     "output_type": "execute_result"
    }
   ],
   "source": [
    "#Checking the dimension of the data\n",
    "\n",
    "df_raw.shape"
   ]
  },
  {
   "cell_type": "code",
   "execution_count": 7,
   "id": "1d10135b",
   "metadata": {},
   "outputs": [
    {
     "data": {
      "text/html": [
       "<div>\n",
       "<style scoped>\n",
       "    .dataframe tbody tr th:only-of-type {\n",
       "        vertical-align: middle;\n",
       "    }\n",
       "\n",
       "    .dataframe tbody tr th {\n",
       "        vertical-align: top;\n",
       "    }\n",
       "\n",
       "    .dataframe thead th {\n",
       "        text-align: right;\n",
       "    }\n",
       "</style>\n",
       "<table border=\"1\" class=\"dataframe\">\n",
       "  <thead>\n",
       "    <tr style=\"text-align: right;\">\n",
       "      <th></th>\n",
       "      <th>LOC_ID</th>\n",
       "      <th>LATITUDE</th>\n",
       "      <th>LONGITUDE</th>\n",
       "      <th>SUBNATIONAL1_CODE</th>\n",
       "      <th>ENTRY_TECHNIQUE</th>\n",
       "      <th>SUB_ID</th>\n",
       "      <th>OBS_ID</th>\n",
       "      <th>Month</th>\n",
       "      <th>Day</th>\n",
       "      <th>Year</th>\n",
       "      <th>...</th>\n",
       "      <th>PLUS_CODE</th>\n",
       "      <th>VALID</th>\n",
       "      <th>REVIEWED</th>\n",
       "      <th>DAY1_AM</th>\n",
       "      <th>DAY1_PM</th>\n",
       "      <th>DAY2_AM</th>\n",
       "      <th>DAY2_PM</th>\n",
       "      <th>EFFORT_HRS_ATLEAST</th>\n",
       "      <th>SNOW_DEP_ATLEAST</th>\n",
       "      <th>Data_Entry_Method</th>\n",
       "    </tr>\n",
       "  </thead>\n",
       "  <tbody>\n",
       "    <tr>\n",
       "      <th>0</th>\n",
       "      <td>L100032</td>\n",
       "      <td>45.132361</td>\n",
       "      <td>-93.130328</td>\n",
       "      <td>US-MN</td>\n",
       "      <td>PointMaker1.0_2</td>\n",
       "      <td>S100892478</td>\n",
       "      <td>OBS1320317836</td>\n",
       "      <td>1</td>\n",
       "      <td>15</td>\n",
       "      <td>2022</td>\n",
       "      <td>...</td>\n",
       "      <td>NaN</td>\n",
       "      <td>1.0</td>\n",
       "      <td>0.0</td>\n",
       "      <td>1</td>\n",
       "      <td>0</td>\n",
       "      <td>1</td>\n",
       "      <td>1</td>\n",
       "      <td>1.001</td>\n",
       "      <td>5.0</td>\n",
       "      <td>PFW Web 4.1.5</td>\n",
       "    </tr>\n",
       "    <tr>\n",
       "      <th>1</th>\n",
       "      <td>L100032</td>\n",
       "      <td>45.132361</td>\n",
       "      <td>-93.130328</td>\n",
       "      <td>US-MN</td>\n",
       "      <td>PointMaker1.0_2</td>\n",
       "      <td>S100892478</td>\n",
       "      <td>OBS1320317837</td>\n",
       "      <td>1</td>\n",
       "      <td>15</td>\n",
       "      <td>2022</td>\n",
       "      <td>...</td>\n",
       "      <td>NaN</td>\n",
       "      <td>1.0</td>\n",
       "      <td>0.0</td>\n",
       "      <td>1</td>\n",
       "      <td>0</td>\n",
       "      <td>1</td>\n",
       "      <td>1</td>\n",
       "      <td>1.001</td>\n",
       "      <td>5.0</td>\n",
       "      <td>PFW Web 4.1.5</td>\n",
       "    </tr>\n",
       "    <tr>\n",
       "      <th>2</th>\n",
       "      <td>L100032</td>\n",
       "      <td>45.132361</td>\n",
       "      <td>-93.130328</td>\n",
       "      <td>US-MN</td>\n",
       "      <td>PointMaker1.0_2</td>\n",
       "      <td>S100892478</td>\n",
       "      <td>OBS1320317838</td>\n",
       "      <td>1</td>\n",
       "      <td>15</td>\n",
       "      <td>2022</td>\n",
       "      <td>...</td>\n",
       "      <td>NaN</td>\n",
       "      <td>1.0</td>\n",
       "      <td>0.0</td>\n",
       "      <td>1</td>\n",
       "      <td>0</td>\n",
       "      <td>1</td>\n",
       "      <td>1</td>\n",
       "      <td>1.001</td>\n",
       "      <td>5.0</td>\n",
       "      <td>PFW Web 4.1.5</td>\n",
       "    </tr>\n",
       "    <tr>\n",
       "      <th>3</th>\n",
       "      <td>L100032</td>\n",
       "      <td>45.132361</td>\n",
       "      <td>-93.130328</td>\n",
       "      <td>US-MN</td>\n",
       "      <td>PointMaker1.0_2</td>\n",
       "      <td>S100892478</td>\n",
       "      <td>OBS1320317839</td>\n",
       "      <td>1</td>\n",
       "      <td>15</td>\n",
       "      <td>2022</td>\n",
       "      <td>...</td>\n",
       "      <td>NaN</td>\n",
       "      <td>1.0</td>\n",
       "      <td>0.0</td>\n",
       "      <td>1</td>\n",
       "      <td>0</td>\n",
       "      <td>1</td>\n",
       "      <td>1</td>\n",
       "      <td>1.001</td>\n",
       "      <td>5.0</td>\n",
       "      <td>PFW Web 4.1.5</td>\n",
       "    </tr>\n",
       "    <tr>\n",
       "      <th>4</th>\n",
       "      <td>L100032</td>\n",
       "      <td>45.132361</td>\n",
       "      <td>-93.130328</td>\n",
       "      <td>US-MN</td>\n",
       "      <td>PointMaker1.0_2</td>\n",
       "      <td>S100892478</td>\n",
       "      <td>OBS1320317840</td>\n",
       "      <td>1</td>\n",
       "      <td>15</td>\n",
       "      <td>2022</td>\n",
       "      <td>...</td>\n",
       "      <td>NaN</td>\n",
       "      <td>1.0</td>\n",
       "      <td>0.0</td>\n",
       "      <td>1</td>\n",
       "      <td>0</td>\n",
       "      <td>1</td>\n",
       "      <td>1</td>\n",
       "      <td>1.001</td>\n",
       "      <td>5.0</td>\n",
       "      <td>PFW Web 4.1.5</td>\n",
       "    </tr>\n",
       "  </tbody>\n",
       "</table>\n",
       "<p>5 rows × 24 columns</p>\n",
       "</div>"
      ],
      "text/plain": [
       "    LOC_ID   LATITUDE  LONGITUDE SUBNATIONAL1_CODE  ENTRY_TECHNIQUE  \\\n",
       "0  L100032  45.132361 -93.130328             US-MN  PointMaker1.0_2   \n",
       "1  L100032  45.132361 -93.130328             US-MN  PointMaker1.0_2   \n",
       "2  L100032  45.132361 -93.130328             US-MN  PointMaker1.0_2   \n",
       "3  L100032  45.132361 -93.130328             US-MN  PointMaker1.0_2   \n",
       "4  L100032  45.132361 -93.130328             US-MN  PointMaker1.0_2   \n",
       "\n",
       "       SUB_ID         OBS_ID  Month  Day  Year  ... PLUS_CODE VALID REVIEWED  \\\n",
       "0  S100892478  OBS1320317836      1   15  2022  ...       NaN   1.0      0.0   \n",
       "1  S100892478  OBS1320317837      1   15  2022  ...       NaN   1.0      0.0   \n",
       "2  S100892478  OBS1320317838      1   15  2022  ...       NaN   1.0      0.0   \n",
       "3  S100892478  OBS1320317839      1   15  2022  ...       NaN   1.0      0.0   \n",
       "4  S100892478  OBS1320317840      1   15  2022  ...       NaN   1.0      0.0   \n",
       "\n",
       "   DAY1_AM  DAY1_PM  DAY2_AM  DAY2_PM  EFFORT_HRS_ATLEAST  SNOW_DEP_ATLEAST  \\\n",
       "0        1        0        1        1               1.001               5.0   \n",
       "1        1        0        1        1               1.001               5.0   \n",
       "2        1        0        1        1               1.001               5.0   \n",
       "3        1        0        1        1               1.001               5.0   \n",
       "4        1        0        1        1               1.001               5.0   \n",
       "\n",
       "   Data_Entry_Method  \n",
       "0      PFW Web 4.1.5  \n",
       "1      PFW Web 4.1.5  \n",
       "2      PFW Web 4.1.5  \n",
       "3      PFW Web 4.1.5  \n",
       "4      PFW Web 4.1.5  \n",
       "\n",
       "[5 rows x 24 columns]"
      ]
     },
     "execution_count": 7,
     "metadata": {},
     "output_type": "execute_result"
    }
   ],
   "source": [
    "#First look at the data\n",
    "\n",
    "df_raw.head()"
   ]
  },
  {
   "cell_type": "code",
   "execution_count": 8,
   "id": "6c9170bc",
   "metadata": {},
   "outputs": [
    {
     "name": "stdout",
     "output_type": "stream",
     "text": [
      "<class 'pandas.core.frame.DataFrame'>\n",
      "RangeIndex: 8394814 entries, 0 to 8394813\n",
      "Data columns (total 24 columns):\n",
      " #   Column              Dtype  \n",
      "---  ------              -----  \n",
      " 0   LOC_ID              object \n",
      " 1   LATITUDE            float64\n",
      " 2   LONGITUDE           float64\n",
      " 3   SUBNATIONAL1_CODE   object \n",
      " 4   ENTRY_TECHNIQUE     object \n",
      " 5   SUB_ID              object \n",
      " 6   OBS_ID              object \n",
      " 7   Month               int64  \n",
      " 8   Day                 int64  \n",
      " 9   Year                int64  \n",
      " 10  PROJ_PERIOD_ID      object \n",
      " 11  SPECIES_CODE        object \n",
      " 12  alt_full_spp_code   object \n",
      " 13  HOW_MANY            float64\n",
      " 14  PLUS_CODE           float64\n",
      " 15  VALID               float64\n",
      " 16  REVIEWED            float64\n",
      " 17  DAY1_AM             int64  \n",
      " 18  DAY1_PM             int64  \n",
      " 19  DAY2_AM             int64  \n",
      " 20  DAY2_PM             int64  \n",
      " 21  EFFORT_HRS_ATLEAST  float64\n",
      " 22  SNOW_DEP_ATLEAST    float64\n",
      " 23  Data_Entry_Method   object \n",
      "dtypes: float64(8), int64(7), object(9)\n",
      "memory usage: 1.5+ GB\n"
     ]
    }
   ],
   "source": [
    "#Check the data types of the columns\n",
    "\n",
    "df_raw.info()"
   ]
  },
  {
   "cell_type": "code",
   "execution_count": 9,
   "id": "f0da4804",
   "metadata": {},
   "outputs": [
    {
     "data": {
      "text/plain": [
       "LOC_ID                      0\n",
       "LATITUDE                    0\n",
       "LONGITUDE                   0\n",
       "SUBNATIONAL1_CODE           0\n",
       "ENTRY_TECHNIQUE        255951\n",
       "SUB_ID                      0\n",
       "OBS_ID                   7893\n",
       "Month                       0\n",
       "Day                         0\n",
       "Year                        0\n",
       "PROJ_PERIOD_ID              0\n",
       "SPECIES_CODE                0\n",
       "alt_full_spp_code     8346300\n",
       "HOW_MANY                 7893\n",
       "PLUS_CODE             8394814\n",
       "VALID                    7893\n",
       "REVIEWED                 7893\n",
       "DAY1_AM                     0\n",
       "DAY1_PM                     0\n",
       "DAY2_AM                     0\n",
       "DAY2_PM                     0\n",
       "EFFORT_HRS_ATLEAST      14557\n",
       "SNOW_DEP_ATLEAST       782968\n",
       "Data_Entry_Method           0\n",
       "dtype: int64"
      ]
     },
     "execution_count": 9,
     "metadata": {},
     "output_type": "execute_result"
    }
   ],
   "source": [
    "#Check for the number of na values in each column\n",
    "\n",
    "df_raw.isna().sum()"
   ]
  },
  {
   "cell_type": "markdown",
   "id": "daca1e9c",
   "metadata": {},
   "source": [
    "A lot of columns have null values. We will look at each one of them."
   ]
  },
  {
   "cell_type": "code",
   "execution_count": 10,
   "id": "056b373d",
   "metadata": {},
   "outputs": [
    {
     "data": {
      "text/plain": [
       "ENTRY_TECHNIQUE\n",
       "/GOOGLE_MAP/ZOOM:15                          3743240\n",
       "/GOOGLE_MAP/ZOOM:18                          1261994\n",
       "POSTCODE LAT/LONG LOOKUP                      634934\n",
       "ESRI_WEBSERVICE_STREET                        565609\n",
       "PointMaker1.0_2                               298989\n",
       "                                              ...   \n",
       "otherMicrosoft Streets and Trips                  91\n",
       "LocCreateAPI                                      91\n",
       "otherPFW Mapping Tool                             63\n",
       "ESRI_WEBSERVICE_STREET/GOOGLE_MAP/ZOOM:-4          9\n",
       "othertowns.USA.org                                 1\n",
       "Name: count, Length: 116, dtype: int64"
      ]
     },
     "execution_count": 10,
     "metadata": {},
     "output_type": "execute_result"
    }
   ],
   "source": [
    "#Check the values in the ENTRY_TECHNIQUE column and how many times they occur\n",
    "\n",
    "df_raw[\"ENTRY_TECHNIQUE\"].value_counts() "
   ]
  },
  {
   "cell_type": "markdown",
   "id": "321e57cb",
   "metadata": {},
   "source": [
    "The information contained in this column is not fundamental to the goal of this project. Let's remove the column entirely. We can save the data in a new dataframe to leave the raw data untouched"
   ]
  },
  {
   "cell_type": "code",
   "execution_count": 11,
   "id": "8191e43c",
   "metadata": {},
   "outputs": [
    {
     "data": {
      "text/plain": [
       "(8394814, 23)"
      ]
     },
     "execution_count": 11,
     "metadata": {},
     "output_type": "execute_result"
    }
   ],
   "source": [
    "#Drop the values in the ENTRY_TECHNIQUE column and how many times they occur\n",
    "\n",
    "df_birdfeeder = df_raw.drop('ENTRY_TECHNIQUE', axis=1, inplace=False)\n",
    "df_birdfeeder.shape "
   ]
  },
  {
   "cell_type": "markdown",
   "id": "82eff038",
   "metadata": {},
   "source": [
    "***"
   ]
  },
  {
   "cell_type": "code",
   "execution_count": 12,
   "id": "be95c891",
   "metadata": {},
   "outputs": [
    {
     "data": {
      "text/plain": [
       "LOC_ID                      0\n",
       "LATITUDE                    0\n",
       "LONGITUDE                   0\n",
       "SUBNATIONAL1_CODE           0\n",
       "SUB_ID                      0\n",
       "OBS_ID                   7893\n",
       "Month                       0\n",
       "Day                         0\n",
       "Year                        0\n",
       "PROJ_PERIOD_ID              0\n",
       "SPECIES_CODE                0\n",
       "alt_full_spp_code     8346300\n",
       "HOW_MANY                 7893\n",
       "PLUS_CODE             8394814\n",
       "VALID                    7893\n",
       "REVIEWED                 7893\n",
       "DAY1_AM                     0\n",
       "DAY1_PM                     0\n",
       "DAY2_AM                     0\n",
       "DAY2_PM                     0\n",
       "EFFORT_HRS_ATLEAST      14557\n",
       "SNOW_DEP_ATLEAST       782968\n",
       "Data_Entry_Method           0\n",
       "dtype: int64"
      ]
     },
     "execution_count": 12,
     "metadata": {},
     "output_type": "execute_result"
    }
   ],
   "source": [
    "#Look at the null values again\n",
    "\n",
    "df_birdfeeder.isna().sum() "
   ]
  },
  {
   "cell_type": "markdown",
   "id": "2a26f190",
   "metadata": {},
   "source": [
    "The OBS_ID column is the \"Unique identifier for each observation of a species\", according to the data dictionary. Interestingly the number of NA values here coincides with the number of na values in some other columns"
   ]
  },
  {
   "cell_type": "code",
   "execution_count": 13,
   "id": "0adf2027",
   "metadata": {},
   "outputs": [],
   "source": [
    "#Get a filtered dataframe containing all the rows that have null values in the OBS_ID column\n",
    "\n",
    "temp_df = df_birdfeeder[df_birdfeeder['OBS_ID'].isna()]"
   ]
  },
  {
   "cell_type": "code",
   "execution_count": 14,
   "id": "649d14f8",
   "metadata": {},
   "outputs": [
    {
     "data": {
      "text/plain": [
       "(7893, 23)"
      ]
     },
     "execution_count": 14,
     "metadata": {},
     "output_type": "execute_result"
    }
   ],
   "source": [
    "temp_df.shape #Sanity Check"
   ]
  },
  {
   "cell_type": "code",
   "execution_count": 15,
   "id": "e765998f",
   "metadata": {},
   "outputs": [
    {
     "data": {
      "text/plain": [
       "LOC_ID                   0\n",
       "LATITUDE                 0\n",
       "LONGITUDE                0\n",
       "SUBNATIONAL1_CODE        0\n",
       "SUB_ID                   0\n",
       "OBS_ID                7893\n",
       "Month                    0\n",
       "Day                      0\n",
       "Year                     0\n",
       "PROJ_PERIOD_ID           0\n",
       "SPECIES_CODE             0\n",
       "alt_full_spp_code     7893\n",
       "HOW_MANY              7893\n",
       "PLUS_CODE             7893\n",
       "VALID                 7893\n",
       "REVIEWED              7893\n",
       "DAY1_AM                  0\n",
       "DAY1_PM                  0\n",
       "DAY2_AM                  0\n",
       "DAY2_PM                  0\n",
       "EFFORT_HRS_ATLEAST     388\n",
       "SNOW_DEP_ATLEAST      1510\n",
       "Data_Entry_Method        0\n",
       "dtype: int64"
      ]
     },
     "execution_count": 15,
     "metadata": {},
     "output_type": "execute_result"
    }
   ],
   "source": [
    "#Check the na values in the newly created dataframe\n",
    "\n",
    "temp_df.isna().sum()"
   ]
  },
  {
   "cell_type": "markdown",
   "id": "727aa3d3",
   "metadata": {},
   "source": [
    "As suspected, there is data missing across different columns in the selected rows. Given the size of the dataframe, we can simply remove these."
   ]
  },
  {
   "cell_type": "code",
   "execution_count": 16,
   "id": "f29b62b9",
   "metadata": {},
   "outputs": [],
   "source": [
    "#Replace the dataframe by the version without null values in the OBS_ID column\n",
    "\n",
    "df_birdfeeder = df_birdfeeder.dropna(subset=['OBS_ID'])"
   ]
  },
  {
   "cell_type": "code",
   "execution_count": 17,
   "id": "8717b48b",
   "metadata": {},
   "outputs": [
    {
     "data": {
      "text/plain": [
       "(8386921, 23)"
      ]
     },
     "execution_count": 17,
     "metadata": {},
     "output_type": "execute_result"
    }
   ],
   "source": [
    "df_birdfeeder.shape #Sanity Check"
   ]
  },
  {
   "cell_type": "markdown",
   "id": "0a178ae4",
   "metadata": {},
   "source": [
    "***"
   ]
  },
  {
   "cell_type": "code",
   "execution_count": 18,
   "id": "1c42afb0",
   "metadata": {},
   "outputs": [
    {
     "data": {
      "text/plain": [
       "LOC_ID                      0\n",
       "LATITUDE                    0\n",
       "LONGITUDE                   0\n",
       "SUBNATIONAL1_CODE           0\n",
       "SUB_ID                      0\n",
       "OBS_ID                      0\n",
       "Month                       0\n",
       "Day                         0\n",
       "Year                        0\n",
       "PROJ_PERIOD_ID              0\n",
       "SPECIES_CODE                0\n",
       "alt_full_spp_code     8338407\n",
       "HOW_MANY                    0\n",
       "PLUS_CODE             8386921\n",
       "VALID                       0\n",
       "REVIEWED                    0\n",
       "DAY1_AM                     0\n",
       "DAY1_PM                     0\n",
       "DAY2_AM                     0\n",
       "DAY2_PM                     0\n",
       "EFFORT_HRS_ATLEAST      14169\n",
       "SNOW_DEP_ATLEAST       781458\n",
       "Data_Entry_Method           0\n",
       "dtype: int64"
      ]
     },
     "execution_count": 18,
     "metadata": {},
     "output_type": "execute_result"
    }
   ],
   "source": [
    "#Check the null values again\n",
    "\n",
    "df_birdfeeder.isna().sum()"
   ]
  },
  {
   "cell_type": "markdown",
   "id": "b6b9fbcc",
   "metadata": {},
   "source": [
    "Focusing on the \"alt_full_spp_code\" column, this is the description from the data dictionary: \n",
    "\n",
    "This column enables someone to \"roll up\" information on subspecies and recognizable forms into the species code of the full species instead of the code for the recognizable form. The species code values for the subspecies/forms are still the primary information stored in the column SPECIES_CODE, but the alternate code for the full species is available in the column immediately to its right."
   ]
  },
  {
   "cell_type": "code",
   "execution_count": 19,
   "id": "ceb15116",
   "metadata": {},
   "outputs": [
    {
     "data": {
      "text/plain": [
       "alt_full_spp_code\n",
       "rocpig     23521\n",
       "daejun     16679\n",
       "norfli      2757\n",
       "yerwar      1400\n",
       "mallar3     1137\n",
       "musduc       597\n",
       "foxspa       497\n",
       "reshaw       402\n",
       "grbher3      382\n",
       "rethaw       184\n",
       "norcar       179\n",
       "greegr       142\n",
       "rewbla        99\n",
       "amekes        68\n",
       "monpar        61\n",
       "houwre        61\n",
       "y00678        55\n",
       "merlin        45\n",
       "eastow        42\n",
       "hergul        40\n",
       "palwar        37\n",
       "sancra        31\n",
       "orcwar        23\n",
       "turvul        11\n",
       "osprey         9\n",
       "y00475         9\n",
       "sonspa         8\n",
       "savspa         8\n",
       "herthr         7\n",
       "cangoo         5\n",
       "easmea         4\n",
       "amerob         3\n",
       "commer         3\n",
       "comcan         2\n",
       "nrwswa         1\n",
       "compea         1\n",
       "purmar         1\n",
       "nopowl         1\n",
       "whcspa         1\n",
       "wlswar         1\n",
       "Name: count, dtype: int64"
      ]
     },
     "execution_count": 19,
     "metadata": {},
     "output_type": "execute_result"
    }
   ],
   "source": [
    "#Check the values of the column \"alt_full_spp_code\" and how many times they occur\n",
    "\n",
    "df_birdfeeder[\"alt_full_spp_code\"].value_counts() "
   ]
  },
  {
   "cell_type": "markdown",
   "id": "a7603ddb",
   "metadata": {},
   "source": [
    "Leaving the  \"alt_full_spp_code\" column as it is for the moment, as I am not sure yet how (or if) I will use it. At the moment, about 99% of values in the columns are missing, but it seems like it was meant to be populated during analysis (?)\n",
    "\n",
    "\n"
   ]
  },
  {
   "cell_type": "markdown",
   "id": "038300ad",
   "metadata": {},
   "source": [
    "Moving on to the \"plus-code\" column, the data dictionary says the following: \n",
    "\n",
    "\"Data field used on historic paper data forms (no longer being populated) ....\" \n",
    "It seems safe to simply remove the column."
   ]
  },
  {
   "cell_type": "code",
   "execution_count": 20,
   "id": "fdb9a620",
   "metadata": {},
   "outputs": [],
   "source": [
    "#Drop the \"plus_code\" column from the df\n",
    "\n",
    "df_birdfeeder = df_birdfeeder.drop('PLUS_CODE', axis=1, inplace=False) "
   ]
  },
  {
   "cell_type": "code",
   "execution_count": 21,
   "id": "8182a6bc",
   "metadata": {},
   "outputs": [
    {
     "data": {
      "text/plain": [
       "(8386921, 22)"
      ]
     },
     "execution_count": 21,
     "metadata": {},
     "output_type": "execute_result"
    }
   ],
   "source": [
    "df_birdfeeder.shape #Sanity Check"
   ]
  },
  {
   "cell_type": "markdown",
   "id": "d01c3178",
   "metadata": {},
   "source": [
    "***"
   ]
  },
  {
   "cell_type": "code",
   "execution_count": 22,
   "id": "d966bcdc",
   "metadata": {},
   "outputs": [
    {
     "data": {
      "text/plain": [
       "LOC_ID                      0\n",
       "LATITUDE                    0\n",
       "LONGITUDE                   0\n",
       "SUBNATIONAL1_CODE           0\n",
       "SUB_ID                      0\n",
       "OBS_ID                      0\n",
       "Month                       0\n",
       "Day                         0\n",
       "Year                        0\n",
       "PROJ_PERIOD_ID              0\n",
       "SPECIES_CODE                0\n",
       "alt_full_spp_code     8338407\n",
       "HOW_MANY                    0\n",
       "VALID                       0\n",
       "REVIEWED                    0\n",
       "DAY1_AM                     0\n",
       "DAY1_PM                     0\n",
       "DAY2_AM                     0\n",
       "DAY2_PM                     0\n",
       "EFFORT_HRS_ATLEAST      14169\n",
       "SNOW_DEP_ATLEAST       781458\n",
       "Data_Entry_Method           0\n",
       "dtype: int64"
      ]
     },
     "execution_count": 22,
     "metadata": {},
     "output_type": "execute_result"
    }
   ],
   "source": [
    "#Check the null values again\n",
    "\n",
    "df_birdfeeder.isna().sum()"
   ]
  },
  {
   "cell_type": "markdown",
   "id": "734fa58d",
   "metadata": {},
   "source": [
    "The EFFORT_HRS_ATLEAST column will not be of interest in this project and can also be removed"
   ]
  },
  {
   "cell_type": "code",
   "execution_count": 23,
   "id": "5e6a6d86",
   "metadata": {},
   "outputs": [
    {
     "data": {
      "text/plain": [
       "(8386921, 21)"
      ]
     },
     "execution_count": 23,
     "metadata": {},
     "output_type": "execute_result"
    }
   ],
   "source": [
    "#Drop the 'EFFORT_HRS_ATLEAST' column from the dataset and check the size of the dataset\n",
    "\n",
    "df_birdfeeder = df_birdfeeder.drop('EFFORT_HRS_ATLEAST', axis=1, inplace=False) \n",
    "df_birdfeeder.shape"
   ]
  },
  {
   "cell_type": "markdown",
   "id": "229ecfe9",
   "metadata": {},
   "source": [
    "Now the last column left to examine is about the snow depth."
   ]
  },
  {
   "cell_type": "code",
   "execution_count": 24,
   "id": "cf18a248",
   "metadata": {},
   "outputs": [
    {
     "data": {
      "text/plain": [
       "SNOW_DEP_ATLEAST\n",
       "0.000     4992865\n",
       "0.001     1038294\n",
       "5.000      879946\n",
       "15.001     694358\n",
       "Name: count, dtype: int64"
      ]
     },
     "execution_count": 24,
     "metadata": {},
     "output_type": "execute_result"
    }
   ],
   "source": [
    "#Check the values of the \"SNOW_DEP_ATLEAST\" column to decide what to do with it\n",
    "\n",
    "df_birdfeeder[\"SNOW_DEP_ATLEAST\"].value_counts()"
   ]
  },
  {
   "cell_type": "code",
   "execution_count": 25,
   "id": "cdf967ad",
   "metadata": {},
   "outputs": [
    {
     "data": {
      "text/plain": [
       "9.317579121110118"
      ]
     },
     "execution_count": 25,
     "metadata": {},
     "output_type": "execute_result"
    }
   ],
   "source": [
    "#Checking the percentage of missing values in the \"SNOW_DEP_ATLEAST\" column\n",
    "\n",
    "781458/df_birdfeeder.shape[0] * 100 "
   ]
  },
  {
   "cell_type": "markdown",
   "id": "52961554",
   "metadata": {},
   "source": [
    "I am not sure at the moment how and if I will be using this column, so leaving it for now.\n",
    "***"
   ]
  },
  {
   "cell_type": "code",
   "execution_count": 26,
   "id": "e047b03b",
   "metadata": {},
   "outputs": [
    {
     "data": {
      "text/plain": [
       "LOC_ID                     0\n",
       "LATITUDE                   0\n",
       "LONGITUDE                  0\n",
       "SUBNATIONAL1_CODE          0\n",
       "SUB_ID                     0\n",
       "OBS_ID                     0\n",
       "Month                      0\n",
       "Day                        0\n",
       "Year                       0\n",
       "PROJ_PERIOD_ID             0\n",
       "SPECIES_CODE               0\n",
       "alt_full_spp_code    8338407\n",
       "HOW_MANY                   0\n",
       "VALID                      0\n",
       "REVIEWED                   0\n",
       "DAY1_AM                    0\n",
       "DAY1_PM                    0\n",
       "DAY2_AM                    0\n",
       "DAY2_PM                    0\n",
       "SNOW_DEP_ATLEAST      781458\n",
       "Data_Entry_Method          0\n",
       "dtype: int64"
      ]
     },
     "execution_count": 26,
     "metadata": {},
     "output_type": "execute_result"
    }
   ],
   "source": [
    "#Check the null values in the dataframe again\n",
    "\n",
    "df_birdfeeder.isna().sum()"
   ]
  },
  {
   "cell_type": "markdown",
   "id": "5fc6c41f",
   "metadata": {},
   "source": [
    "***\n",
    "***"
   ]
  },
  {
   "cell_type": "markdown",
   "id": "03fbc362",
   "metadata": {},
   "source": [
    "Done with the null values (for now!) Moving on to check for any duplicate rows:"
   ]
  },
  {
   "cell_type": "code",
   "execution_count": 27,
   "id": "7c01bac7",
   "metadata": {},
   "outputs": [
    {
     "data": {
      "text/html": [
       "<div>\n",
       "<style scoped>\n",
       "    .dataframe tbody tr th:only-of-type {\n",
       "        vertical-align: middle;\n",
       "    }\n",
       "\n",
       "    .dataframe tbody tr th {\n",
       "        vertical-align: top;\n",
       "    }\n",
       "\n",
       "    .dataframe thead th {\n",
       "        text-align: right;\n",
       "    }\n",
       "</style>\n",
       "<table border=\"1\" class=\"dataframe\">\n",
       "  <thead>\n",
       "    <tr style=\"text-align: right;\">\n",
       "      <th></th>\n",
       "      <th>LOC_ID</th>\n",
       "      <th>LATITUDE</th>\n",
       "      <th>LONGITUDE</th>\n",
       "      <th>SUBNATIONAL1_CODE</th>\n",
       "      <th>SUB_ID</th>\n",
       "      <th>OBS_ID</th>\n",
       "      <th>Month</th>\n",
       "      <th>Day</th>\n",
       "      <th>Year</th>\n",
       "      <th>PROJ_PERIOD_ID</th>\n",
       "      <th>...</th>\n",
       "      <th>alt_full_spp_code</th>\n",
       "      <th>HOW_MANY</th>\n",
       "      <th>VALID</th>\n",
       "      <th>REVIEWED</th>\n",
       "      <th>DAY1_AM</th>\n",
       "      <th>DAY1_PM</th>\n",
       "      <th>DAY2_AM</th>\n",
       "      <th>DAY2_PM</th>\n",
       "      <th>SNOW_DEP_ATLEAST</th>\n",
       "      <th>Data_Entry_Method</th>\n",
       "    </tr>\n",
       "  </thead>\n",
       "  <tbody>\n",
       "  </tbody>\n",
       "</table>\n",
       "<p>0 rows × 21 columns</p>\n",
       "</div>"
      ],
      "text/plain": [
       "Empty DataFrame\n",
       "Columns: [LOC_ID, LATITUDE, LONGITUDE, SUBNATIONAL1_CODE, SUB_ID, OBS_ID, Month, Day, Year, PROJ_PERIOD_ID, SPECIES_CODE, alt_full_spp_code, HOW_MANY, VALID, REVIEWED, DAY1_AM, DAY1_PM, DAY2_AM, DAY2_PM, SNOW_DEP_ATLEAST, Data_Entry_Method]\n",
       "Index: []\n",
       "\n",
       "[0 rows x 21 columns]"
      ]
     },
     "execution_count": 27,
     "metadata": {},
     "output_type": "execute_result"
    }
   ],
   "source": [
    "#Display duplicate rows in the dataframe\n",
    "\n",
    "df_birdfeeder[df_birdfeeder.duplicated()]"
   ]
  },
  {
   "cell_type": "markdown",
   "id": "7b41114c",
   "metadata": {},
   "source": [
    "Seems like we have no duplicate rows!"
   ]
  },
  {
   "cell_type": "markdown",
   "id": "89d4834a",
   "metadata": {},
   "source": [
    "***\n",
    "***\n",
    "***"
   ]
  },
  {
   "cell_type": "markdown",
   "id": "10958a55",
   "metadata": {},
   "source": [
    "#### Species Dataset (df_species)"
   ]
  },
  {
   "cell_type": "code",
   "execution_count": 28,
   "id": "02445fa3",
   "metadata": {},
   "outputs": [
    {
     "data": {
      "text/plain": [
       "(1090, 7)"
      ]
     },
     "execution_count": 28,
     "metadata": {},
     "output_type": "execute_result"
    }
   ],
   "source": [
    "#Check the dimentions of the df_species dataset\n",
    "\n",
    "df_species.shape"
   ]
  },
  {
   "cell_type": "code",
   "execution_count": 29,
   "id": "afc70d99",
   "metadata": {},
   "outputs": [
    {
     "data": {
      "text/html": [
       "<div>\n",
       "<style scoped>\n",
       "    .dataframe tbody tr th:only-of-type {\n",
       "        vertical-align: middle;\n",
       "    }\n",
       "\n",
       "    .dataframe tbody tr th {\n",
       "        vertical-align: top;\n",
       "    }\n",
       "\n",
       "    .dataframe thead th {\n",
       "        text-align: right;\n",
       "    }\n",
       "</style>\n",
       "<table border=\"1\" class=\"dataframe\">\n",
       "  <thead>\n",
       "    <tr style=\"text-align: right;\">\n",
       "      <th></th>\n",
       "      <th>species_code</th>\n",
       "      <th>alt_full_spp_code</th>\n",
       "      <th>n_locations</th>\n",
       "      <th>scientific_name</th>\n",
       "      <th>american_english_name</th>\n",
       "      <th>taxonomy_version</th>\n",
       "      <th>taxonomic_sort_order</th>\n",
       "    </tr>\n",
       "  </thead>\n",
       "  <tbody>\n",
       "    <tr>\n",
       "      <th>0</th>\n",
       "      <td>grerhe1</td>\n",
       "      <td>NaN</td>\n",
       "      <td>1</td>\n",
       "      <td>Rhea americana</td>\n",
       "      <td>Greater Rhea</td>\n",
       "      <td>2022</td>\n",
       "      <td>10</td>\n",
       "    </tr>\n",
       "    <tr>\n",
       "      <th>1</th>\n",
       "      <td>gretin1</td>\n",
       "      <td>NaN</td>\n",
       "      <td>3</td>\n",
       "      <td>Tinamus major</td>\n",
       "      <td>Great Tinamou</td>\n",
       "      <td>2022</td>\n",
       "      <td>42</td>\n",
       "    </tr>\n",
       "    <tr>\n",
       "      <th>2</th>\n",
       "      <td>wfwduc1</td>\n",
       "      <td>NaN</td>\n",
       "      <td>1</td>\n",
       "      <td>Dendrocygna viduata</td>\n",
       "      <td>White-faced Whistling-Duck</td>\n",
       "      <td>2022</td>\n",
       "      <td>228</td>\n",
       "    </tr>\n",
       "    <tr>\n",
       "      <th>3</th>\n",
       "      <td>bbwduc</td>\n",
       "      <td>NaN</td>\n",
       "      <td>105</td>\n",
       "      <td>Dendrocygna autumnalis</td>\n",
       "      <td>Black-bellied Whistling-Duck</td>\n",
       "      <td>2022</td>\n",
       "      <td>230</td>\n",
       "    </tr>\n",
       "    <tr>\n",
       "      <th>4</th>\n",
       "      <td>fuwduc</td>\n",
       "      <td>NaN</td>\n",
       "      <td>2</td>\n",
       "      <td>Dendrocygna bicolor</td>\n",
       "      <td>Fulvous Whistling-Duck</td>\n",
       "      <td>2022</td>\n",
       "      <td>235</td>\n",
       "    </tr>\n",
       "  </tbody>\n",
       "</table>\n",
       "</div>"
      ],
      "text/plain": [
       "  species_code alt_full_spp_code  n_locations         scientific_name  \\\n",
       "0      grerhe1               NaN            1          Rhea americana   \n",
       "1      gretin1               NaN            3           Tinamus major   \n",
       "2      wfwduc1               NaN            1     Dendrocygna viduata   \n",
       "3       bbwduc               NaN          105  Dendrocygna autumnalis   \n",
       "4       fuwduc               NaN            2     Dendrocygna bicolor   \n",
       "\n",
       "          american_english_name  taxonomy_version  taxonomic_sort_order  \n",
       "0                  Greater Rhea              2022                    10  \n",
       "1                 Great Tinamou              2022                    42  \n",
       "2    White-faced Whistling-Duck              2022                   228  \n",
       "3  Black-bellied Whistling-Duck              2022                   230  \n",
       "4        Fulvous Whistling-Duck              2022                   235  "
      ]
     },
     "execution_count": 29,
     "metadata": {},
     "output_type": "execute_result"
    }
   ],
   "source": [
    "#Display the first few lines of data\n",
    "\n",
    "df_species.head()"
   ]
  },
  {
   "cell_type": "code",
   "execution_count": 30,
   "id": "5e04eced",
   "metadata": {},
   "outputs": [
    {
     "name": "stdout",
     "output_type": "stream",
     "text": [
      "<class 'pandas.core.frame.DataFrame'>\n",
      "RangeIndex: 1090 entries, 0 to 1089\n",
      "Data columns (total 7 columns):\n",
      " #   Column                 Non-Null Count  Dtype \n",
      "---  ------                 --------------  ----- \n",
      " 0   species_code           1090 non-null   object\n",
      " 1   alt_full_spp_code      171 non-null    object\n",
      " 2   n_locations            1090 non-null   int64 \n",
      " 3   scientific_name        1090 non-null   object\n",
      " 4   american_english_name  1090 non-null   object\n",
      " 5   taxonomy_version       1090 non-null   int64 \n",
      " 6   taxonomic_sort_order   1090 non-null   int64 \n",
      "dtypes: int64(3), object(4)\n",
      "memory usage: 59.7+ KB\n"
     ]
    }
   ],
   "source": [
    "#Check the datatypes of the columns\n",
    "\n",
    "df_species.info()"
   ]
  },
  {
   "cell_type": "markdown",
   "id": "f094e941",
   "metadata": {},
   "source": [
    "From this table, I will only really be using the names so we can get rid of most of the columns."
   ]
  },
  {
   "cell_type": "code",
   "execution_count": 31,
   "id": "05e8aee3",
   "metadata": {},
   "outputs": [
    {
     "data": {
      "text/plain": [
       "(1090, 3)"
      ]
     },
     "execution_count": 31,
     "metadata": {},
     "output_type": "execute_result"
    }
   ],
   "source": [
    "#Overwrite the dataframe by just extracting the three columns we will use and then check the dimensions of the new df\n",
    "\n",
    "df_species = df_species[[\"species_code\", 'scientific_name', 'american_english_name']]\n",
    "df_species.shape #Sanity Check"
   ]
  },
  {
   "cell_type": "code",
   "execution_count": 32,
   "id": "a052fc08",
   "metadata": {},
   "outputs": [
    {
     "data": {
      "text/html": [
       "<div>\n",
       "<style scoped>\n",
       "    .dataframe tbody tr th:only-of-type {\n",
       "        vertical-align: middle;\n",
       "    }\n",
       "\n",
       "    .dataframe tbody tr th {\n",
       "        vertical-align: top;\n",
       "    }\n",
       "\n",
       "    .dataframe thead th {\n",
       "        text-align: right;\n",
       "    }\n",
       "</style>\n",
       "<table border=\"1\" class=\"dataframe\">\n",
       "  <thead>\n",
       "    <tr style=\"text-align: right;\">\n",
       "      <th></th>\n",
       "      <th>species_code</th>\n",
       "      <th>scientific_name</th>\n",
       "      <th>american_english_name</th>\n",
       "    </tr>\n",
       "  </thead>\n",
       "  <tbody>\n",
       "    <tr>\n",
       "      <th>0</th>\n",
       "      <td>grerhe1</td>\n",
       "      <td>Rhea americana</td>\n",
       "      <td>Greater Rhea</td>\n",
       "    </tr>\n",
       "    <tr>\n",
       "      <th>1</th>\n",
       "      <td>gretin1</td>\n",
       "      <td>Tinamus major</td>\n",
       "      <td>Great Tinamou</td>\n",
       "    </tr>\n",
       "    <tr>\n",
       "      <th>2</th>\n",
       "      <td>wfwduc1</td>\n",
       "      <td>Dendrocygna viduata</td>\n",
       "      <td>White-faced Whistling-Duck</td>\n",
       "    </tr>\n",
       "    <tr>\n",
       "      <th>3</th>\n",
       "      <td>bbwduc</td>\n",
       "      <td>Dendrocygna autumnalis</td>\n",
       "      <td>Black-bellied Whistling-Duck</td>\n",
       "    </tr>\n",
       "    <tr>\n",
       "      <th>4</th>\n",
       "      <td>fuwduc</td>\n",
       "      <td>Dendrocygna bicolor</td>\n",
       "      <td>Fulvous Whistling-Duck</td>\n",
       "    </tr>\n",
       "  </tbody>\n",
       "</table>\n",
       "</div>"
      ],
      "text/plain": [
       "  species_code         scientific_name         american_english_name\n",
       "0      grerhe1          Rhea americana                  Greater Rhea\n",
       "1      gretin1           Tinamus major                 Great Tinamou\n",
       "2      wfwduc1     Dendrocygna viduata    White-faced Whistling-Duck\n",
       "3       bbwduc  Dendrocygna autumnalis  Black-bellied Whistling-Duck\n",
       "4       fuwduc     Dendrocygna bicolor        Fulvous Whistling-Duck"
      ]
     },
     "execution_count": 32,
     "metadata": {},
     "output_type": "execute_result"
    }
   ],
   "source": [
    "#Display the first few rows of the (modified) dataframe\n",
    "\n",
    "df_species.head()"
   ]
  },
  {
   "cell_type": "code",
   "execution_count": 33,
   "id": "9d348342",
   "metadata": {},
   "outputs": [
    {
     "data": {
      "text/plain": [
       "species_code             0\n",
       "scientific_name          0\n",
       "american_english_name    0\n",
       "dtype: int64"
      ]
     },
     "execution_count": 33,
     "metadata": {},
     "output_type": "execute_result"
    }
   ],
   "source": [
    "#Check for null values in the species dataset\n",
    "\n",
    "df_species.isna().sum() "
   ]
  },
  {
   "cell_type": "code",
   "execution_count": 34,
   "id": "b641ac65",
   "metadata": {},
   "outputs": [
    {
     "data": {
      "text/html": [
       "<div>\n",
       "<style scoped>\n",
       "    .dataframe tbody tr th:only-of-type {\n",
       "        vertical-align: middle;\n",
       "    }\n",
       "\n",
       "    .dataframe tbody tr th {\n",
       "        vertical-align: top;\n",
       "    }\n",
       "\n",
       "    .dataframe thead th {\n",
       "        text-align: right;\n",
       "    }\n",
       "</style>\n",
       "<table border=\"1\" class=\"dataframe\">\n",
       "  <thead>\n",
       "    <tr style=\"text-align: right;\">\n",
       "      <th></th>\n",
       "      <th>species_code</th>\n",
       "      <th>scientific_name</th>\n",
       "      <th>american_english_name</th>\n",
       "    </tr>\n",
       "  </thead>\n",
       "  <tbody>\n",
       "  </tbody>\n",
       "</table>\n",
       "</div>"
      ],
      "text/plain": [
       "Empty DataFrame\n",
       "Columns: [species_code, scientific_name, american_english_name]\n",
       "Index: []"
      ]
     },
     "execution_count": 34,
     "metadata": {},
     "output_type": "execute_result"
    }
   ],
   "source": [
    "#Check for duplicates in the species dataset\n",
    "\n",
    "df_species[df_species.duplicated()] "
   ]
  },
  {
   "cell_type": "markdown",
   "id": "6731fc69",
   "metadata": {},
   "source": [
    "There are no null values and no duplicates in the species table, so we can move on to the next table"
   ]
  },
  {
   "cell_type": "markdown",
   "id": "3ae0f10f",
   "metadata": {},
   "source": [
    "***\n",
    "***\n",
    "***"
   ]
  },
  {
   "cell_type": "markdown",
   "id": "8d356810",
   "metadata": {},
   "source": [
    "#### Location Dataset (df_location)"
   ]
  },
  {
   "cell_type": "code",
   "execution_count": 35,
   "id": "4d1c610f",
   "metadata": {},
   "outputs": [
    {
     "data": {
      "text/plain": [
       "(284356, 66)"
      ]
     },
     "execution_count": 35,
     "metadata": {},
     "output_type": "execute_result"
    }
   ],
   "source": [
    "#Check the dimentsions of the location dataset\n",
    "\n",
    "df_location.shape"
   ]
  },
  {
   "cell_type": "code",
   "execution_count": 36,
   "id": "713c7bd2",
   "metadata": {},
   "outputs": [
    {
     "name": "stdout",
     "output_type": "stream",
     "text": [
      "<class 'pandas.core.frame.DataFrame'>\n",
      "RangeIndex: 284356 entries, 0 to 284355\n",
      "Data columns (total 66 columns):\n",
      " #   Column                        Non-Null Count   Dtype  \n",
      "---  ------                        --------------   -----  \n",
      " 0   loc_id                        284356 non-null  object \n",
      " 1   latitude                      284356 non-null  float64\n",
      " 2   longitude                     284356 non-null  float64\n",
      " 3   proj_period_id                284356 non-null  object \n",
      " 4   yard_type_pavement            215401 non-null  float64\n",
      " 5   yard_type_garden              215996 non-null  float64\n",
      " 6   yard_type_landsca             221260 non-null  float64\n",
      " 7   yard_type_woods               216650 non-null  float64\n",
      " 8   yard_type_desert              215496 non-null  float64\n",
      " 9   hab_dcid_woods                251218 non-null  object \n",
      " 10  hab_evgr_woods                236887 non-null  object \n",
      " 11  hab_mixed_woods               259430 non-null  object \n",
      " 12  hab_orchard                   221206 non-null  object \n",
      " 13  hab_park                      184833 non-null  object \n",
      " 14  hab_water_fresh               254328 non-null  object \n",
      " 15  hab_water_salt                221490 non-null  object \n",
      " 16  hab_residential               264263 non-null  object \n",
      " 17  hab_industrial                239397 non-null  object \n",
      " 18  hab_agricultural              222227 non-null  object \n",
      " 19  hab_desert_scrub              223713 non-null  object \n",
      " 20  hab_young_woods               218504 non-null  object \n",
      " 21  hab_swamp                     185808 non-null  object \n",
      " 22  hab_marsh                     209716 non-null  object \n",
      " 23  evgr_trees_atleast            254621 non-null  float64\n",
      " 24  evgr_shrbs_atleast            249961 non-null  float64\n",
      " 25  dcid_trees_atleast            256251 non-null  float64\n",
      " 26  dcid_shrbs_atleast            251563 non-null  float64\n",
      " 27  fru_trees_atleast             226812 non-null  float64\n",
      " 28  cacti_atleast                 226804 non-null  float64\n",
      " 29  brsh_piles_atleast            234894 non-null  float64\n",
      " 30  water_srcs_atleast            218326 non-null  float64\n",
      " 31  bird_baths_atleast            225306 non-null  float64\n",
      " 32  nearby_feeders                254588 non-null  float64\n",
      " 33  squirrels                     265427 non-null  float64\n",
      " 34  cats                          248475 non-null  float64\n",
      " 35  dogs                          246630 non-null  float64\n",
      " 36  humans                        257010 non-null  float64\n",
      " 37  housing_density               260245 non-null  float64\n",
      " 38  fed_yr_round                  107622 non-null  float64\n",
      " 39  fed_in_jan                    226155 non-null  float64\n",
      " 40  fed_in_feb                    226070 non-null  float64\n",
      " 41  fed_in_mar                    225909 non-null  float64\n",
      " 42  fed_in_apr                    223938 non-null  float64\n",
      " 43  fed_in_may                    219020 non-null  float64\n",
      " 44  fed_in_jun                    216329 non-null  float64\n",
      " 45  fed_in_jul                    215373 non-null  float64\n",
      " 46  fed_in_aug                    215484 non-null  float64\n",
      " 47  fed_in_sep                    217798 non-null  float64\n",
      " 48  fed_in_oct                    221738 non-null  float64\n",
      " 49  fed_in_nov                    226099 non-null  float64\n",
      " 50  fed_in_dec                    226149 non-null  float64\n",
      " 51  numfeeders_suet               261968 non-null  float64\n",
      " 52  numfeeders_ground             241008 non-null  float64\n",
      " 53  numfeeders_hanging            104190 non-null  float64\n",
      " 54  numfeeders_platfrm            237296 non-null  float64\n",
      " 55  numfeeders_humming            220435 non-null  float64\n",
      " 56  numfeeders_water              99227 non-null   float64\n",
      " 57  numfeeders_thistle            74561 non-null   float64\n",
      " 58  numfeeders_fruit              183392 non-null  float64\n",
      " 59  numfeeders_hopper             147161 non-null  float64\n",
      " 60  numfeeders_tube               159376 non-null  float64\n",
      " 61  numfeeders_other              119981 non-null  float64\n",
      " 62  population_atleast            254686 non-null  float64\n",
      " 63  count_area_size_sq_m_atleast  228665 non-null  float64\n",
      " 64  create_dt                     158908 non-null  object \n",
      " 65  supp_food                     28879 non-null   float64\n",
      "dtypes: float64(49), object(17)\n",
      "memory usage: 143.2+ MB\n"
     ]
    }
   ],
   "source": [
    "#Check the datatypes of the columns in the location table\n",
    "\n",
    "df_location.info()"
   ]
  },
  {
   "cell_type": "code",
   "execution_count": 37,
   "id": "ae36098a",
   "metadata": {},
   "outputs": [
    {
     "data": {
      "text/html": [
       "<div>\n",
       "<style scoped>\n",
       "    .dataframe tbody tr th:only-of-type {\n",
       "        vertical-align: middle;\n",
       "    }\n",
       "\n",
       "    .dataframe tbody tr th {\n",
       "        vertical-align: top;\n",
       "    }\n",
       "\n",
       "    .dataframe thead th {\n",
       "        text-align: right;\n",
       "    }\n",
       "</style>\n",
       "<table border=\"1\" class=\"dataframe\">\n",
       "  <thead>\n",
       "    <tr style=\"text-align: right;\">\n",
       "      <th></th>\n",
       "      <th>loc_id</th>\n",
       "      <th>latitude</th>\n",
       "      <th>longitude</th>\n",
       "      <th>proj_period_id</th>\n",
       "      <th>yard_type_pavement</th>\n",
       "      <th>yard_type_garden</th>\n",
       "      <th>yard_type_landsca</th>\n",
       "      <th>yard_type_woods</th>\n",
       "      <th>yard_type_desert</th>\n",
       "      <th>hab_dcid_woods</th>\n",
       "      <th>...</th>\n",
       "      <th>numfeeders_water</th>\n",
       "      <th>numfeeders_thistle</th>\n",
       "      <th>numfeeders_fruit</th>\n",
       "      <th>numfeeders_hopper</th>\n",
       "      <th>numfeeders_tube</th>\n",
       "      <th>numfeeders_other</th>\n",
       "      <th>population_atleast</th>\n",
       "      <th>count_area_size_sq_m_atleast</th>\n",
       "      <th>create_dt</th>\n",
       "      <th>supp_food</th>\n",
       "    </tr>\n",
       "  </thead>\n",
       "  <tbody>\n",
       "    <tr>\n",
       "      <th>0</th>\n",
       "      <td>L100016</td>\n",
       "      <td>48.823847</td>\n",
       "      <td>-124.040237</td>\n",
       "      <td>PFW_2005</td>\n",
       "      <td>0.0</td>\n",
       "      <td>0.0</td>\n",
       "      <td>1.0</td>\n",
       "      <td>0.0</td>\n",
       "      <td>0.0</td>\n",
       "      <td>1</td>\n",
       "      <td>...</td>\n",
       "      <td>1.0</td>\n",
       "      <td>0.0</td>\n",
       "      <td>0.0</td>\n",
       "      <td>NaN</td>\n",
       "      <td>NaN</td>\n",
       "      <td>NaN</td>\n",
       "      <td>1.0</td>\n",
       "      <td>1.01</td>\n",
       "      <td>NaN</td>\n",
       "      <td>NaN</td>\n",
       "    </tr>\n",
       "    <tr>\n",
       "      <th>1</th>\n",
       "      <td>L100016</td>\n",
       "      <td>48.823847</td>\n",
       "      <td>-124.040237</td>\n",
       "      <td>PFW_2004</td>\n",
       "      <td>0.0</td>\n",
       "      <td>0.0</td>\n",
       "      <td>1.0</td>\n",
       "      <td>0.0</td>\n",
       "      <td>0.0</td>\n",
       "      <td>1</td>\n",
       "      <td>...</td>\n",
       "      <td>1.0</td>\n",
       "      <td>0.0</td>\n",
       "      <td>0.0</td>\n",
       "      <td>NaN</td>\n",
       "      <td>NaN</td>\n",
       "      <td>NaN</td>\n",
       "      <td>1.0</td>\n",
       "      <td>1.01</td>\n",
       "      <td>NaN</td>\n",
       "      <td>NaN</td>\n",
       "    </tr>\n",
       "    <tr>\n",
       "      <th>2</th>\n",
       "      <td>L100016</td>\n",
       "      <td>48.823847</td>\n",
       "      <td>-124.040237</td>\n",
       "      <td>PFW_2006</td>\n",
       "      <td>0.0</td>\n",
       "      <td>0.0</td>\n",
       "      <td>1.0</td>\n",
       "      <td>0.0</td>\n",
       "      <td>0.0</td>\n",
       "      <td>1</td>\n",
       "      <td>...</td>\n",
       "      <td>NaN</td>\n",
       "      <td>NaN</td>\n",
       "      <td>NaN</td>\n",
       "      <td>1.0</td>\n",
       "      <td>1.0</td>\n",
       "      <td>NaN</td>\n",
       "      <td>1.0</td>\n",
       "      <td>1.01</td>\n",
       "      <td>NaN</td>\n",
       "      <td>NaN</td>\n",
       "    </tr>\n",
       "    <tr>\n",
       "      <th>3</th>\n",
       "      <td>L100016</td>\n",
       "      <td>48.823847</td>\n",
       "      <td>-124.040237</td>\n",
       "      <td>PFW_2003</td>\n",
       "      <td>0.0</td>\n",
       "      <td>0.0</td>\n",
       "      <td>1.0</td>\n",
       "      <td>0.0</td>\n",
       "      <td>0.0</td>\n",
       "      <td>1</td>\n",
       "      <td>...</td>\n",
       "      <td>1.0</td>\n",
       "      <td>0.0</td>\n",
       "      <td>0.0</td>\n",
       "      <td>NaN</td>\n",
       "      <td>NaN</td>\n",
       "      <td>NaN</td>\n",
       "      <td>1.0</td>\n",
       "      <td>1.01</td>\n",
       "      <td>NaN</td>\n",
       "      <td>NaN</td>\n",
       "    </tr>\n",
       "    <tr>\n",
       "      <th>4</th>\n",
       "      <td>L100016</td>\n",
       "      <td>48.823847</td>\n",
       "      <td>-124.040237</td>\n",
       "      <td>PFW_2007</td>\n",
       "      <td>0.0</td>\n",
       "      <td>0.0</td>\n",
       "      <td>1.0</td>\n",
       "      <td>0.0</td>\n",
       "      <td>0.0</td>\n",
       "      <td>1</td>\n",
       "      <td>...</td>\n",
       "      <td>NaN</td>\n",
       "      <td>NaN</td>\n",
       "      <td>NaN</td>\n",
       "      <td>1.0</td>\n",
       "      <td>1.0</td>\n",
       "      <td>NaN</td>\n",
       "      <td>1.0</td>\n",
       "      <td>1.01</td>\n",
       "      <td>NaN</td>\n",
       "      <td>NaN</td>\n",
       "    </tr>\n",
       "  </tbody>\n",
       "</table>\n",
       "<p>5 rows × 66 columns</p>\n",
       "</div>"
      ],
      "text/plain": [
       "    loc_id   latitude   longitude proj_period_id  yard_type_pavement  \\\n",
       "0  L100016  48.823847 -124.040237       PFW_2005                 0.0   \n",
       "1  L100016  48.823847 -124.040237       PFW_2004                 0.0   \n",
       "2  L100016  48.823847 -124.040237       PFW_2006                 0.0   \n",
       "3  L100016  48.823847 -124.040237       PFW_2003                 0.0   \n",
       "4  L100016  48.823847 -124.040237       PFW_2007                 0.0   \n",
       "\n",
       "   yard_type_garden  yard_type_landsca  yard_type_woods  yard_type_desert  \\\n",
       "0               0.0                1.0              0.0               0.0   \n",
       "1               0.0                1.0              0.0               0.0   \n",
       "2               0.0                1.0              0.0               0.0   \n",
       "3               0.0                1.0              0.0               0.0   \n",
       "4               0.0                1.0              0.0               0.0   \n",
       "\n",
       "  hab_dcid_woods  ... numfeeders_water numfeeders_thistle numfeeders_fruit  \\\n",
       "0              1  ...              1.0                0.0              0.0   \n",
       "1              1  ...              1.0                0.0              0.0   \n",
       "2              1  ...              NaN                NaN              NaN   \n",
       "3              1  ...              1.0                0.0              0.0   \n",
       "4              1  ...              NaN                NaN              NaN   \n",
       "\n",
       "  numfeeders_hopper numfeeders_tube numfeeders_other population_atleast  \\\n",
       "0               NaN             NaN              NaN                1.0   \n",
       "1               NaN             NaN              NaN                1.0   \n",
       "2               1.0             1.0              NaN                1.0   \n",
       "3               NaN             NaN              NaN                1.0   \n",
       "4               1.0             1.0              NaN                1.0   \n",
       "\n",
       "  count_area_size_sq_m_atleast create_dt supp_food  \n",
       "0                         1.01       NaN       NaN  \n",
       "1                         1.01       NaN       NaN  \n",
       "2                         1.01       NaN       NaN  \n",
       "3                         1.01       NaN       NaN  \n",
       "4                         1.01       NaN       NaN  \n",
       "\n",
       "[5 rows x 66 columns]"
      ]
     },
     "execution_count": 37,
     "metadata": {},
     "output_type": "execute_result"
    }
   ],
   "source": [
    "#Look at the first few rows in the location table\n",
    "\n",
    "df_location.head()"
   ]
  },
  {
   "cell_type": "code",
   "execution_count": 38,
   "id": "498d66fc",
   "metadata": {},
   "outputs": [
    {
     "data": {
      "text/plain": [
       "loc_id                               0\n",
       "latitude                             0\n",
       "longitude                            0\n",
       "proj_period_id                       0\n",
       "yard_type_pavement               68955\n",
       "                                 ...  \n",
       "numfeeders_other                164375\n",
       "population_atleast               29670\n",
       "count_area_size_sq_m_atleast     55691\n",
       "create_dt                       125448\n",
       "supp_food                       255477\n",
       "Length: 66, dtype: int64"
      ]
     },
     "execution_count": 38,
     "metadata": {},
     "output_type": "execute_result"
    }
   ],
   "source": [
    "#Calculate the number of null values in each column of the location table\n",
    "\n",
    "df_location.isna().sum()"
   ]
  },
  {
   "cell_type": "markdown",
   "id": "a2f6d772",
   "metadata": {},
   "source": [
    "There are a lot of null values in this table. Will leave it as it is at the moment as I am not yet sure which columns will be used and how."
   ]
  },
  {
   "cell_type": "markdown",
   "id": "45beabe1",
   "metadata": {},
   "source": [
    "***\n",
    "***\n",
    "***"
   ]
  },
  {
   "cell_type": "markdown",
   "id": "8f0ae2a6",
   "metadata": {},
   "source": [
    "We will mainly be working with the df_birdfeeder and the df_species table. Depending on the analysis, it may be interesting to also add the location table later on.\n",
    "Both the birdfeeder and the species table contain a column for the species code. We can use this column to merge the two tables into a single one"
   ]
  },
  {
   "cell_type": "code",
   "execution_count": 39,
   "id": "e3c5c417",
   "metadata": {},
   "outputs": [],
   "source": [
    "#Join the df_birdfeeder and the df_species tables into a new dataframe\n",
    "\n",
    "df_main = pd.merge(df_birdfeeder, df_species, left_on='SPECIES_CODE', right_on = \"species_code\")"
   ]
  },
  {
   "cell_type": "code",
   "execution_count": 40,
   "id": "dda2773f",
   "metadata": {},
   "outputs": [
    {
     "data": {
      "text/plain": [
       "(8386921, 24)"
      ]
     },
     "execution_count": 40,
     "metadata": {},
     "output_type": "execute_result"
    }
   ],
   "source": [
    "#Check the dimensions of the newly created dataframe\n",
    "\n",
    "df_main.shape"
   ]
  },
  {
   "cell_type": "code",
   "execution_count": 41,
   "id": "0e21dd7d",
   "metadata": {},
   "outputs": [
    {
     "data": {
      "text/html": [
       "<div>\n",
       "<style scoped>\n",
       "    .dataframe tbody tr th:only-of-type {\n",
       "        vertical-align: middle;\n",
       "    }\n",
       "\n",
       "    .dataframe tbody tr th {\n",
       "        vertical-align: top;\n",
       "    }\n",
       "\n",
       "    .dataframe thead th {\n",
       "        text-align: right;\n",
       "    }\n",
       "</style>\n",
       "<table border=\"1\" class=\"dataframe\">\n",
       "  <thead>\n",
       "    <tr style=\"text-align: right;\">\n",
       "      <th></th>\n",
       "      <th>LOC_ID</th>\n",
       "      <th>LATITUDE</th>\n",
       "      <th>LONGITUDE</th>\n",
       "      <th>SUBNATIONAL1_CODE</th>\n",
       "      <th>SUB_ID</th>\n",
       "      <th>OBS_ID</th>\n",
       "      <th>Month</th>\n",
       "      <th>Day</th>\n",
       "      <th>Year</th>\n",
       "      <th>PROJ_PERIOD_ID</th>\n",
       "      <th>...</th>\n",
       "      <th>REVIEWED</th>\n",
       "      <th>DAY1_AM</th>\n",
       "      <th>DAY1_PM</th>\n",
       "      <th>DAY2_AM</th>\n",
       "      <th>DAY2_PM</th>\n",
       "      <th>SNOW_DEP_ATLEAST</th>\n",
       "      <th>Data_Entry_Method</th>\n",
       "      <th>species_code</th>\n",
       "      <th>scientific_name</th>\n",
       "      <th>american_english_name</th>\n",
       "    </tr>\n",
       "  </thead>\n",
       "  <tbody>\n",
       "    <tr>\n",
       "      <th>0</th>\n",
       "      <td>L100032</td>\n",
       "      <td>45.132361</td>\n",
       "      <td>-93.130328</td>\n",
       "      <td>US-MN</td>\n",
       "      <td>S100892478</td>\n",
       "      <td>OBS1320317836</td>\n",
       "      <td>1</td>\n",
       "      <td>15</td>\n",
       "      <td>2022</td>\n",
       "      <td>PFW_2022</td>\n",
       "      <td>...</td>\n",
       "      <td>0.0</td>\n",
       "      <td>1</td>\n",
       "      <td>0</td>\n",
       "      <td>1</td>\n",
       "      <td>1</td>\n",
       "      <td>5.000</td>\n",
       "      <td>PFW Web 4.1.5</td>\n",
       "      <td>brdowl</td>\n",
       "      <td>Strix varia</td>\n",
       "      <td>Barred Owl</td>\n",
       "    </tr>\n",
       "    <tr>\n",
       "      <th>1</th>\n",
       "      <td>L100032</td>\n",
       "      <td>45.132361</td>\n",
       "      <td>-93.130328</td>\n",
       "      <td>US-MN</td>\n",
       "      <td>S101351978</td>\n",
       "      <td>OBS1326112211</td>\n",
       "      <td>1</td>\n",
       "      <td>22</td>\n",
       "      <td>2022</td>\n",
       "      <td>PFW_2022</td>\n",
       "      <td>...</td>\n",
       "      <td>0.0</td>\n",
       "      <td>1</td>\n",
       "      <td>1</td>\n",
       "      <td>1</td>\n",
       "      <td>1</td>\n",
       "      <td>5.000</td>\n",
       "      <td>PFW Web 4.1.5</td>\n",
       "      <td>brdowl</td>\n",
       "      <td>Strix varia</td>\n",
       "      <td>Barred Owl</td>\n",
       "    </tr>\n",
       "    <tr>\n",
       "      <th>2</th>\n",
       "      <td>L100032</td>\n",
       "      <td>45.132361</td>\n",
       "      <td>-93.130328</td>\n",
       "      <td>US-MN</td>\n",
       "      <td>S102244797</td>\n",
       "      <td>OBS1337003050</td>\n",
       "      <td>2</td>\n",
       "      <td>5</td>\n",
       "      <td>2022</td>\n",
       "      <td>PFW_2022</td>\n",
       "      <td>...</td>\n",
       "      <td>0.0</td>\n",
       "      <td>1</td>\n",
       "      <td>1</td>\n",
       "      <td>1</td>\n",
       "      <td>1</td>\n",
       "      <td>5.000</td>\n",
       "      <td>PFW Web 4.1.5</td>\n",
       "      <td>brdowl</td>\n",
       "      <td>Strix varia</td>\n",
       "      <td>Barred Owl</td>\n",
       "    </tr>\n",
       "    <tr>\n",
       "      <th>3</th>\n",
       "      <td>L100032</td>\n",
       "      <td>45.132361</td>\n",
       "      <td>-93.130328</td>\n",
       "      <td>US-MN</td>\n",
       "      <td>S103304290</td>\n",
       "      <td>OBS1347942575</td>\n",
       "      <td>2</td>\n",
       "      <td>19</td>\n",
       "      <td>2022</td>\n",
       "      <td>PFW_2022</td>\n",
       "      <td>...</td>\n",
       "      <td>0.0</td>\n",
       "      <td>1</td>\n",
       "      <td>1</td>\n",
       "      <td>1</td>\n",
       "      <td>1</td>\n",
       "      <td>15.001</td>\n",
       "      <td>PFW Web 4.1.5</td>\n",
       "      <td>brdowl</td>\n",
       "      <td>Strix varia</td>\n",
       "      <td>Barred Owl</td>\n",
       "    </tr>\n",
       "    <tr>\n",
       "      <th>4</th>\n",
       "      <td>L100032</td>\n",
       "      <td>45.132361</td>\n",
       "      <td>-93.130328</td>\n",
       "      <td>US-MN</td>\n",
       "      <td>S103936569</td>\n",
       "      <td>OBS1354973456</td>\n",
       "      <td>2</td>\n",
       "      <td>26</td>\n",
       "      <td>2022</td>\n",
       "      <td>PFW_2022</td>\n",
       "      <td>...</td>\n",
       "      <td>0.0</td>\n",
       "      <td>1</td>\n",
       "      <td>1</td>\n",
       "      <td>1</td>\n",
       "      <td>1</td>\n",
       "      <td>15.001</td>\n",
       "      <td>PFW Web 4.1.5</td>\n",
       "      <td>brdowl</td>\n",
       "      <td>Strix varia</td>\n",
       "      <td>Barred Owl</td>\n",
       "    </tr>\n",
       "  </tbody>\n",
       "</table>\n",
       "<p>5 rows × 24 columns</p>\n",
       "</div>"
      ],
      "text/plain": [
       "    LOC_ID   LATITUDE  LONGITUDE SUBNATIONAL1_CODE      SUB_ID         OBS_ID  \\\n",
       "0  L100032  45.132361 -93.130328             US-MN  S100892478  OBS1320317836   \n",
       "1  L100032  45.132361 -93.130328             US-MN  S101351978  OBS1326112211   \n",
       "2  L100032  45.132361 -93.130328             US-MN  S102244797  OBS1337003050   \n",
       "3  L100032  45.132361 -93.130328             US-MN  S103304290  OBS1347942575   \n",
       "4  L100032  45.132361 -93.130328             US-MN  S103936569  OBS1354973456   \n",
       "\n",
       "   Month  Day  Year PROJ_PERIOD_ID  ... REVIEWED DAY1_AM  DAY1_PM  DAY2_AM  \\\n",
       "0      1   15  2022       PFW_2022  ...      0.0       1        0        1   \n",
       "1      1   22  2022       PFW_2022  ...      0.0       1        1        1   \n",
       "2      2    5  2022       PFW_2022  ...      0.0       1        1        1   \n",
       "3      2   19  2022       PFW_2022  ...      0.0       1        1        1   \n",
       "4      2   26  2022       PFW_2022  ...      0.0       1        1        1   \n",
       "\n",
       "   DAY2_PM  SNOW_DEP_ATLEAST  Data_Entry_Method  species_code  \\\n",
       "0        1             5.000      PFW Web 4.1.5        brdowl   \n",
       "1        1             5.000      PFW Web 4.1.5        brdowl   \n",
       "2        1             5.000      PFW Web 4.1.5        brdowl   \n",
       "3        1            15.001      PFW Web 4.1.5        brdowl   \n",
       "4        1            15.001      PFW Web 4.1.5        brdowl   \n",
       "\n",
       "   scientific_name  american_english_name  \n",
       "0      Strix varia             Barred Owl  \n",
       "1      Strix varia             Barred Owl  \n",
       "2      Strix varia             Barred Owl  \n",
       "3      Strix varia             Barred Owl  \n",
       "4      Strix varia             Barred Owl  \n",
       "\n",
       "[5 rows x 24 columns]"
      ]
     },
     "execution_count": 41,
     "metadata": {},
     "output_type": "execute_result"
    }
   ],
   "source": [
    "#Display the first rows of datas of the new dataframe\n",
    "\n",
    "df_main.head()"
   ]
  },
  {
   "cell_type": "code",
   "execution_count": 42,
   "id": "9f5f1ca3",
   "metadata": {},
   "outputs": [
    {
     "data": {
      "text/html": [
       "<div>\n",
       "<style scoped>\n",
       "    .dataframe tbody tr th:only-of-type {\n",
       "        vertical-align: middle;\n",
       "    }\n",
       "\n",
       "    .dataframe tbody tr th {\n",
       "        vertical-align: top;\n",
       "    }\n",
       "\n",
       "    .dataframe thead th {\n",
       "        text-align: right;\n",
       "    }\n",
       "</style>\n",
       "<table border=\"1\" class=\"dataframe\">\n",
       "  <thead>\n",
       "    <tr style=\"text-align: right;\">\n",
       "      <th></th>\n",
       "      <th>SPECIES_CODE</th>\n",
       "      <th>species_code</th>\n",
       "      <th>scientific_name</th>\n",
       "      <th>american_english_name</th>\n",
       "    </tr>\n",
       "  </thead>\n",
       "  <tbody>\n",
       "    <tr>\n",
       "      <th>8386901</th>\n",
       "      <td>reblei</td>\n",
       "      <td>reblei</td>\n",
       "      <td>Leiothrix lutea</td>\n",
       "      <td>Red-billed Leiothrix</td>\n",
       "    </tr>\n",
       "    <tr>\n",
       "      <th>8386902</th>\n",
       "      <td>reblei</td>\n",
       "      <td>reblei</td>\n",
       "      <td>Leiothrix lutea</td>\n",
       "      <td>Red-billed Leiothrix</td>\n",
       "    </tr>\n",
       "    <tr>\n",
       "      <th>8386903</th>\n",
       "      <td>reblei</td>\n",
       "      <td>reblei</td>\n",
       "      <td>Leiothrix lutea</td>\n",
       "      <td>Red-billed Leiothrix</td>\n",
       "    </tr>\n",
       "    <tr>\n",
       "      <th>8386904</th>\n",
       "      <td>reblei</td>\n",
       "      <td>reblei</td>\n",
       "      <td>Leiothrix lutea</td>\n",
       "      <td>Red-billed Leiothrix</td>\n",
       "    </tr>\n",
       "    <tr>\n",
       "      <th>8386905</th>\n",
       "      <td>reblei</td>\n",
       "      <td>reblei</td>\n",
       "      <td>Leiothrix lutea</td>\n",
       "      <td>Red-billed Leiothrix</td>\n",
       "    </tr>\n",
       "    <tr>\n",
       "      <th>8386906</th>\n",
       "      <td>reblei</td>\n",
       "      <td>reblei</td>\n",
       "      <td>Leiothrix lutea</td>\n",
       "      <td>Red-billed Leiothrix</td>\n",
       "    </tr>\n",
       "    <tr>\n",
       "      <th>8386907</th>\n",
       "      <td>reblei</td>\n",
       "      <td>reblei</td>\n",
       "      <td>Leiothrix lutea</td>\n",
       "      <td>Red-billed Leiothrix</td>\n",
       "    </tr>\n",
       "    <tr>\n",
       "      <th>8386908</th>\n",
       "      <td>reblei</td>\n",
       "      <td>reblei</td>\n",
       "      <td>Leiothrix lutea</td>\n",
       "      <td>Red-billed Leiothrix</td>\n",
       "    </tr>\n",
       "    <tr>\n",
       "      <th>8386909</th>\n",
       "      <td>reblei</td>\n",
       "      <td>reblei</td>\n",
       "      <td>Leiothrix lutea</td>\n",
       "      <td>Red-billed Leiothrix</td>\n",
       "    </tr>\n",
       "    <tr>\n",
       "      <th>8386910</th>\n",
       "      <td>reblei</td>\n",
       "      <td>reblei</td>\n",
       "      <td>Leiothrix lutea</td>\n",
       "      <td>Red-billed Leiothrix</td>\n",
       "    </tr>\n",
       "    <tr>\n",
       "      <th>8386911</th>\n",
       "      <td>reblei</td>\n",
       "      <td>reblei</td>\n",
       "      <td>Leiothrix lutea</td>\n",
       "      <td>Red-billed Leiothrix</td>\n",
       "    </tr>\n",
       "    <tr>\n",
       "      <th>8386912</th>\n",
       "      <td>reblei</td>\n",
       "      <td>reblei</td>\n",
       "      <td>Leiothrix lutea</td>\n",
       "      <td>Red-billed Leiothrix</td>\n",
       "    </tr>\n",
       "    <tr>\n",
       "      <th>8386913</th>\n",
       "      <td>chemun</td>\n",
       "      <td>chemun</td>\n",
       "      <td>Lonchura atricapilla</td>\n",
       "      <td>Chestnut Munia</td>\n",
       "    </tr>\n",
       "    <tr>\n",
       "      <th>8386914</th>\n",
       "      <td>chemun</td>\n",
       "      <td>chemun</td>\n",
       "      <td>Lonchura atricapilla</td>\n",
       "      <td>Chestnut Munia</td>\n",
       "    </tr>\n",
       "    <tr>\n",
       "      <th>8386915</th>\n",
       "      <td>comwax</td>\n",
       "      <td>comwax</td>\n",
       "      <td>Estrilda astrild</td>\n",
       "      <td>Common Waxbill</td>\n",
       "    </tr>\n",
       "    <tr>\n",
       "      <th>8386916</th>\n",
       "      <td>comwax</td>\n",
       "      <td>comwax</td>\n",
       "      <td>Estrilda astrild</td>\n",
       "      <td>Common Waxbill</td>\n",
       "    </tr>\n",
       "    <tr>\n",
       "      <th>8386917</th>\n",
       "      <td>comwax</td>\n",
       "      <td>comwax</td>\n",
       "      <td>Estrilda astrild</td>\n",
       "      <td>Common Waxbill</td>\n",
       "    </tr>\n",
       "    <tr>\n",
       "      <th>8386918</th>\n",
       "      <td>comwax</td>\n",
       "      <td>comwax</td>\n",
       "      <td>Estrilda astrild</td>\n",
       "      <td>Common Waxbill</td>\n",
       "    </tr>\n",
       "    <tr>\n",
       "      <th>8386919</th>\n",
       "      <td>comwax</td>\n",
       "      <td>comwax</td>\n",
       "      <td>Estrilda astrild</td>\n",
       "      <td>Common Waxbill</td>\n",
       "    </tr>\n",
       "    <tr>\n",
       "      <th>8386920</th>\n",
       "      <td>comwax</td>\n",
       "      <td>comwax</td>\n",
       "      <td>Estrilda astrild</td>\n",
       "      <td>Common Waxbill</td>\n",
       "    </tr>\n",
       "  </tbody>\n",
       "</table>\n",
       "</div>"
      ],
      "text/plain": [
       "        SPECIES_CODE species_code       scientific_name american_english_name\n",
       "8386901       reblei       reblei       Leiothrix lutea  Red-billed Leiothrix\n",
       "8386902       reblei       reblei       Leiothrix lutea  Red-billed Leiothrix\n",
       "8386903       reblei       reblei       Leiothrix lutea  Red-billed Leiothrix\n",
       "8386904       reblei       reblei       Leiothrix lutea  Red-billed Leiothrix\n",
       "8386905       reblei       reblei       Leiothrix lutea  Red-billed Leiothrix\n",
       "8386906       reblei       reblei       Leiothrix lutea  Red-billed Leiothrix\n",
       "8386907       reblei       reblei       Leiothrix lutea  Red-billed Leiothrix\n",
       "8386908       reblei       reblei       Leiothrix lutea  Red-billed Leiothrix\n",
       "8386909       reblei       reblei       Leiothrix lutea  Red-billed Leiothrix\n",
       "8386910       reblei       reblei       Leiothrix lutea  Red-billed Leiothrix\n",
       "8386911       reblei       reblei       Leiothrix lutea  Red-billed Leiothrix\n",
       "8386912       reblei       reblei       Leiothrix lutea  Red-billed Leiothrix\n",
       "8386913       chemun       chemun  Lonchura atricapilla        Chestnut Munia\n",
       "8386914       chemun       chemun  Lonchura atricapilla        Chestnut Munia\n",
       "8386915       comwax       comwax      Estrilda astrild        Common Waxbill\n",
       "8386916       comwax       comwax      Estrilda astrild        Common Waxbill\n",
       "8386917       comwax       comwax      Estrilda astrild        Common Waxbill\n",
       "8386918       comwax       comwax      Estrilda astrild        Common Waxbill\n",
       "8386919       comwax       comwax      Estrilda astrild        Common Waxbill\n",
       "8386920       comwax       comwax      Estrilda astrild        Common Waxbill"
      ]
     },
     "execution_count": 42,
     "metadata": {},
     "output_type": "execute_result"
    }
   ],
   "source": [
    "#Confirm if the join worked correctly by displaying extracting just a few columns and then displaying the last rows of the game\n",
    "\n",
    "df_temp = (df_main[['SPECIES_CODE', 'species_code', 'scientific_name', 'american_english_name']])\n",
    "df_temp.tail(20)"
   ]
  },
  {
   "cell_type": "code",
   "execution_count": null,
   "id": "2dce4406",
   "metadata": {},
   "outputs": [],
   "source": []
  },
  {
   "cell_type": "markdown",
   "id": "b8309718",
   "metadata": {},
   "source": [
    "Assuming the join worked as intended, we do not need the species_code columns anymore"
   ]
  },
  {
   "cell_type": "code",
   "execution_count": 43,
   "id": "753ab96e",
   "metadata": {},
   "outputs": [],
   "source": [
    "#drop the Species Code column from the first table\n",
    "\n",
    "df_main = df_main.drop('SPECIES_CODE', axis=1, inplace=False) "
   ]
  },
  {
   "cell_type": "code",
   "execution_count": 44,
   "id": "7a6b5858",
   "metadata": {},
   "outputs": [],
   "source": [
    "#Drop the Species code column from the second table\n",
    "\n",
    "df_main = df_main.drop('species_code', axis=1, inplace=False) "
   ]
  },
  {
   "cell_type": "code",
   "execution_count": 45,
   "id": "9befadae",
   "metadata": {},
   "outputs": [
    {
     "data": {
      "text/plain": [
       "(8386921, 22)"
      ]
     },
     "execution_count": 45,
     "metadata": {},
     "output_type": "execute_result"
    }
   ],
   "source": [
    "#Sanity Check \n",
    "\n",
    "df_main.shape"
   ]
  },
  {
   "cell_type": "markdown",
   "id": "2022ea61",
   "metadata": {},
   "source": [
    "Let's export this data for other notebooks"
   ]
  },
  {
   "cell_type": "code",
   "execution_count": 46,
   "id": "1186bdee",
   "metadata": {},
   "outputs": [],
   "source": [
    "#Export the data to a csv file, commented code to not export everytime the kernel is restarted\n",
    "\n",
    "#df_main.to_csv('feederwatch_cleaned', index=False)"
   ]
  },
  {
   "cell_type": "markdown",
   "id": "a797274e",
   "metadata": {},
   "source": [
    "***\n",
    "***\n",
    "***\n",
    "***"
   ]
  },
  {
   "cell_type": "markdown",
   "id": "0f189dca",
   "metadata": {},
   "source": [
    "### Part 2: Basic EDA <a class = \"anchor\" id = \"Part-2\"></a>"
   ]
  },
  {
   "cell_type": "markdown",
   "id": "92b8d124",
   "metadata": {},
   "source": [
    "Because the Data set is pretty large at the moment, it might make sense to shrink it down or divide into parts to make the analysis a little easier. One candidate for partitioning is the \"Subnational1_code\" column"
   ]
  },
  {
   "cell_type": "code",
   "execution_count": 47,
   "id": "3e464b34",
   "metadata": {},
   "outputs": [
    {
     "data": {
      "text/plain": [
       "SUBNATIONAL1_CODE\n",
       "US-NY     694779\n",
       "CA-ON     680498\n",
       "US-VA     522188\n",
       "US-PA     513418\n",
       "US-MA     343148\n",
       "           ...  \n",
       "US-HI        720\n",
       "PM-          675\n",
       "CA-NT        321\n",
       "MN-061        44\n",
       "CA-NU          1\n",
       "Name: count, Length: 67, dtype: int64"
      ]
     },
     "execution_count": 47,
     "metadata": {},
     "output_type": "execute_result"
    }
   ],
   "source": [
    "#Investigate the values of the \"Subnational1_code column\"\n",
    "\n",
    "df_main[\"SUBNATIONAL1_CODE\"].value_counts()"
   ]
  },
  {
   "cell_type": "markdown",
   "id": "1a573f24",
   "metadata": {},
   "source": [
    "It looks like each row in this column starts with 2 letters, which represent the country where the data was collected. Let's see how many countries we have"
   ]
  },
  {
   "cell_type": "code",
   "execution_count": 48,
   "id": "421185f9",
   "metadata": {},
   "outputs": [
    {
     "data": {
      "text/plain": [
       "SUBNATIONAL1_CODE\n",
       "US    7219256\n",
       "CA    1164056\n",
       "XX       2890\n",
       "PM        675\n",
       "MN         44\n",
       "Name: count, dtype: int64"
      ]
     },
     "execution_count": 48,
     "metadata": {},
     "output_type": "execute_result"
    }
   ],
   "source": [
    "#Display the first two letters of values in the \"Subnational1_code\" column and count how many times they appear in the data\n",
    "\n",
    "df_main[\"SUBNATIONAL1_CODE\"].str[:2].value_counts()"
   ]
  },
  {
   "cell_type": "markdown",
   "id": "9d955869",
   "metadata": {},
   "source": [
    "We can see that the USA and Canada make up most of the data. According to the data dictionary, the \"XX\" values represent incorrect user inputs. I am not sure what \"PM\" and \"MN\" stand for here, but since their numbers are so small, we can just continue by focusing on the USA and Canada."
   ]
  },
  {
   "cell_type": "code",
   "execution_count": 49,
   "id": "903c8d17",
   "metadata": {},
   "outputs": [],
   "source": [
    "#Define a dataframe each for the US and for the Canadian data\n",
    "\n",
    "df_main_US = df_main[df_main[\"SUBNATIONAL1_CODE\"].str[:2] == \"US\"]\n",
    "df_main_CA = df_main[df_main[\"SUBNATIONAL1_CODE\"].str[:2] == \"CA\"]"
   ]
  },
  {
   "cell_type": "markdown",
   "id": "2b004f4b",
   "metadata": {},
   "source": [
    "Now we can start plotting the data!"
   ]
  },
  {
   "cell_type": "code",
   "execution_count": 50,
   "id": "df34a456",
   "metadata": {},
   "outputs": [
    {
     "data": {
      "image/png": "[encoded data removed]",
      "text/plain": [
       "<Figure size 1200x800 with 2 Axes>"
      ]
     },
     "metadata": {},
     "output_type": "display_data"
    }
   ],
   "source": [
    "#Plot the two distributions in one diagram\n",
    "\n",
    "plt.figure\n",
    "\n",
    "plt.subplots(2,1, figsize = (12,8))\n",
    "\n",
    "#Create the first subplot\n",
    "plt.subplot(2,1,1)\n",
    "plt.title(\"Distribution of bird sightings in the USA\")\n",
    "sns.histplot(df_main_US[\"SUBNATIONAL1_CODE\"])\n",
    "plt.xticks(rotation=90)\n",
    "plt.xlabel(\"State\")\n",
    "\n",
    "\n",
    "#Create the second subplot\n",
    "plt.subplot(2,1,2)\n",
    "plt.title(\"Distribution of bird sightings in Canada\")\n",
    "sns.histplot(df_main_CA[\"SUBNATIONAL1_CODE\"])\n",
    "plt.xticks(rotation=90)\n",
    "plt.xlabel(\"Province\")\n",
    "\n",
    "#Minimize overlap\n",
    "plt.tight_layout()\n",
    "\n",
    "plt.show()"
   ]
  },
  {
   "cell_type": "markdown",
   "id": "3038bf2a",
   "metadata": {},
   "source": [
    "In the USA, most of the values seem to have been recorded from the state of New York. In Canada, Ontario has by far the most value counts, followed by British Columbia."
   ]
  },
  {
   "cell_type": "markdown",
   "id": "dec0dd28",
   "metadata": {},
   "source": [
    "For Canada, let's see what kind of birds were most often encountered in the different states"
   ]
  },
  {
   "cell_type": "code",
   "execution_count": 51,
   "id": "d0f5985f",
   "metadata": {
    "scrolled": false
   },
   "outputs": [
    {
     "data": {
      "text/plain": [
       "<Figure size 640x480 with 0 Axes>"
      ]
     },
     "metadata": {},
     "output_type": "display_data"
    },
    {
     "data": {
      "image/png": "[encoded data removed]",
      "text/plain": [
       "<Figure size 1000x2500 with 15 Axes>"
      ]
     },
     "metadata": {},
     "output_type": "display_data"
    }
   ],
   "source": [
    "plt.figure()\n",
    "\n",
    "plt.subplots(5, 3, figsize=(10, 25))\n",
    "\n",
    "\n",
    "counter = 1\n",
    "\n",
    "for province in df_main_CA[\"SUBNATIONAL1_CODE\"].unique():\n",
    "    plt.subplot(5, 3, counter)  # Use the counter variable to specify the subplot position\n",
    "    df_state = df_main_CA[df_main_CA[\"SUBNATIONAL1_CODE\"] == province][\"american_english_name\"].value_counts().head(3).sort_values(ascending=False)\n",
    "    plt.bar(df_state.index, df_state.values)\n",
    "    plt.title(f\" {province}\")  # Add a title to each subplot\n",
    "    plt.xticks(rotation=70) \n",
    "    plt.ylabel(\"Count\")\n",
    "    plt.xlabel(\"Bird Species\")\n",
    "    counter += 1\n",
    "    \n",
    "plt.suptitle(\"Most frequently observed bird species in Canadian provinces\")\n",
    "plt.tight_layout(rect=[0, 0, 1, 0.96])  # Adjust the top parameter to leave space for the suptitle\n",
    "plt.show()"
   ]
  },
  {
   "cell_type": "markdown",
   "id": "088b4ab3",
   "metadata": {},
   "source": [
    "The top row of the plots show three states that had the highest number of birds. Interestingly, even though there are differences, similar species come up in the top 3 (Black capped Chickadee, Downy Woodpecker).\n",
    "\n",
    "Going forward, lets keep focusing on the Canadian data."
   ]
  },
  {
   "cell_type": "code",
   "execution_count": 52,
   "id": "d6b775bb",
   "metadata": {},
   "outputs": [
    {
     "data": {
      "text/plain": [
       "american_english_name\n",
       "Black-capped Chickadee    109084\n",
       "Dark-eyed Junco            82273\n",
       "Downy Woodpecker           80338\n",
       "Name: count, dtype: int64"
      ]
     },
     "execution_count": 52,
     "metadata": {},
     "output_type": "execute_result"
    }
   ],
   "source": [
    "#Check the most often encountered birds in Canada\n",
    "\n",
    "df_main_CA[\"american_english_name\"].value_counts().head(3)"
   ]
  },
  {
   "cell_type": "markdown",
   "id": "aa21a88d",
   "metadata": {},
   "source": [
    "This result is not surprising after having seen the data in each province. Lets use at the time data provided in the table."
   ]
  },
  {
   "cell_type": "code",
   "execution_count": 53,
   "id": "c872592f",
   "metadata": {},
   "outputs": [
    {
     "data": {
      "text/plain": [
       "Year\n",
       "2022    412407\n",
       "2021    390205\n",
       "2023    245905\n",
       "2020    115539\n",
       "Name: count, dtype: int64"
      ]
     },
     "execution_count": 53,
     "metadata": {},
     "output_type": "execute_result"
    }
   ],
   "source": [
    "#Print the value counts per year in the data\n",
    "\n",
    "df_main_CA[\"Year\"].value_counts()"
   ]
  },
  {
   "cell_type": "code",
   "execution_count": 54,
   "id": "27b867ea",
   "metadata": {},
   "outputs": [
    {
     "data": {
      "text/plain": [
       "Month\n",
       "1     219231\n",
       "3     208677\n",
       "12    200750\n",
       "4     189859\n",
       "2     189597\n",
       "11    155933\n",
       "10         9\n",
       "Name: count, dtype: int64"
      ]
     },
     "execution_count": 54,
     "metadata": {},
     "output_type": "execute_result"
    }
   ],
   "source": [
    "#Print the value counts per month in the data\n",
    "\n",
    "df_main_CA[\"Month\"].value_counts()"
   ]
  },
  {
   "cell_type": "markdown",
   "id": "433f40a7",
   "metadata": {},
   "source": [
    "This result is pretty surprising. There are basically no values for the summer months. Lets look at the months over the years."
   ]
  },
  {
   "cell_type": "code",
   "execution_count": 57,
   "id": "799a53e5",
   "metadata": {},
   "outputs": [
    {
     "data": {
      "text/html": [
       "<div>\n",
       "<style scoped>\n",
       "    .dataframe tbody tr th:only-of-type {\n",
       "        vertical-align: middle;\n",
       "    }\n",
       "\n",
       "    .dataframe tbody tr th {\n",
       "        vertical-align: top;\n",
       "    }\n",
       "\n",
       "    .dataframe thead th {\n",
       "        text-align: right;\n",
       "    }\n",
       "</style>\n",
       "<table border=\"1\" class=\"dataframe\">\n",
       "  <thead>\n",
       "    <tr style=\"text-align: right;\">\n",
       "      <th></th>\n",
       "      <th>Year</th>\n",
       "      <th>Month</th>\n",
       "      <th>count</th>\n",
       "    </tr>\n",
       "  </thead>\n",
       "  <tbody>\n",
       "    <tr>\n",
       "      <th>0</th>\n",
       "      <td>2020</td>\n",
       "      <td>12</td>\n",
       "      <td>69252</td>\n",
       "    </tr>\n",
       "    <tr>\n",
       "      <th>1</th>\n",
       "      <td>2020</td>\n",
       "      <td>11</td>\n",
       "      <td>46287</td>\n",
       "    </tr>\n",
       "    <tr>\n",
       "      <th>2</th>\n",
       "      <td>2021</td>\n",
       "      <td>1</td>\n",
       "      <td>78114</td>\n",
       "    </tr>\n",
       "    <tr>\n",
       "      <th>3</th>\n",
       "      <td>2021</td>\n",
       "      <td>3</td>\n",
       "      <td>76995</td>\n",
       "    </tr>\n",
       "    <tr>\n",
       "      <th>4</th>\n",
       "      <td>2021</td>\n",
       "      <td>2</td>\n",
       "      <td>67733</td>\n",
       "    </tr>\n",
       "    <tr>\n",
       "      <th>5</th>\n",
       "      <td>2021</td>\n",
       "      <td>12</td>\n",
       "      <td>63078</td>\n",
       "    </tr>\n",
       "    <tr>\n",
       "      <th>6</th>\n",
       "      <td>2021</td>\n",
       "      <td>4</td>\n",
       "      <td>62071</td>\n",
       "    </tr>\n",
       "    <tr>\n",
       "      <th>7</th>\n",
       "      <td>2021</td>\n",
       "      <td>11</td>\n",
       "      <td>42214</td>\n",
       "    </tr>\n",
       "    <tr>\n",
       "      <th>8</th>\n",
       "      <td>2022</td>\n",
       "      <td>1</td>\n",
       "      <td>78253</td>\n",
       "    </tr>\n",
       "    <tr>\n",
       "      <th>9</th>\n",
       "      <td>2022</td>\n",
       "      <td>3</td>\n",
       "      <td>70313</td>\n",
       "    </tr>\n",
       "  </tbody>\n",
       "</table>\n",
       "</div>"
      ],
      "text/plain": [
       "   Year  Month  count\n",
       "0  2020     12  69252\n",
       "1  2020     11  46287\n",
       "2  2021      1  78114\n",
       "3  2021      3  76995\n",
       "4  2021      2  67733\n",
       "5  2021     12  63078\n",
       "6  2021      4  62071\n",
       "7  2021     11  42214\n",
       "8  2022      1  78253\n",
       "9  2022      3  70313"
      ]
     },
     "execution_count": 57,
     "metadata": {},
     "output_type": "execute_result"
    }
   ],
   "source": [
    "#Create a dataframe that groups first by year and then by month and then counts the species per month and year\n",
    "\n",
    "df_temp = df_main_CA.groupby(['Year'])[\"Month\"].value_counts().reset_index()\n",
    "df_temp.head(10)"
   ]
  },
  {
   "cell_type": "code",
   "execution_count": 75,
   "id": "61b4b5af",
   "metadata": {},
   "outputs": [
    {
     "data": {
      "text/plain": [
       "<Figure size 640x480 with 0 Axes>"
      ]
     },
     "metadata": {},
     "output_type": "display_data"
    },
    {
     "data": {
      "image/png": "[encoded data removed]",
      "text/plain": [
       "<Figure size 2000x1800 with 4 Axes>"
      ]
     },
     "metadata": {},
     "output_type": "display_data"
    },
    {
     "data": {
      "text/plain": [
       "<Figure size 640x480 with 0 Axes>"
      ]
     },
     "metadata": {},
     "output_type": "display_data"
    }
   ],
   "source": [
    "plt.figure()\n",
    "\n",
    "plt.subplots(4,1, figsize = (20,18))\n",
    "\n",
    "plt.subplot(4,1,1)\n",
    "plt.title(\"Data from 2020\")\n",
    "sns.barplot(x = \"Month\", y = \"count\", data = df_temp[df_temp[\"Year\"] == 2020])\n",
    "\n",
    "\n",
    "plt.subplot(4,1,2)\n",
    "plt.title(\"Data from 2021\")\n",
    "sns.barplot(x = \"Month\", y = \"count\", data = df_temp[df_temp[\"Year\"] == 2021])\n",
    "\n",
    "\n",
    "plt.subplot(4,1,3)\n",
    "plt.title(\"Data from 2022\")\n",
    "sns.barplot(x = \"Month\", y = \"count\", data = df_temp[df_temp[\"Year\"] == 2023])\n",
    "\n",
    "\n",
    "plt.subplot(4,1,4)\n",
    "plt.title(\"Data from 2023\")\n",
    "sns.barplot(x = \"Month\", y = \"count\", data = df_temp[df_temp[\"Year\"] == 2023])\n",
    "\n",
    "plt.show()\n",
    "\n",
    "plt.tight_layout()"
   ]
  },
  {
   "cell_type": "markdown",
   "id": "885fe3ac",
   "metadata": {},
   "source": [
    "It does not seem like there are any consistent trends here. This is kind of concerning, as I was hoping to use time series analysis."
   ]
  },
  {
   "cell_type": "markdown",
   "id": "5c259e9d",
   "metadata": {},
   "source": [
    "***\n",
    "***\n",
    "***"
   ]
  },
  {
   "cell_type": "markdown",
   "id": "a23bedac",
   "metadata": {},
   "source": [
    "### Part 3: Next steps <a class = \"anchor\" id = \"Part-3\"></a>"
   ]
  },
  {
   "cell_type": "markdown",
   "id": "c60c695b",
   "metadata": {},
   "source": [
    "*Some Brainstorming ideas on how to proceed:*\n",
    "- The datasource also has tables containing data from previous years. By adding these to the analysis, it may get easier to identify trends for time series analysis\n",
    "- Adding more data would also help make any restrictions to provinces more meaningful. I might look into just analyzing British Columbia, Canada in the beginning\n",
    "- Explore the Longitude and Latitude columns (after adding the additional data) to identify hot spots and maybe spot some patterns\n"
   ]
  }
 ],
 "metadata": {
  "kernelspec": {
   "display_name": "Python 3 (ipykernel)",
   "language": "python",
   "name": "python3"
  },
  "language_info": {
   "codemirror_mode": {
    "name": "ipython",
    "version": 3
   },
   "file_extension": ".py",
   "mimetype": "text/x-python",
   "name": "python",
   "nbconvert_exporter": "python",
   "pygments_lexer": "ipython3",
   "version": "3.11.5"
  }
 },
 "nbformat": 4,
 "nbformat_minor": 5
}

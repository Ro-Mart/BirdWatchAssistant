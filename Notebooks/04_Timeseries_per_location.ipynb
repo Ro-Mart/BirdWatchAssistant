{
 "cells": [
  {
   "cell_type": "markdown",
   "id": "f6a2f76e",
   "metadata": {},
   "source": [
    "# BirdWatch Timeseries for Location Clusters"
   ]
  },
  {
   "cell_type": "markdown",
   "id": "7a1a3424",
   "metadata": {},
   "source": [
    "## Author: Rosemarie Martienssen"
   ]
  },
  {
   "cell_type": "markdown",
   "id": "b3a261c7",
   "metadata": {},
   "source": [
    "This notebook is the forth in a series of (so far) four. In the first notebook, we cleaned and concatanated Datasets obtained from https://feederwatch.org/explore/raw-dataset-requests/ . The end result was one dataset containing Data ranging between the years 2011-2023. \n",
    "The second notebook featured an initial attempt at using timeseries to model bird sightings. The approach from notebook 2 will be mirrored here (with some enhancements) but we will also incorporate the results from Notebook 3, where we used Clustering to identify different locations. The goal is to have a model for each bird species and each location to predict the occurence at the species at the given location."
   ]
  },
  {
   "cell_type": "markdown",
   "id": "ea84f8d0",
   "metadata": {},
   "source": [
    "### Table of contents <a class = \"anchor\" id = \"ToC\"></a>\n",
    "- [Part 0: Import required Python packages and import data](#Part-0)\n",
    "\n",
    "- [Part 1: Prepare for time series](#Part-1)\n",
    " \n",
    "- [Part 2:Fit models using Facebook Prophet](#Part-2)\n",
    "    \n"
   ]
  },
  {
   "cell_type": "markdown",
   "id": "85f0b464",
   "metadata": {},
   "source": [
    "### Part 0: Import required Python packages and import  data <a class = \"anchor\" id = \"Part-0\"></a>"
   ]
  },
  {
   "cell_type": "code",
   "execution_count": 1,
   "id": "421fe4fb",
   "metadata": {},
   "outputs": [
    {
     "name": "stderr",
     "output_type": "stream",
     "text": [
      "C:\\Users\\rmart\\.conda\\envs\\timeseries\\Lib\\site-packages\\tqdm\\auto.py:21: TqdmWarning: IProgress not found. Please update jupyter and ipywidgets. See https://ipywidgets.readthedocs.io/en/stable/user_install.html\n",
      "  from .autonotebook import tqdm as notebook_tqdm\n"
     ]
    }
   ],
   "source": [
    "#import packages\n",
    "\n",
    "import pandas as pd\n",
    "import numpy as np\n",
    "\n",
    "# plotting\n",
    "import plotly.express as px\n",
    "from plotly.subplots import make_subplots\n",
    "import plotly.graph_objs as go\n",
    "import matplotlib.pyplot as plt\n",
    "import seaborn as sns\n",
    "\n",
    "# stats\n",
    "from statsmodels.api import tsa # time series analysis\n",
    "import statsmodels.api as sm\n",
    "from statsmodels.graphics.tsaplots import month_plot\n",
    "from statsmodels.tsa.seasonal import seasonal_decompose\n",
    "\n",
    "#FB prophet model\n",
    "from prophet import Prophet"
   ]
  },
  {
   "cell_type": "code",
   "execution_count": 2,
   "id": "7f47bac2",
   "metadata": {},
   "outputs": [
    {
     "name": "stderr",
     "output_type": "stream",
     "text": [
      "C:\\Users\\rmart\\AppData\\Local\\Temp\\ipykernel_6532\\1433707354.py:3: DtypeWarning: Columns (10) have mixed types. Specify dtype option on import or set low_memory=False.\n",
      "  df_raw = pd.read_csv(\"../data/CA_BC_clustered_feederwatch_2011_2023.csv\")\n"
     ]
    }
   ],
   "source": [
    "#Import the source data for this notebook\n",
    "\n",
    "df_raw = pd.read_csv(\"../data/CA_BC_clustered_feederwatch_2011_2023.csv\")"
   ]
  },
  {
   "cell_type": "code",
   "execution_count": 3,
   "id": "2e85584f",
   "metadata": {},
   "outputs": [
    {
     "data": {
      "text/plain": [
       "(516216, 22)"
      ]
     },
     "execution_count": 3,
     "metadata": {},
     "output_type": "execute_result"
    }
   ],
   "source": [
    "df_raw.shape"
   ]
  },
  {
   "cell_type": "code",
   "execution_count": 4,
   "id": "15b1d57f",
   "metadata": {},
   "outputs": [
    {
     "name": "stdout",
     "output_type": "stream",
     "text": [
      "<class 'pandas.core.frame.DataFrame'>\n",
      "RangeIndex: 516216 entries, 0 to 516215\n",
      "Data columns (total 22 columns):\n",
      " #   Column                 Non-Null Count   Dtype  \n",
      "---  ------                 --------------   -----  \n",
      " 0   LOC_ID                 516216 non-null  object \n",
      " 1   LATITUDE               516216 non-null  float64\n",
      " 2   LONGITUDE              516216 non-null  float64\n",
      " 3   SUBNATIONAL1_CODE      516216 non-null  object \n",
      " 4   SUB_ID                 516216 non-null  object \n",
      " 5   OBS_ID                 516216 non-null  object \n",
      " 6   Month                  516216 non-null  int64  \n",
      " 7   Day                    516216 non-null  int64  \n",
      " 8   Year                   516216 non-null  int64  \n",
      " 9   PROJ_PERIOD_ID         516216 non-null  object \n",
      " 10  alt_full_spp_code      4943 non-null    object \n",
      " 11  HOW_MANY               516216 non-null  float64\n",
      " 12  DAY1_AM                516216 non-null  int64  \n",
      " 13  DAY1_PM                516216 non-null  int64  \n",
      " 14  DAY2_AM                516216 non-null  int64  \n",
      " 15  DAY2_PM                516216 non-null  int64  \n",
      " 16  SNOW_DEP_ATLEAST       459889 non-null  float64\n",
      " 17  Data_Entry_Method      516216 non-null  object \n",
      " 18  scientific_name        516216 non-null  object \n",
      " 19  american_english_name  516216 non-null  object \n",
      " 20  date                   516216 non-null  object \n",
      " 21  Cluster                516216 non-null  int64  \n",
      "dtypes: float64(4), int64(8), object(10)\n",
      "memory usage: 86.6+ MB\n"
     ]
    }
   ],
   "source": [
    "df_raw.info()"
   ]
  },
  {
   "cell_type": "markdown",
   "id": "3cbf5d9f",
   "metadata": {},
   "source": [
    "***\n",
    "[Back to Table of Contents](#ToC) \n",
    "***"
   ]
  },
  {
   "cell_type": "markdown",
   "id": "91ecb006",
   "metadata": {},
   "source": [
    "### Part 1: prepare for time series <a class = \"anchor\" id = \"Part-1\"></a>"
   ]
  },
  {
   "cell_type": "markdown",
   "id": "11c9526f",
   "metadata": {},
   "source": [
    "**Remove columns**"
   ]
  },
  {
   "cell_type": "markdown",
   "id": "8119b07b",
   "metadata": {},
   "source": [
    "For our time-series, we will not need the majority of columns currently in the dataframe. We can create a new one that just focuses on the data we need."
   ]
  },
  {
   "cell_type": "code",
   "execution_count": 5,
   "id": "c41744ab",
   "metadata": {},
   "outputs": [
    {
     "data": {
      "text/html": [
       "<div>\n",
       "<style scoped>\n",
       "    .dataframe tbody tr th:only-of-type {\n",
       "        vertical-align: middle;\n",
       "    }\n",
       "\n",
       "    .dataframe tbody tr th {\n",
       "        vertical-align: top;\n",
       "    }\n",
       "\n",
       "    .dataframe thead th {\n",
       "        text-align: right;\n",
       "    }\n",
       "</style>\n",
       "<table border=\"1\" class=\"dataframe\">\n",
       "  <thead>\n",
       "    <tr style=\"text-align: right;\">\n",
       "      <th></th>\n",
       "      <th>date</th>\n",
       "      <th>american_english_name</th>\n",
       "      <th>HOW_MANY</th>\n",
       "      <th>Cluster</th>\n",
       "    </tr>\n",
       "  </thead>\n",
       "  <tbody>\n",
       "    <tr>\n",
       "      <th>0</th>\n",
       "      <td>2011-02-07</td>\n",
       "      <td>White-breasted Nuthatch</td>\n",
       "      <td>2.0</td>\n",
       "      <td>4</td>\n",
       "    </tr>\n",
       "    <tr>\n",
       "      <th>1</th>\n",
       "      <td>2010-11-22</td>\n",
       "      <td>White-breasted Nuthatch</td>\n",
       "      <td>1.0</td>\n",
       "      <td>0</td>\n",
       "    </tr>\n",
       "    <tr>\n",
       "      <th>2</th>\n",
       "      <td>2010-12-02</td>\n",
       "      <td>White-breasted Nuthatch</td>\n",
       "      <td>1.0</td>\n",
       "      <td>4</td>\n",
       "    </tr>\n",
       "    <tr>\n",
       "      <th>3</th>\n",
       "      <td>2010-12-09</td>\n",
       "      <td>White-breasted Nuthatch</td>\n",
       "      <td>5.0</td>\n",
       "      <td>4</td>\n",
       "    </tr>\n",
       "    <tr>\n",
       "      <th>4</th>\n",
       "      <td>2011-03-06</td>\n",
       "      <td>White-breasted Nuthatch</td>\n",
       "      <td>2.0</td>\n",
       "      <td>5</td>\n",
       "    </tr>\n",
       "  </tbody>\n",
       "</table>\n",
       "</div>"
      ],
      "text/plain": [
       "         date    american_english_name  HOW_MANY  Cluster\n",
       "0  2011-02-07  White-breasted Nuthatch       2.0        4\n",
       "1  2010-11-22  White-breasted Nuthatch       1.0        0\n",
       "2  2010-12-02  White-breasted Nuthatch       1.0        4\n",
       "3  2010-12-09  White-breasted Nuthatch       5.0        4\n",
       "4  2011-03-06  White-breasted Nuthatch       2.0        5"
      ]
     },
     "execution_count": 5,
     "metadata": {},
     "output_type": "execute_result"
    }
   ],
   "source": [
    "#Create a new dataframe and display the first rows\n",
    "\n",
    "df = df_raw[['date', 'american_english_name', 'HOW_MANY', 'Cluster']]\n",
    "df.head()"
   ]
  },
  {
   "cell_type": "markdown",
   "id": "660c12ff",
   "metadata": {},
   "source": [
    "The `Cluster` column is based on the Location clustering we performed in Notebook 03. We have a total number of 8 clusters in the dataset and will divide the current dataframe into 8 different dataframes to obtain models based on the location."
   ]
  },
  {
   "cell_type": "markdown",
   "id": "fc358a66",
   "metadata": {},
   "source": [
    "**Divide into Clusters**"
   ]
  },
  {
   "cell_type": "code",
   "execution_count": 6,
   "id": "75be5874",
   "metadata": {},
   "outputs": [],
   "source": [
    "#Create 8 different dataframes for the 8 clusters\n",
    "\n",
    "for i in range(8):\n",
    "    globals()[f\"df_{i}\"] = df[df['Cluster'] == i]\n"
   ]
  },
  {
   "cell_type": "code",
   "execution_count": 7,
   "id": "cf750180",
   "metadata": {},
   "outputs": [
    {
     "data": {
      "text/html": [
       "<div>\n",
       "<style scoped>\n",
       "    .dataframe tbody tr th:only-of-type {\n",
       "        vertical-align: middle;\n",
       "    }\n",
       "\n",
       "    .dataframe tbody tr th {\n",
       "        vertical-align: top;\n",
       "    }\n",
       "\n",
       "    .dataframe thead th {\n",
       "        text-align: right;\n",
       "    }\n",
       "</style>\n",
       "<table border=\"1\" class=\"dataframe\">\n",
       "  <thead>\n",
       "    <tr style=\"text-align: right;\">\n",
       "      <th></th>\n",
       "      <th>date</th>\n",
       "      <th>american_english_name</th>\n",
       "      <th>HOW_MANY</th>\n",
       "      <th>Cluster</th>\n",
       "    </tr>\n",
       "  </thead>\n",
       "  <tbody>\n",
       "    <tr>\n",
       "      <th>1</th>\n",
       "      <td>2010-11-22</td>\n",
       "      <td>White-breasted Nuthatch</td>\n",
       "      <td>1.0</td>\n",
       "      <td>0</td>\n",
       "    </tr>\n",
       "    <tr>\n",
       "      <th>41</th>\n",
       "      <td>2012-12-09</td>\n",
       "      <td>White-breasted Nuthatch</td>\n",
       "      <td>2.0</td>\n",
       "      <td>0</td>\n",
       "    </tr>\n",
       "  </tbody>\n",
       "</table>\n",
       "</div>"
      ],
      "text/plain": [
       "          date    american_english_name  HOW_MANY  Cluster\n",
       "1   2010-11-22  White-breasted Nuthatch       1.0        0\n",
       "41  2012-12-09  White-breasted Nuthatch       2.0        0"
      ]
     },
     "execution_count": 7,
     "metadata": {},
     "output_type": "execute_result"
    }
   ],
   "source": [
    "#Sanity Check\n",
    "\n",
    "df_0.head(2)"
   ]
  },
  {
   "cell_type": "code",
   "execution_count": 8,
   "id": "a3340397",
   "metadata": {},
   "outputs": [
    {
     "data": {
      "text/html": [
       "<div>\n",
       "<style scoped>\n",
       "    .dataframe tbody tr th:only-of-type {\n",
       "        vertical-align: middle;\n",
       "    }\n",
       "\n",
       "    .dataframe tbody tr th {\n",
       "        vertical-align: top;\n",
       "    }\n",
       "\n",
       "    .dataframe thead th {\n",
       "        text-align: right;\n",
       "    }\n",
       "</style>\n",
       "<table border=\"1\" class=\"dataframe\">\n",
       "  <thead>\n",
       "    <tr style=\"text-align: right;\">\n",
       "      <th></th>\n",
       "      <th>date</th>\n",
       "      <th>american_english_name</th>\n",
       "      <th>HOW_MANY</th>\n",
       "      <th>Cluster</th>\n",
       "    </tr>\n",
       "  </thead>\n",
       "  <tbody>\n",
       "    <tr>\n",
       "      <th>16</th>\n",
       "      <td>2012-11-17</td>\n",
       "      <td>White-breasted Nuthatch</td>\n",
       "      <td>1.0</td>\n",
       "      <td>1</td>\n",
       "    </tr>\n",
       "    <tr>\n",
       "      <th>234</th>\n",
       "      <td>2011-12-31</td>\n",
       "      <td>White-breasted Nuthatch</td>\n",
       "      <td>1.0</td>\n",
       "      <td>1</td>\n",
       "    </tr>\n",
       "  </tbody>\n",
       "</table>\n",
       "</div>"
      ],
      "text/plain": [
       "           date    american_english_name  HOW_MANY  Cluster\n",
       "16   2012-11-17  White-breasted Nuthatch       1.0        1\n",
       "234  2011-12-31  White-breasted Nuthatch       1.0        1"
      ]
     },
     "execution_count": 8,
     "metadata": {},
     "output_type": "execute_result"
    }
   ],
   "source": [
    "#sanity Check\n",
    "\n",
    "df_1.head(2)"
   ]
  },
  {
   "cell_type": "code",
   "execution_count": 9,
   "id": "7f1bd236",
   "metadata": {},
   "outputs": [
    {
     "name": "stdout",
     "output_type": "stream",
     "text": [
      "0\n"
     ]
    },
    {
     "data": {
      "text/plain": [
       "american_english_name\n",
       "Dark-eyed Junco           15470\n",
       "Black-capped Chickadee    15345\n",
       "Song Sparrow              12511\n",
       "Spotted Towhee            10996\n",
       "Anna's Hummingbird        10222\n",
       "Name: count, dtype: int64"
      ]
     },
     "metadata": {},
     "output_type": "display_data"
    },
    {
     "name": "stdout",
     "output_type": "stream",
     "text": [
      "1\n"
     ]
    },
    {
     "data": {
      "text/plain": [
       "american_english_name\n",
       "Black-capped Chickadee    3994\n",
       "Downy Woodpecker          2699\n",
       "Northern Flicker          2550\n",
       "Red-breasted Nuthatch     2479\n",
       "Hairy Woodpecker          2132\n",
       "Name: count, dtype: int64"
      ]
     },
     "metadata": {},
     "output_type": "display_data"
    },
    {
     "name": "stdout",
     "output_type": "stream",
     "text": [
      "2\n"
     ]
    },
    {
     "data": {
      "text/plain": [
       "american_english_name\n",
       "Black-capped Chickadee    4090\n",
       "Red-breasted Nuthatch     3142\n",
       "Northern Flicker          3042\n",
       "Song Sparrow              2262\n",
       "Downy Woodpecker          2125\n",
       "Name: count, dtype: int64"
      ]
     },
     "metadata": {},
     "output_type": "display_data"
    },
    {
     "name": "stdout",
     "output_type": "stream",
     "text": [
      "3\n"
     ]
    },
    {
     "data": {
      "text/plain": [
       "american_english_name\n",
       "Spotted Towhee               3904\n",
       "Dark-eyed Junco              3869\n",
       "Chestnut-backed Chickadee    3096\n",
       "Anna's Hummingbird           2856\n",
       "Song Sparrow                 2800\n",
       "Name: count, dtype: int64"
      ]
     },
     "metadata": {},
     "output_type": "display_data"
    },
    {
     "name": "stdout",
     "output_type": "stream",
     "text": [
      "4\n"
     ]
    },
    {
     "data": {
      "text/plain": [
       "american_english_name\n",
       "Dark-eyed Junco           5766\n",
       "House Finch               5493\n",
       "Black-capped Chickadee    4928\n",
       "Northern Flicker          4780\n",
       "Song Sparrow              4292\n",
       "Name: count, dtype: int64"
      ]
     },
     "metadata": {},
     "output_type": "display_data"
    },
    {
     "name": "stdout",
     "output_type": "stream",
     "text": [
      "5\n"
     ]
    },
    {
     "data": {
      "text/plain": [
       "american_english_name\n",
       "Dark-eyed Junco              10512\n",
       "Anna's Hummingbird            9556\n",
       "Chestnut-backed Chickadee     9279\n",
       "Spotted Towhee                9184\n",
       "Northern Flicker              6615\n",
       "Name: count, dtype: int64"
      ]
     },
     "metadata": {},
     "output_type": "display_data"
    },
    {
     "name": "stdout",
     "output_type": "stream",
     "text": [
      "6\n"
     ]
    },
    {
     "data": {
      "text/plain": [
       "american_english_name\n",
       "Dark-eyed Junco              1561\n",
       "Black-capped Chickadee       1202\n",
       "Steller's Jay                1157\n",
       "Chestnut-backed Chickadee     815\n",
       "Pine Siskin                   716\n",
       "Name: count, dtype: int64"
      ]
     },
     "metadata": {},
     "output_type": "display_data"
    },
    {
     "name": "stdout",
     "output_type": "stream",
     "text": [
      "7\n"
     ]
    },
    {
     "data": {
      "text/plain": [
       "american_english_name\n",
       "Black-capped Chickadee    798\n",
       "Blue Jay                  660\n",
       "Downy Woodpecker          588\n",
       "Hairy Woodpecker          569\n",
       "Common Redpoll            517\n",
       "Name: count, dtype: int64"
      ]
     },
     "metadata": {},
     "output_type": "display_data"
    }
   ],
   "source": [
    "#For each of the Clusters, show the bird species that occur most often in the dataframe\n",
    "\n",
    "for i in range(8):\n",
    "    print(i)\n",
    "    display(globals()[f\"df_{i}\"]['american_english_name'].value_counts().head(5))"
   ]
  },
  {
   "cell_type": "markdown",
   "id": "e8c0b363",
   "metadata": {},
   "source": [
    "These results show that there is in fact a difference in the locations because we see different bird patterns, even though there are also some similarities."
   ]
  },
  {
   "cell_type": "code",
   "execution_count": null,
   "id": "0b374e86",
   "metadata": {},
   "outputs": [],
   "source": []
  },
  {
   "cell_type": "markdown",
   "id": "29e46919",
   "metadata": {},
   "source": [
    "**Create Dummy Variables for the bird species**\n"
   ]
  },
  {
   "cell_type": "code",
   "execution_count": 10,
   "id": "4c3de5dd",
   "metadata": {},
   "outputs": [],
   "source": [
    "#Create dummy variables for the column \"american_english name\" for each location cluster\n",
    "\n",
    "for i in range(8):\n",
    "    df = globals()[f\"df_{i}\"]\n",
    "    globals()[f\"df_dummy_{i}\"] = pd.get_dummies(df, columns=['american_english_name'], prefix='no_of', dtype=int)"
   ]
  },
  {
   "cell_type": "code",
   "execution_count": 11,
   "id": "d957237c",
   "metadata": {},
   "outputs": [
    {
     "name": "stdout",
     "output_type": "stream",
     "text": [
      "0\n"
     ]
    },
    {
     "data": {
      "text/plain": [
       "(172551, 117)"
      ]
     },
     "metadata": {},
     "output_type": "display_data"
    },
    {
     "data": {
      "text/html": [
       "<div>\n",
       "<style scoped>\n",
       "    .dataframe tbody tr th:only-of-type {\n",
       "        vertical-align: middle;\n",
       "    }\n",
       "\n",
       "    .dataframe tbody tr th {\n",
       "        vertical-align: top;\n",
       "    }\n",
       "\n",
       "    .dataframe thead th {\n",
       "        text-align: right;\n",
       "    }\n",
       "</style>\n",
       "<table border=\"1\" class=\"dataframe\">\n",
       "  <thead>\n",
       "    <tr style=\"text-align: right;\">\n",
       "      <th></th>\n",
       "      <th>date</th>\n",
       "      <th>HOW_MANY</th>\n",
       "      <th>Cluster</th>\n",
       "      <th>no_of_Accipiter sp.</th>\n",
       "      <th>no_of_American Crow</th>\n",
       "      <th>no_of_American Goldfinch</th>\n",
       "      <th>no_of_American Kestrel</th>\n",
       "      <th>no_of_American Robin</th>\n",
       "      <th>no_of_American Tree Sparrow</th>\n",
       "      <th>no_of_American Wigeon</th>\n",
       "      <th>...</th>\n",
       "      <th>no_of_Western Meadowlark</th>\n",
       "      <th>no_of_White-breasted Nuthatch</th>\n",
       "      <th>no_of_White-crowned Sparrow</th>\n",
       "      <th>no_of_White-throated Sparrow</th>\n",
       "      <th>no_of_Winter Wren</th>\n",
       "      <th>no_of_Wood Duck</th>\n",
       "      <th>no_of_Yellow-rumped Warbler</th>\n",
       "      <th>no_of_Yellow-rumped Warbler (Audubon's)</th>\n",
       "      <th>no_of_hawk sp.</th>\n",
       "      <th>no_of_rosy-finch sp.</th>\n",
       "    </tr>\n",
       "  </thead>\n",
       "  <tbody>\n",
       "    <tr>\n",
       "      <th>1</th>\n",
       "      <td>2010-11-22</td>\n",
       "      <td>1.0</td>\n",
       "      <td>0</td>\n",
       "      <td>0</td>\n",
       "      <td>0</td>\n",
       "      <td>0</td>\n",
       "      <td>0</td>\n",
       "      <td>0</td>\n",
       "      <td>0</td>\n",
       "      <td>0</td>\n",
       "      <td>...</td>\n",
       "      <td>0</td>\n",
       "      <td>1</td>\n",
       "      <td>0</td>\n",
       "      <td>0</td>\n",
       "      <td>0</td>\n",
       "      <td>0</td>\n",
       "      <td>0</td>\n",
       "      <td>0</td>\n",
       "      <td>0</td>\n",
       "      <td>0</td>\n",
       "    </tr>\n",
       "  </tbody>\n",
       "</table>\n",
       "<p>1 rows × 117 columns</p>\n",
       "</div>"
      ],
      "text/plain": [
       "         date  HOW_MANY  Cluster  no_of_Accipiter sp.  no_of_American Crow  \\\n",
       "1  2010-11-22       1.0        0                    0                    0   \n",
       "\n",
       "   no_of_American Goldfinch  no_of_American Kestrel  no_of_American Robin  \\\n",
       "1                         0                       0                     0   \n",
       "\n",
       "   no_of_American Tree Sparrow  no_of_American Wigeon  ...  \\\n",
       "1                            0                      0  ...   \n",
       "\n",
       "   no_of_Western Meadowlark  no_of_White-breasted Nuthatch  \\\n",
       "1                         0                              1   \n",
       "\n",
       "   no_of_White-crowned Sparrow  no_of_White-throated Sparrow  \\\n",
       "1                            0                             0   \n",
       "\n",
       "   no_of_Winter Wren  no_of_Wood Duck  no_of_Yellow-rumped Warbler  \\\n",
       "1                  0                0                            0   \n",
       "\n",
       "   no_of_Yellow-rumped Warbler (Audubon's)  no_of_hawk sp.  \\\n",
       "1                                        0               0   \n",
       "\n",
       "   no_of_rosy-finch sp.  \n",
       "1                     0  \n",
       "\n",
       "[1 rows x 117 columns]"
      ]
     },
     "metadata": {},
     "output_type": "display_data"
    },
    {
     "name": "stdout",
     "output_type": "stream",
     "text": [
      "1\n"
     ]
    },
    {
     "data": {
      "text/plain": [
       "(29803, 88)"
      ]
     },
     "metadata": {},
     "output_type": "display_data"
    },
    {
     "data": {
      "text/html": [
       "<div>\n",
       "<style scoped>\n",
       "    .dataframe tbody tr th:only-of-type {\n",
       "        vertical-align: middle;\n",
       "    }\n",
       "\n",
       "    .dataframe tbody tr th {\n",
       "        vertical-align: top;\n",
       "    }\n",
       "\n",
       "    .dataframe thead th {\n",
       "        text-align: right;\n",
       "    }\n",
       "</style>\n",
       "<table border=\"1\" class=\"dataframe\">\n",
       "  <thead>\n",
       "    <tr style=\"text-align: right;\">\n",
       "      <th></th>\n",
       "      <th>date</th>\n",
       "      <th>HOW_MANY</th>\n",
       "      <th>Cluster</th>\n",
       "      <th>no_of_American Crow</th>\n",
       "      <th>no_of_American Goldfinch</th>\n",
       "      <th>no_of_American Robin</th>\n",
       "      <th>no_of_American Tree Sparrow</th>\n",
       "      <th>no_of_American Wigeon</th>\n",
       "      <th>no_of_Bald Eagle</th>\n",
       "      <th>no_of_Barred Owl</th>\n",
       "      <th>...</th>\n",
       "      <th>no_of_Varied Thrush</th>\n",
       "      <th>no_of_Violet-green Swallow</th>\n",
       "      <th>no_of_White-breasted Nuthatch</th>\n",
       "      <th>no_of_White-crowned Sparrow</th>\n",
       "      <th>no_of_White-throated Sparrow</th>\n",
       "      <th>no_of_White-winged Crossbill</th>\n",
       "      <th>no_of_Winter Wren</th>\n",
       "      <th>no_of_Yellow-rumped Warbler</th>\n",
       "      <th>no_of_hawk sp.</th>\n",
       "      <th>no_of_rosy-finch sp.</th>\n",
       "    </tr>\n",
       "  </thead>\n",
       "  <tbody>\n",
       "    <tr>\n",
       "      <th>16</th>\n",
       "      <td>2012-11-17</td>\n",
       "      <td>1.0</td>\n",
       "      <td>1</td>\n",
       "      <td>0</td>\n",
       "      <td>0</td>\n",
       "      <td>0</td>\n",
       "      <td>0</td>\n",
       "      <td>0</td>\n",
       "      <td>0</td>\n",
       "      <td>0</td>\n",
       "      <td>...</td>\n",
       "      <td>0</td>\n",
       "      <td>0</td>\n",
       "      <td>1</td>\n",
       "      <td>0</td>\n",
       "      <td>0</td>\n",
       "      <td>0</td>\n",
       "      <td>0</td>\n",
       "      <td>0</td>\n",
       "      <td>0</td>\n",
       "      <td>0</td>\n",
       "    </tr>\n",
       "  </tbody>\n",
       "</table>\n",
       "<p>1 rows × 88 columns</p>\n",
       "</div>"
      ],
      "text/plain": [
       "          date  HOW_MANY  Cluster  no_of_American Crow  \\\n",
       "16  2012-11-17       1.0        1                    0   \n",
       "\n",
       "    no_of_American Goldfinch  no_of_American Robin  \\\n",
       "16                         0                     0   \n",
       "\n",
       "    no_of_American Tree Sparrow  no_of_American Wigeon  no_of_Bald Eagle  \\\n",
       "16                            0                      0                 0   \n",
       "\n",
       "    no_of_Barred Owl  ...  no_of_Varied Thrush  no_of_Violet-green Swallow  \\\n",
       "16                 0  ...                    0                           0   \n",
       "\n",
       "    no_of_White-breasted Nuthatch  no_of_White-crowned Sparrow  \\\n",
       "16                              1                            0   \n",
       "\n",
       "    no_of_White-throated Sparrow  no_of_White-winged Crossbill  \\\n",
       "16                             0                             0   \n",
       "\n",
       "    no_of_Winter Wren  no_of_Yellow-rumped Warbler  no_of_hawk sp.  \\\n",
       "16                  0                            0               0   \n",
       "\n",
       "    no_of_rosy-finch sp.  \n",
       "16                     0  \n",
       "\n",
       "[1 rows x 88 columns]"
      ]
     },
     "metadata": {},
     "output_type": "display_data"
    },
    {
     "name": "stdout",
     "output_type": "stream",
     "text": [
      "2\n"
     ]
    },
    {
     "data": {
      "text/plain": [
       "(37967, 102)"
      ]
     },
     "metadata": {},
     "output_type": "display_data"
    },
    {
     "data": {
      "text/html": [
       "<div>\n",
       "<style scoped>\n",
       "    .dataframe tbody tr th:only-of-type {\n",
       "        vertical-align: middle;\n",
       "    }\n",
       "\n",
       "    .dataframe tbody tr th {\n",
       "        vertical-align: top;\n",
       "    }\n",
       "\n",
       "    .dataframe thead th {\n",
       "        text-align: right;\n",
       "    }\n",
       "</style>\n",
       "<table border=\"1\" class=\"dataframe\">\n",
       "  <thead>\n",
       "    <tr style=\"text-align: right;\">\n",
       "      <th></th>\n",
       "      <th>date</th>\n",
       "      <th>HOW_MANY</th>\n",
       "      <th>Cluster</th>\n",
       "      <th>no_of_American Crow</th>\n",
       "      <th>no_of_American Goldfinch</th>\n",
       "      <th>no_of_American Kestrel</th>\n",
       "      <th>no_of_American Robin</th>\n",
       "      <th>no_of_American Tree Sparrow</th>\n",
       "      <th>no_of_Anna's Hummingbird</th>\n",
       "      <th>no_of_Bald Eagle</th>\n",
       "      <th>...</th>\n",
       "      <th>no_of_Violet-green Swallow</th>\n",
       "      <th>no_of_Western Bluebird</th>\n",
       "      <th>no_of_White-breasted Nuthatch</th>\n",
       "      <th>no_of_White-crowned Sparrow</th>\n",
       "      <th>no_of_White-throated Sparrow</th>\n",
       "      <th>no_of_White-winged Crossbill</th>\n",
       "      <th>no_of_Wild Turkey</th>\n",
       "      <th>no_of_Winter Wren</th>\n",
       "      <th>no_of_Yellow-rumped Warbler</th>\n",
       "      <th>no_of_rosy-finch sp.</th>\n",
       "    </tr>\n",
       "  </thead>\n",
       "  <tbody>\n",
       "    <tr>\n",
       "      <th>17</th>\n",
       "      <td>2013-03-29</td>\n",
       "      <td>10.0</td>\n",
       "      <td>2</td>\n",
       "      <td>0</td>\n",
       "      <td>0</td>\n",
       "      <td>0</td>\n",
       "      <td>0</td>\n",
       "      <td>0</td>\n",
       "      <td>0</td>\n",
       "      <td>0</td>\n",
       "      <td>...</td>\n",
       "      <td>0</td>\n",
       "      <td>0</td>\n",
       "      <td>1</td>\n",
       "      <td>0</td>\n",
       "      <td>0</td>\n",
       "      <td>0</td>\n",
       "      <td>0</td>\n",
       "      <td>0</td>\n",
       "      <td>0</td>\n",
       "      <td>0</td>\n",
       "    </tr>\n",
       "  </tbody>\n",
       "</table>\n",
       "<p>1 rows × 102 columns</p>\n",
       "</div>"
      ],
      "text/plain": [
       "          date  HOW_MANY  Cluster  no_of_American Crow  \\\n",
       "17  2013-03-29      10.0        2                    0   \n",
       "\n",
       "    no_of_American Goldfinch  no_of_American Kestrel  no_of_American Robin  \\\n",
       "17                         0                       0                     0   \n",
       "\n",
       "    no_of_American Tree Sparrow  no_of_Anna's Hummingbird  no_of_Bald Eagle  \\\n",
       "17                            0                         0                 0   \n",
       "\n",
       "    ...  no_of_Violet-green Swallow  no_of_Western Bluebird  \\\n",
       "17  ...                           0                       0   \n",
       "\n",
       "    no_of_White-breasted Nuthatch  no_of_White-crowned Sparrow  \\\n",
       "17                              1                            0   \n",
       "\n",
       "    no_of_White-throated Sparrow  no_of_White-winged Crossbill  \\\n",
       "17                             0                             0   \n",
       "\n",
       "    no_of_Wild Turkey  no_of_Winter Wren  no_of_Yellow-rumped Warbler  \\\n",
       "17                  0                  0                            0   \n",
       "\n",
       "    no_of_rosy-finch sp.  \n",
       "17                     0  \n",
       "\n",
       "[1 rows x 102 columns]"
      ]
     },
     "metadata": {},
     "output_type": "display_data"
    },
    {
     "name": "stdout",
     "output_type": "stream",
     "text": [
      "3\n"
     ]
    },
    {
     "data": {
      "text/plain": [
       "(43898, 93)"
      ]
     },
     "metadata": {},
     "output_type": "display_data"
    },
    {
     "data": {
      "text/html": [
       "<div>\n",
       "<style scoped>\n",
       "    .dataframe tbody tr th:only-of-type {\n",
       "        vertical-align: middle;\n",
       "    }\n",
       "\n",
       "    .dataframe tbody tr th {\n",
       "        vertical-align: top;\n",
       "    }\n",
       "\n",
       "    .dataframe thead th {\n",
       "        text-align: right;\n",
       "    }\n",
       "</style>\n",
       "<table border=\"1\" class=\"dataframe\">\n",
       "  <thead>\n",
       "    <tr style=\"text-align: right;\">\n",
       "      <th></th>\n",
       "      <th>date</th>\n",
       "      <th>HOW_MANY</th>\n",
       "      <th>Cluster</th>\n",
       "      <th>no_of_American Crow</th>\n",
       "      <th>no_of_American Goldfinch</th>\n",
       "      <th>no_of_American Kestrel</th>\n",
       "      <th>no_of_American Robin</th>\n",
       "      <th>no_of_American Tree Sparrow</th>\n",
       "      <th>no_of_Anna's Hummingbird</th>\n",
       "      <th>no_of_Bald Eagle</th>\n",
       "      <th>...</th>\n",
       "      <th>no_of_Townsend's Warbler</th>\n",
       "      <th>no_of_Turkey Vulture</th>\n",
       "      <th>no_of_Varied Thrush</th>\n",
       "      <th>no_of_Violet-green Swallow</th>\n",
       "      <th>no_of_White-breasted Nuthatch</th>\n",
       "      <th>no_of_White-crowned Sparrow</th>\n",
       "      <th>no_of_White-throated Sparrow</th>\n",
       "      <th>no_of_Winter Wren</th>\n",
       "      <th>no_of_Yellow-rumped Warbler</th>\n",
       "      <th>no_of_Yellow-rumped Warbler (Audubon's)</th>\n",
       "    </tr>\n",
       "  </thead>\n",
       "  <tbody>\n",
       "    <tr>\n",
       "      <th>45</th>\n",
       "      <td>2013-03-14</td>\n",
       "      <td>1.0</td>\n",
       "      <td>3</td>\n",
       "      <td>0</td>\n",
       "      <td>0</td>\n",
       "      <td>0</td>\n",
       "      <td>0</td>\n",
       "      <td>0</td>\n",
       "      <td>0</td>\n",
       "      <td>0</td>\n",
       "      <td>...</td>\n",
       "      <td>0</td>\n",
       "      <td>0</td>\n",
       "      <td>0</td>\n",
       "      <td>0</td>\n",
       "      <td>1</td>\n",
       "      <td>0</td>\n",
       "      <td>0</td>\n",
       "      <td>0</td>\n",
       "      <td>0</td>\n",
       "      <td>0</td>\n",
       "    </tr>\n",
       "  </tbody>\n",
       "</table>\n",
       "<p>1 rows × 93 columns</p>\n",
       "</div>"
      ],
      "text/plain": [
       "          date  HOW_MANY  Cluster  no_of_American Crow  \\\n",
       "45  2013-03-14       1.0        3                    0   \n",
       "\n",
       "    no_of_American Goldfinch  no_of_American Kestrel  no_of_American Robin  \\\n",
       "45                         0                       0                     0   \n",
       "\n",
       "    no_of_American Tree Sparrow  no_of_Anna's Hummingbird  no_of_Bald Eagle  \\\n",
       "45                            0                         0                 0   \n",
       "\n",
       "    ...  no_of_Townsend's Warbler  no_of_Turkey Vulture  no_of_Varied Thrush  \\\n",
       "45  ...                         0                     0                    0   \n",
       "\n",
       "    no_of_Violet-green Swallow  no_of_White-breasted Nuthatch  \\\n",
       "45                           0                              1   \n",
       "\n",
       "    no_of_White-crowned Sparrow  no_of_White-throated Sparrow  \\\n",
       "45                            0                             0   \n",
       "\n",
       "    no_of_Winter Wren  no_of_Yellow-rumped Warbler  \\\n",
       "45                  0                            0   \n",
       "\n",
       "    no_of_Yellow-rumped Warbler (Audubon's)  \n",
       "45                                        0  \n",
       "\n",
       "[1 rows x 93 columns]"
      ]
     },
     "metadata": {},
     "output_type": "display_data"
    },
    {
     "name": "stdout",
     "output_type": "stream",
     "text": [
      "4\n"
     ]
    },
    {
     "data": {
      "text/plain": [
       "(79842, 108)"
      ]
     },
     "metadata": {},
     "output_type": "display_data"
    },
    {
     "data": {
      "text/html": [
       "<div>\n",
       "<style scoped>\n",
       "    .dataframe tbody tr th:only-of-type {\n",
       "        vertical-align: middle;\n",
       "    }\n",
       "\n",
       "    .dataframe tbody tr th {\n",
       "        vertical-align: top;\n",
       "    }\n",
       "\n",
       "    .dataframe thead th {\n",
       "        text-align: right;\n",
       "    }\n",
       "</style>\n",
       "<table border=\"1\" class=\"dataframe\">\n",
       "  <thead>\n",
       "    <tr style=\"text-align: right;\">\n",
       "      <th></th>\n",
       "      <th>date</th>\n",
       "      <th>HOW_MANY</th>\n",
       "      <th>Cluster</th>\n",
       "      <th>no_of_Accipiter sp.</th>\n",
       "      <th>no_of_American Crow</th>\n",
       "      <th>no_of_American Goldfinch</th>\n",
       "      <th>no_of_American Kestrel</th>\n",
       "      <th>no_of_American Robin</th>\n",
       "      <th>no_of_American Tree Sparrow</th>\n",
       "      <th>no_of_Anna's Hummingbird</th>\n",
       "      <th>...</th>\n",
       "      <th>no_of_Western Meadowlark</th>\n",
       "      <th>no_of_White-breasted Nuthatch</th>\n",
       "      <th>no_of_White-crowned Sparrow</th>\n",
       "      <th>no_of_White-throated Sparrow</th>\n",
       "      <th>no_of_White-winged Crossbill</th>\n",
       "      <th>no_of_Winter Wren</th>\n",
       "      <th>no_of_Wood Duck</th>\n",
       "      <th>no_of_Yellow-rumped Warbler</th>\n",
       "      <th>no_of_Yellow-rumped Warbler (Audubon's)</th>\n",
       "      <th>no_of_rosy-finch sp.</th>\n",
       "    </tr>\n",
       "  </thead>\n",
       "  <tbody>\n",
       "    <tr>\n",
       "      <th>0</th>\n",
       "      <td>2011-02-07</td>\n",
       "      <td>2.0</td>\n",
       "      <td>4</td>\n",
       "      <td>0</td>\n",
       "      <td>0</td>\n",
       "      <td>0</td>\n",
       "      <td>0</td>\n",
       "      <td>0</td>\n",
       "      <td>0</td>\n",
       "      <td>0</td>\n",
       "      <td>...</td>\n",
       "      <td>0</td>\n",
       "      <td>1</td>\n",
       "      <td>0</td>\n",
       "      <td>0</td>\n",
       "      <td>0</td>\n",
       "      <td>0</td>\n",
       "      <td>0</td>\n",
       "      <td>0</td>\n",
       "      <td>0</td>\n",
       "      <td>0</td>\n",
       "    </tr>\n",
       "  </tbody>\n",
       "</table>\n",
       "<p>1 rows × 108 columns</p>\n",
       "</div>"
      ],
      "text/plain": [
       "         date  HOW_MANY  Cluster  no_of_Accipiter sp.  no_of_American Crow  \\\n",
       "0  2011-02-07       2.0        4                    0                    0   \n",
       "\n",
       "   no_of_American Goldfinch  no_of_American Kestrel  no_of_American Robin  \\\n",
       "0                         0                       0                     0   \n",
       "\n",
       "   no_of_American Tree Sparrow  no_of_Anna's Hummingbird  ...  \\\n",
       "0                            0                         0  ...   \n",
       "\n",
       "   no_of_Western Meadowlark  no_of_White-breasted Nuthatch  \\\n",
       "0                         0                              1   \n",
       "\n",
       "   no_of_White-crowned Sparrow  no_of_White-throated Sparrow  \\\n",
       "0                            0                             0   \n",
       "\n",
       "   no_of_White-winged Crossbill  no_of_Winter Wren  no_of_Wood Duck  \\\n",
       "0                             0                  0                0   \n",
       "\n",
       "   no_of_Yellow-rumped Warbler  no_of_Yellow-rumped Warbler (Audubon's)  \\\n",
       "0                            0                                        0   \n",
       "\n",
       "   no_of_rosy-finch sp.  \n",
       "0                     0  \n",
       "\n",
       "[1 rows x 108 columns]"
      ]
     },
     "metadata": {},
     "output_type": "display_data"
    },
    {
     "name": "stdout",
     "output_type": "stream",
     "text": [
      "5\n"
     ]
    },
    {
     "data": {
      "text/plain": [
       "(131652, 113)"
      ]
     },
     "metadata": {},
     "output_type": "display_data"
    },
    {
     "data": {
      "text/html": [
       "<div>\n",
       "<style scoped>\n",
       "    .dataframe tbody tr th:only-of-type {\n",
       "        vertical-align: middle;\n",
       "    }\n",
       "\n",
       "    .dataframe tbody tr th {\n",
       "        vertical-align: top;\n",
       "    }\n",
       "\n",
       "    .dataframe thead th {\n",
       "        text-align: right;\n",
       "    }\n",
       "</style>\n",
       "<table border=\"1\" class=\"dataframe\">\n",
       "  <thead>\n",
       "    <tr style=\"text-align: right;\">\n",
       "      <th></th>\n",
       "      <th>date</th>\n",
       "      <th>HOW_MANY</th>\n",
       "      <th>Cluster</th>\n",
       "      <th>no_of_Accipiter sp.</th>\n",
       "      <th>no_of_American Crow</th>\n",
       "      <th>no_of_American Goldfinch</th>\n",
       "      <th>no_of_American Kestrel</th>\n",
       "      <th>no_of_American Robin</th>\n",
       "      <th>no_of_American Tree Sparrow</th>\n",
       "      <th>no_of_Anna's Hummingbird</th>\n",
       "      <th>...</th>\n",
       "      <th>no_of_White-crowned Sparrow</th>\n",
       "      <th>no_of_White-throated Sparrow</th>\n",
       "      <th>no_of_White-winged Crossbill</th>\n",
       "      <th>no_of_Wild Turkey</th>\n",
       "      <th>no_of_Winter Wren</th>\n",
       "      <th>no_of_Wood Duck</th>\n",
       "      <th>no_of_Yellow-rumped Warbler</th>\n",
       "      <th>no_of_Yellow-rumped Warbler (Audubon's)</th>\n",
       "      <th>no_of_gull sp.</th>\n",
       "      <th>no_of_rosy-finch sp.</th>\n",
       "    </tr>\n",
       "  </thead>\n",
       "  <tbody>\n",
       "    <tr>\n",
       "      <th>4</th>\n",
       "      <td>2011-03-06</td>\n",
       "      <td>2.0</td>\n",
       "      <td>5</td>\n",
       "      <td>0</td>\n",
       "      <td>0</td>\n",
       "      <td>0</td>\n",
       "      <td>0</td>\n",
       "      <td>0</td>\n",
       "      <td>0</td>\n",
       "      <td>0</td>\n",
       "      <td>...</td>\n",
       "      <td>0</td>\n",
       "      <td>0</td>\n",
       "      <td>0</td>\n",
       "      <td>0</td>\n",
       "      <td>0</td>\n",
       "      <td>0</td>\n",
       "      <td>0</td>\n",
       "      <td>0</td>\n",
       "      <td>0</td>\n",
       "      <td>0</td>\n",
       "    </tr>\n",
       "  </tbody>\n",
       "</table>\n",
       "<p>1 rows × 113 columns</p>\n",
       "</div>"
      ],
      "text/plain": [
       "         date  HOW_MANY  Cluster  no_of_Accipiter sp.  no_of_American Crow  \\\n",
       "4  2011-03-06       2.0        5                    0                    0   \n",
       "\n",
       "   no_of_American Goldfinch  no_of_American Kestrel  no_of_American Robin  \\\n",
       "4                         0                       0                     0   \n",
       "\n",
       "   no_of_American Tree Sparrow  no_of_Anna's Hummingbird  ...  \\\n",
       "4                            0                         0  ...   \n",
       "\n",
       "   no_of_White-crowned Sparrow  no_of_White-throated Sparrow  \\\n",
       "4                            0                             0   \n",
       "\n",
       "   no_of_White-winged Crossbill  no_of_Wild Turkey  no_of_Winter Wren  \\\n",
       "4                             0                  0                  0   \n",
       "\n",
       "   no_of_Wood Duck  no_of_Yellow-rumped Warbler  \\\n",
       "4                0                            0   \n",
       "\n",
       "   no_of_Yellow-rumped Warbler (Audubon's)  no_of_gull sp.  \\\n",
       "4                                        0               0   \n",
       "\n",
       "   no_of_rosy-finch sp.  \n",
       "4                     0  \n",
       "\n",
       "[1 rows x 113 columns]"
      ]
     },
     "metadata": {},
     "output_type": "display_data"
    },
    {
     "name": "stdout",
     "output_type": "stream",
     "text": [
      "6\n"
     ]
    },
    {
     "data": {
      "text/plain": [
       "(14240, 77)"
      ]
     },
     "metadata": {},
     "output_type": "display_data"
    },
    {
     "data": {
      "text/html": [
       "<div>\n",
       "<style scoped>\n",
       "    .dataframe tbody tr th:only-of-type {\n",
       "        vertical-align: middle;\n",
       "    }\n",
       "\n",
       "    .dataframe tbody tr th {\n",
       "        vertical-align: top;\n",
       "    }\n",
       "\n",
       "    .dataframe thead th {\n",
       "        text-align: right;\n",
       "    }\n",
       "</style>\n",
       "<table border=\"1\" class=\"dataframe\">\n",
       "  <thead>\n",
       "    <tr style=\"text-align: right;\">\n",
       "      <th></th>\n",
       "      <th>date</th>\n",
       "      <th>HOW_MANY</th>\n",
       "      <th>Cluster</th>\n",
       "      <th>no_of_American Crow</th>\n",
       "      <th>no_of_American Goldfinch</th>\n",
       "      <th>no_of_American Kestrel</th>\n",
       "      <th>no_of_American Robin</th>\n",
       "      <th>no_of_American Tree Sparrow</th>\n",
       "      <th>no_of_Anna's Hummingbird</th>\n",
       "      <th>no_of_Bald Eagle</th>\n",
       "      <th>...</th>\n",
       "      <th>no_of_Song Sparrow</th>\n",
       "      <th>no_of_Spotted Towhee</th>\n",
       "      <th>no_of_Steller's Jay</th>\n",
       "      <th>no_of_Varied Thrush</th>\n",
       "      <th>no_of_White-breasted Nuthatch</th>\n",
       "      <th>no_of_White-crowned Sparrow</th>\n",
       "      <th>no_of_White-throated Sparrow</th>\n",
       "      <th>no_of_White-winged Crossbill</th>\n",
       "      <th>no_of_Winter Wren</th>\n",
       "      <th>no_of_Yellow-rumped Warbler</th>\n",
       "    </tr>\n",
       "  </thead>\n",
       "  <tbody>\n",
       "    <tr>\n",
       "      <th>866</th>\n",
       "      <td>2018-12-02</td>\n",
       "      <td>1.0</td>\n",
       "      <td>6</td>\n",
       "      <td>0</td>\n",
       "      <td>0</td>\n",
       "      <td>0</td>\n",
       "      <td>0</td>\n",
       "      <td>0</td>\n",
       "      <td>0</td>\n",
       "      <td>0</td>\n",
       "      <td>...</td>\n",
       "      <td>0</td>\n",
       "      <td>0</td>\n",
       "      <td>0</td>\n",
       "      <td>0</td>\n",
       "      <td>1</td>\n",
       "      <td>0</td>\n",
       "      <td>0</td>\n",
       "      <td>0</td>\n",
       "      <td>0</td>\n",
       "      <td>0</td>\n",
       "    </tr>\n",
       "  </tbody>\n",
       "</table>\n",
       "<p>1 rows × 77 columns</p>\n",
       "</div>"
      ],
      "text/plain": [
       "           date  HOW_MANY  Cluster  no_of_American Crow  \\\n",
       "866  2018-12-02       1.0        6                    0   \n",
       "\n",
       "     no_of_American Goldfinch  no_of_American Kestrel  no_of_American Robin  \\\n",
       "866                         0                       0                     0   \n",
       "\n",
       "     no_of_American Tree Sparrow  no_of_Anna's Hummingbird  no_of_Bald Eagle  \\\n",
       "866                            0                         0                 0   \n",
       "\n",
       "     ...  no_of_Song Sparrow  no_of_Spotted Towhee  no_of_Steller's Jay  \\\n",
       "866  ...                   0                     0                    0   \n",
       "\n",
       "     no_of_Varied Thrush  no_of_White-breasted Nuthatch  \\\n",
       "866                    0                              1   \n",
       "\n",
       "     no_of_White-crowned Sparrow  no_of_White-throated Sparrow  \\\n",
       "866                            0                             0   \n",
       "\n",
       "     no_of_White-winged Crossbill  no_of_Winter Wren  \\\n",
       "866                             0                  0   \n",
       "\n",
       "     no_of_Yellow-rumped Warbler  \n",
       "866                            0  \n",
       "\n",
       "[1 rows x 77 columns]"
      ]
     },
     "metadata": {},
     "output_type": "display_data"
    },
    {
     "name": "stdout",
     "output_type": "stream",
     "text": [
      "7\n"
     ]
    },
    {
     "data": {
      "text/plain": [
       "(6263, 51)"
      ]
     },
     "metadata": {},
     "output_type": "display_data"
    },
    {
     "data": {
      "text/html": [
       "<div>\n",
       "<style scoped>\n",
       "    .dataframe tbody tr th:only-of-type {\n",
       "        vertical-align: middle;\n",
       "    }\n",
       "\n",
       "    .dataframe tbody tr th {\n",
       "        vertical-align: top;\n",
       "    }\n",
       "\n",
       "    .dataframe thead th {\n",
       "        text-align: right;\n",
       "    }\n",
       "</style>\n",
       "<table border=\"1\" class=\"dataframe\">\n",
       "  <thead>\n",
       "    <tr style=\"text-align: right;\">\n",
       "      <th></th>\n",
       "      <th>date</th>\n",
       "      <th>HOW_MANY</th>\n",
       "      <th>Cluster</th>\n",
       "      <th>no_of_American Crow</th>\n",
       "      <th>no_of_American Robin</th>\n",
       "      <th>no_of_American Tree Sparrow</th>\n",
       "      <th>no_of_Bald Eagle</th>\n",
       "      <th>no_of_Black-billed Magpie</th>\n",
       "      <th>no_of_Black-capped Chickadee</th>\n",
       "      <th>no_of_Blue Jay</th>\n",
       "      <th>...</th>\n",
       "      <th>no_of_Red-winged Blackbird</th>\n",
       "      <th>no_of_Rock Pigeon (Feral Pigeon)</th>\n",
       "      <th>no_of_Ruffed Grouse</th>\n",
       "      <th>no_of_Sharp-shinned Hawk</th>\n",
       "      <th>no_of_Snow Bunting</th>\n",
       "      <th>no_of_Steller's Jay</th>\n",
       "      <th>no_of_White-breasted Nuthatch</th>\n",
       "      <th>no_of_White-crowned Sparrow</th>\n",
       "      <th>no_of_White-throated Sparrow</th>\n",
       "      <th>no_of_White-winged Crossbill</th>\n",
       "    </tr>\n",
       "  </thead>\n",
       "  <tbody>\n",
       "    <tr>\n",
       "      <th>5</th>\n",
       "      <td>2011-11-19</td>\n",
       "      <td>1.0</td>\n",
       "      <td>7</td>\n",
       "      <td>0</td>\n",
       "      <td>0</td>\n",
       "      <td>0</td>\n",
       "      <td>0</td>\n",
       "      <td>0</td>\n",
       "      <td>0</td>\n",
       "      <td>0</td>\n",
       "      <td>...</td>\n",
       "      <td>0</td>\n",
       "      <td>0</td>\n",
       "      <td>0</td>\n",
       "      <td>0</td>\n",
       "      <td>0</td>\n",
       "      <td>0</td>\n",
       "      <td>1</td>\n",
       "      <td>0</td>\n",
       "      <td>0</td>\n",
       "      <td>0</td>\n",
       "    </tr>\n",
       "  </tbody>\n",
       "</table>\n",
       "<p>1 rows × 51 columns</p>\n",
       "</div>"
      ],
      "text/plain": [
       "         date  HOW_MANY  Cluster  no_of_American Crow  no_of_American Robin  \\\n",
       "5  2011-11-19       1.0        7                    0                     0   \n",
       "\n",
       "   no_of_American Tree Sparrow  no_of_Bald Eagle  no_of_Black-billed Magpie  \\\n",
       "5                            0                 0                          0   \n",
       "\n",
       "   no_of_Black-capped Chickadee  no_of_Blue Jay  ...  \\\n",
       "5                             0               0  ...   \n",
       "\n",
       "   no_of_Red-winged Blackbird  no_of_Rock Pigeon (Feral Pigeon)  \\\n",
       "5                           0                                 0   \n",
       "\n",
       "   no_of_Ruffed Grouse  no_of_Sharp-shinned Hawk  no_of_Snow Bunting  \\\n",
       "5                    0                         0                   0   \n",
       "\n",
       "   no_of_Steller's Jay  no_of_White-breasted Nuthatch  \\\n",
       "5                    0                              1   \n",
       "\n",
       "   no_of_White-crowned Sparrow  no_of_White-throated Sparrow  \\\n",
       "5                            0                             0   \n",
       "\n",
       "   no_of_White-winged Crossbill  \n",
       "5                             0  \n",
       "\n",
       "[1 rows x 51 columns]"
      ]
     },
     "metadata": {},
     "output_type": "display_data"
    }
   ],
   "source": [
    "#For each of the location clusters, show the size of the dataframe and the first row\n",
    "\n",
    "for i in range(8):\n",
    "    print(i)\n",
    "    display(globals()[f\"df_dummy_{i}\"].shape)\n",
    "    display(globals()[f\"df_dummy_{i}\"].head(1))"
   ]
  },
  {
   "cell_type": "markdown",
   "id": "c1b1e533",
   "metadata": {},
   "source": [
    "Because different bird species appear in different clusters, the number of columns varies across the different dataframes."
   ]
  },
  {
   "cell_type": "markdown",
   "id": "dd3cfcf0",
   "metadata": {},
   "source": [
    "The data now represents whether or not a certain species was seen in a day. We will combine the `HOW_MANY` column with the dummy columns `no_of___`"
   ]
  },
  {
   "cell_type": "code",
   "execution_count": 12,
   "id": "5536b430",
   "metadata": {},
   "outputs": [],
   "source": [
    "#Multiply the dummy variables by the \"How many\" column\n",
    "\n",
    "for i in range(8):\n",
    "    df = globals()[f\"df_dummy_{i}\"]\n",
    "    bird_species = df.columns[3:] # All the columns containing bird species\n",
    "    for col in bird_species:\n",
    "       globals()[f\"df_dummy_{i}\"][col] *= df['HOW_MANY']"
   ]
  },
  {
   "cell_type": "code",
   "execution_count": 13,
   "id": "577881f2",
   "metadata": {},
   "outputs": [],
   "source": [
    "#Drop the \"How Many\" column and the \"Cluster from each dataframe\n",
    "\n",
    "for i in range(8):\n",
    "    df = globals()[f\"df_dummy_{i}\"]\n",
    "    globals()[f\"df_dummy_{i}\"].drop(columns=['HOW_MANY'], inplace=True)\n",
    "    globals()[f\"df_dummy_{i}\"].drop(columns=['Cluster'], inplace=True)\n"
   ]
  },
  {
   "cell_type": "markdown",
   "id": "32c7e78f-c30d-45de-a4a2-2e21700f5797",
   "metadata": {},
   "source": [
    "**Fill in missing dates**"
   ]
  },
  {
   "cell_type": "markdown",
   "id": "4ed968cc-9bd2-4b9d-8d22-8ae2b4ca51f8",
   "metadata": {},
   "source": [
    "We will group the data by the date columns to have one row of data for each day. Furthermore, we will have to fill in any missing dates with zeros in order to have continuos data."
   ]
  },
  {
   "cell_type": "code",
   "execution_count": 14,
   "id": "c752ba2a-f725-476a-8e20-3084cef5ccf0",
   "metadata": {},
   "outputs": [],
   "source": [
    "# Group each dataframe by the date column and set it as the new index\n",
    "\n",
    "for i in range(8):\n",
    "    df = globals()[f\"df_dummy_{i}\"]\n",
    "    globals()[f\"df_dummy_{i}\"]= df.groupby(['date']).sum()\n",
    "    globals()[f\"df_dummy_{i}\"].reset_index().set_index('date')"
   ]
  },
  {
   "cell_type": "code",
   "execution_count": 16,
   "id": "2cb0a069-d1d3-4e3b-a5aa-7df505066adb",
   "metadata": {},
   "outputs": [
    {
     "name": "stdout",
     "output_type": "stream",
     "text": [
      "['2010-11-01', '2010-11-13', '2010-11-13', '2010-11-13', '2010-11-13', '2010-11-13', '2010-11-13', '2010-11-13']\n",
      "['2023-04-29', '2023-04-29', '2023-04-29', '2023-04-29', '2023-04-29', '2023-04-29', '2023-04-29', '2023-04-28']\n"
     ]
    }
   ],
   "source": [
    "#For each of the dataframes, save the first and last name in a list to compare timeframes\n",
    "\n",
    "first_day = []\n",
    "last_day = []\n",
    "for i in range(8):\n",
    "    df = globals()[f\"df_dummy_{i}\"]\n",
    "    first = df.index.min()\n",
    "    last = df.index.max()\n",
    "    first_day.append(first)\n",
    "    last_day.append(last)\n",
    "\n",
    "print(first_day)\n",
    "print(last_day)\n",
    "    "
   ]
  },
  {
   "cell_type": "markdown",
   "id": "c2849b9e-ede7-424f-ac20-1ac09b39759c",
   "metadata": {},
   "source": [
    "The date ranges are overall very similar. We will work with these ranges and not adjust them additionally by making them all the exact same. Instead, we will just identify missing values for each dataframe within its individual range and fill these dates with zeros. Note that the survey collecting observations is only active in the Winter months, which is why a lot of missing dates during the summer are expected."
   ]
  },
  {
   "cell_type": "code",
   "execution_count": 29,
   "id": "12fbde13-559d-4853-a677-2fabab024cee",
   "metadata": {},
   "outputs": [],
   "source": [
    "# Add the missing dates \n",
    "\n",
    "for i in range(8):\n",
    "    full_range = pd.date_range(start=first_day[i], end=last_day[i], freq=\"D\")\n",
    "    df = globals()[f\"df_dummy_{i}\"]\n",
    "    globals()[f\"df_dummy_{i}\"] = df.reindex(full_range)\n",
    "    full_range.difference(df.index)\n",
    "\n"
   ]
  },
  {
   "cell_type": "code",
   "execution_count": 37,
   "id": "349b3ab9-6c15-4daf-b46e-218c593a0a41",
   "metadata": {},
   "outputs": [],
   "source": [
    "# Fill in missing values with zeros\n",
    "\n",
    "for i in range(8):\n",
    "    df = globals()[f\"df_dummy_{i}\"]\n",
    "    globals()[f\"df_clean_{i}\"] = df.fillna(0)\n"
   ]
  },
  {
   "cell_type": "code",
   "execution_count": 40,
   "id": "92050248-fea7-4ad9-9faf-7a46bc96e99b",
   "metadata": {},
   "outputs": [
    {
     "name": "stdout",
     "output_type": "stream",
     "text": [
      "0\n",
      "0\n",
      "0\n",
      "0\n",
      "0\n",
      "0\n",
      "0\n",
      "0\n"
     ]
    }
   ],
   "source": [
    "#Check for any missin values\n",
    "\n",
    "for i in range(8):\n",
    "    df = globals()[f\"df_clean_{i}\"]\n",
    "    print(df_clean_0.isna().sum().sum())"
   ]
  },
  {
   "cell_type": "markdown",
   "id": "eebfa028",
   "metadata": {},
   "source": [
    "#### Convert to monthly data"
   ]
  },
  {
   "cell_type": "code",
   "execution_count": null,
   "id": "89636ed8",
   "metadata": {},
   "outputs": [],
   "source": []
  },
  {
   "cell_type": "markdown",
   "id": "38b2661c-f345-4b9e-a4f5-75d5b37eec98",
   "metadata": {},
   "source": [
    "The data is now ready for modelling. We are not scaling the data right now."
   ]
  },
  {
   "cell_type": "markdown",
   "id": "73d94dc2",
   "metadata": {},
   "source": [
    "***\n",
    "[Back to Table of Contents](#ToC) \n",
    "***"
   ]
  },
  {
   "cell_type": "markdown",
   "id": "92f03311",
   "metadata": {},
   "source": [
    "### Part 2: Fit Models using Facebook Prophet <a class = \"anchor\" id = \"Part-2\"></a>"
   ]
  },
  {
   "cell_type": "code",
   "execution_count": null,
   "id": "c73e4ea2-8568-434d-b83a-ce4bcbb08638",
   "metadata": {},
   "outputs": [],
   "source": []
  }
 ],
 "metadata": {
  "kernelspec": {
   "display_name": "timeseries",
   "language": "python",
   "name": "timeseries"
  },
  "language_info": {
   "codemirror_mode": {
    "name": "ipython",
    "version": 3
   },
   "file_extension": ".py",
   "mimetype": "text/x-python",
   "name": "python",
   "nbconvert_exporter": "python",
   "pygments_lexer": "ipython3",
   "version": "3.11.4"
  }
 },
 "nbformat": 4,
 "nbformat_minor": 5
}
